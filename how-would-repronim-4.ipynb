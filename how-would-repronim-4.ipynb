{
 "cells": [
  {
   "cell_type": "markdown",
   "metadata": {},
   "source": [
    "# How would ReproNim do that?\n",
    "\n",
    "## Volume 4: Manage local FreeSurfer results\n",
    "\n",
    "This is the companion Jupyter notebook to *How would ReproNim do that Volume 4*."
   ]
  },
  {
   "cell_type": "markdown",
   "metadata": {},
   "source": [
    "To do: runtimes, DOI, link; abbreviated intro, skip installation"
   ]
  },
  {
   "cell_type": "markdown",
   "metadata": {},
   "source": [
    "### Problem statement\n",
    "\n",
    "I have performed a FreeSurfer analysis locally. I hear that ReproNim has some cool tools to manage the results of such an analysis. What are they and how do I do it?\n",
    "\n",
    "In this example I’ve run FreeSurfer 6.0 on a set of 17 ABIDE subjects. The FreeSurfer $SUBJECTS_DIR is subjects/ and is stripped down to contain only stats/aseg.stats, stats/lh.aparc.stats, stats/rh.aparc.stats, and scripts/build-stamp.txt for each subject."
   ]
  },
  {
   "cell_type": "markdown",
   "metadata": {},
   "source": [
    "### In theory\n",
    "\n",
    "Given the FreeSurfer results, we will use segstats_jsonld to create a NeuroImaging Data Model (NIDM) semantically marked up version of the volumetric data files. The semantic markup makes the FreeSurfer results self describing in that each result is associated with a concept that completely describes the result (type of measure (e.g. volume), structure (e.g. caudate nucleus), etc.). Complete semantic description of results makes integration of results from disparate sources easier. Once we’ve created the NIDM version of the FreeSurfer results, we can query our results using PyNIDM, and, more importantly, we can merge local results with publically available results and query across these combined data representations."
   ]
  },
  {
   "cell_type": "markdown",
   "metadata": {},
   "source": [
    "# EOF"
   ]
  },
  {
   "cell_type": "markdown",
   "metadata": {},
   "source": [
    "Run asegstats2nidm on a single subject (MTM001) in order to express my FreeSurfer results in NIDM."
   ]
  },
  {
   "cell_type": "markdown",
   "metadata": {},
   "source": [
    "This takes the aseg.stats file for my particular subject (MTM001) and generates the following files:"
   ]
  },
  {
   "cell_type": "markdown",
   "metadata": {},
   "source": [
    "Examine a NIDM file to see what it has using ‘PyNIDM query’. PyNIDM is installed with segstats_jsonld, but, if you need to reinstall it, see this link."
   ]
  },
  {
   "cell_type": "markdown",
   "metadata": {},
   "source": [
    "You can view this result file with:"
   ]
  },
  {
   "cell_type": "markdown",
   "metadata": {},
   "source": [
    "So, that was one subject, but I have a whole FreeSurfer Subjects_dir set of (N=24) results, let’s make a NIDM representation of this complete set. It is an exercise to the reader to figure out how to accomplish this. On my MAC, I did something like the following:"
   ]
  },
  {
   "cell_type": "markdown",
   "metadata": {},
   "source": [
    "This results in in a folder (MT) with subfolders for each subject (MTM001, etc.) which each contain the corresponding aseg_nidm.ttl, lh.aparc_nidm.ttl, and rh.aparc_nidm.ttl files."
   ]
  },
  {
   "cell_type": "markdown",
   "metadata": {},
   "source": [
    "It is unwieldy to work with 24 separate sets of files, so we can combine the relevant .ttl files into one, for our specific purposes. For the examples to follow, we will only need the ‘aseg’ results, so we will concatenate the ‘aseg’ NIDM files from each of the subjects into one file:"
   ]
  },
  {
   "cell_type": "markdown",
   "metadata": {},
   "source": [
    "Querying on this combined file. \n",
    "We can now query this combined file for various content (remember that all this file has is the regional volumes per subject). First, let’s just look at the whole file for brain volumes (-bv):"
   ]
  },
  {
   "cell_type": "markdown",
   "metadata": {},
   "source": [
    "You can ‘more’ this results file:"
   ]
  },
  {
   "cell_type": "markdown",
   "metadata": {},
   "source": [
    "Next, we can ask for a specific brain structure (i.e. Hippocampus) by providing the appropriate SPARQL query: "
   ]
  },
  {
   "cell_type": "markdown",
   "metadata": {},
   "source": [
    "Great. So this is my local NIDM ‘pool’ of FreeSurfer data from a particular study. This would be more useful if I can include my demographics and other clinical/behavioral variables."
   ]
  },
  {
   "cell_type": "markdown",
   "metadata": {},
   "source": [
    "Adding My demographics.\n",
    "For this example, I have my demographics (age (in years), sex, group) in a .csv file (MT_demog.csv). I want to express this data in the  NIDM file containing my freesurfer data (allMTseg.ttl) so that it can be queried and used for analysis.  I have two options, I can use csv2nidm and choose to add the demographics data to an existing NIDM file (shown below) or I can run csv2nidm without adding to an existing NIDM file and use `pynidm merge -s` later to merge NIDM files by subject ID."
   ]
  },
  {
   "cell_type": "markdown",
   "metadata": {},
   "source": [
    "At this point you have two separate NIDM files, one with demographics data and one with freesurfer data.  Let’s merge both together by the subject identifiers.  Now MTdemog_aseg.ttl has both your demographics data and freesurfer brain volumes"
   ]
  },
  {
   "cell_type": "markdown",
   "metadata": {},
   "source": [
    "Querying for age and Hippocampus volume.\n",
    "Now that we’ve merged our demographics data with our existing Freesurfer NIDM file we can now query this combined file with a query that will return the hippocampus volumes and include the subject age:\n",
    "First we need to query for the project identifier in the NIDM file"
   ]
  },
  {
   "cell_type": "markdown",
   "metadata": {},
   "source": [
    "Next let’s find out what we have available for Hippocampus statistics"
   ]
  },
  {
   "cell_type": "markdown",
   "metadata": {},
   "source": [
    "Ok so of the results above I’m interested in left hippocampus volume which has id “fs_003343” and right hippocampus volume which has id “fs_003448”. Next let’s see if we have “age” in the dataset"
   ]
  },
  {
   "cell_type": "markdown",
   "metadata": {},
   "source": [
    "Ok, looks like we have a variable for age.  Now let’s query the NIDM file and ask  for only these 3 fields of interest (notice the ?fields= part of the query) and save them to an output file for data analysis"
   ]
  },
  {
   "cell_type": "markdown",
   "metadata": {},
   "source": [
    "Plot this result:"
   ]
  },
  {
   "cell_type": "markdown",
   "metadata": {},
   "source": [
    "Adding public data. \n",
    "So since I can name multiple NIDM files to be the target of my query, and can combine multiple of my own local studies, or access other publically available sources of data. Let's grab the publically accessible version of the FreeSurfer analysis of the ADHD-200 data set:"
   ]
  },
  {
   "cell_type": "markdown",
   "metadata": {},
   "source": [
    "Query your data and ABIDE data.  For this you can either do an integrated query writing a SPARQL query or you can do it in 2 steps using the pynidm query functions.  Using our previous method in step (7) and applying it to the set of files using some simple bash scripting:"
   ]
  },
  {
   "cell_type": "markdown",
   "metadata": {},
   "source": [
    "Ok, so let’s unpack the command above.  First we’re looping through each of our NIDM files and running a pynidm query to get the project IDs from both (step 9(a) above).  Then we’re using these project IDs and running our pynidm query for the fields we’re interested in (step 9(d) above).  We’re writing these to two separate CSV files and then merging them using the tail command to convert the long format of the query outputs to a wide format for visualization with excel.  The remainder is simply cleaning up our temporary files."
   ]
  },
  {
   "cell_type": "markdown",
   "metadata": {},
   "source": [
    "Voila! Your data and public data together."
   ]
  },
  {
   "cell_type": "code",
   "execution_count": 39,
   "metadata": {},
   "outputs": [],
   "source": [
    "mkdir single_subject"
   ]
  },
  {
   "cell_type": "code",
   "execution_count": 40,
   "metadata": {},
   "outputs": [
    {
     "name": "stdout",
     "output_type": "stream",
     "text": [
      "Creating NIDM file...\n",
      "Writing NIDM file...\n",
      "Creating NIDM file...\n",
      "Writing NIDM file...\n",
      "Creating NIDM file...\n",
      "Writing NIDM file...\n"
     ]
    }
   ],
   "source": [
    "segstats2nidm -add_de -s `pwd`/subjects/Olin_0050107 -o `pwd`/single_subject"
   ]
  },
  {
   "cell_type": "code",
   "execution_count": 41,
   "metadata": {},
   "outputs": [
    {
     "name": "stdout",
     "output_type": "stream",
     "text": [
      "aseg_nidm.ttl\t\tlh.aparc_nidm.ttl\trh.aparc_nidm.ttl\n"
     ]
    }
   ],
   "source": [
    "ls single_subject"
   ]
  },
  {
   "cell_type": "code",
   "execution_count": 42,
   "metadata": {},
   "outputs": [],
   "source": [
    "pynidm query -nl `pwd`/single_subject/aseg_nidm.ttl -bv -o `pwd`/single_query_results.txt"
   ]
  },
  {
   "cell_type": "code",
   "execution_count": 43,
   "metadata": {},
   "outputs": [
    {
     "name": "stdout",
     "output_type": "stream",
     "text": [
      ",ID,tool,softwareLabel,federatedLabel,laterality,volume\n",
      "0,Olin_0050107,https://surfer.nmr.mgh.harvard.edu/,CC_Posterior Volume_mm3 (mm^3),http://purl.obolibrary.org/obo/UBERON_0015708,,1252.0\n",
      "1,Olin_0050107,https://surfer.nmr.mgh.harvard.edu/,Right-VentralDC Volume_mm3 (mm^3),,Right,4620.4\n",
      "2,Olin_0050107,https://surfer.nmr.mgh.harvard.edu/,Right hemisphere cerebral white matter volume (mm^3),http://purl.obolibrary.org/obo/UBERON_0002437,Right,288733.501093\n",
      "3,Olin_0050107,https://surfer.nmr.mgh.harvard.edu/,Supratentorial volume (mm^3),http://purl.obolibrary.org/obo/UBERON_0001869,,1268144.533251\n",
      "4,Olin_0050107,https://surfer.nmr.mgh.harvard.edu/,Volume of ventricles and choroid plexus (mm^3),,,16029.0\n",
      "5,Olin_0050107,https://surfer.nmr.mgh.harvard.edu/,non-WM-hypointensities Volume_mm3 (mm^3),,,0.0\n",
      "6,Olin_0050107,https://surfer.nmr.mgh.harvard.edu/,CC_Central Volume_mm3 (mm^3),http://purl.obolibrary.org/obo/UBERON_0002336,,942.4\n",
      "7,Olin_0050107,https://surfer.nmr.mgh.harvard.edu/,Mask Volume (mm^3),,,1893833.0\n",
      "8,Olin_0050107,https://surfer.nmr.mgh.harvard.edu/,Brain Segmentation Volume Without Ventricles (mm^3),http://purl.obolibrary.org/obo/UBERON_0000955,,1426766.0\n",
      "9,Olin_0050107,https://surfer.nmr.mgh.harvard.edu/,CC_Anterior Volume_mm3 (mm^3),http://purl.obolibrary.org/obo/UBERON_0015599,,1154.4\n",
      "10,Olin_0050107,https://surfer.nmr.mgh.harvard.edu/,Left hemisphere cortical gray matter volume (mm^3),http://purl.obolibrary.org/obo/UBERON_0000956,Left,297763.484345\n",
      "11,Olin_0050107,https://surfer.nmr.mgh.harvard.edu/,WM-hypointensities Volume_mm3 (mm^3),,,861.5\n",
      "12,Olin_0050107,https://surfer.nmr.mgh.harvard.edu/,4th-Ventricle Volume_mm3 (mm^3),http://purl.obolibrary.org/obo/UBERON_0002422,,2383.2\n",
      "13,Olin_0050107,https://surfer.nmr.mgh.harvard.edu/,Right-Lateral-Ventricle Volume_mm3 (mm^3),http://purl.obolibrary.org/obo/UBERON_0002285,Right,8358.6\n",
      "14,Olin_0050107,https://surfer.nmr.mgh.harvard.edu/,Optic-Chiasm Volume_mm3 (mm^3),http://purl.obolibrary.org/obo/UBERON_0000959,,85.9\n",
      "15,Olin_0050107,https://surfer.nmr.mgh.harvard.edu/,Total gray matter volume (mm^3),http://purl.obolibrary.org/obo/UBERON_0005401,,807912.916816\n",
      "16,Olin_0050107,https://surfer.nmr.mgh.harvard.edu/,Right-Putamen Volume_mm3 (mm^3),http://purl.obolibrary.org/obo/UBERON_0001874,Right,6741.5\n",
      "17,Olin_0050107,https://surfer.nmr.mgh.harvard.edu/,Left-Cerebellum-White-Matter Volume_mm3 (mm^3),http://purl.obolibrary.org/obo/UBERON_0002317,Left,22440.7\n",
      "18,Olin_0050107,https://surfer.nmr.mgh.harvard.edu/,Right-vessel Volume_mm3 (mm^3),http://purl.obolibrary.org/obo/UBERON_0001981,Right,55.6\n",
      "19,Olin_0050107,https://surfer.nmr.mgh.harvard.edu/,Left-vessel Volume_mm3 (mm^3),http://purl.obolibrary.org/obo/UBERON_0001981,Left,70.7\n",
      "20,Olin_0050107,https://surfer.nmr.mgh.harvard.edu/,CSF Volume_mm3 (mm^3),http://purl.obolibrary.org/obo/UBERON_0001359,,1069.5\n",
      "21,Olin_0050107,https://surfer.nmr.mgh.harvard.edu/,Right-WM-hypointensities Volume_mm3 (mm^3),,Right,0.0\n",
      "22,Olin_0050107,https://surfer.nmr.mgh.harvard.edu/,Left-Putamen Volume_mm3 (mm^3),http://purl.obolibrary.org/obo/UBERON_0001874,Left,6727.1\n",
      "23,Olin_0050107,https://surfer.nmr.mgh.harvard.edu/,Right-Cerebellum-White-Matter Volume_mm3 (mm^3),http://purl.obolibrary.org/obo/UBERON_0002317,Right,21164.5\n",
      "24,Olin_0050107,https://surfer.nmr.mgh.harvard.edu/,Left hemisphere cerebral white matter volume (mm^3),http://purl.obolibrary.org/obo/UBERON_0002437,Left,286412.115342\n",
      "25,Olin_0050107,https://surfer.nmr.mgh.harvard.edu/,Right-Cerebellum-Cortex Volume_mm3 (mm^3),http://purl.obolibrary.org/obo/UBERON_0002129,Right,68967.0\n",
      "26,Olin_0050107,https://surfer.nmr.mgh.harvard.edu/,Left-WM-hypointensities Volume_mm3 (mm^3),,Left,0.0\n",
      "27,Olin_0050107,https://surfer.nmr.mgh.harvard.edu/,Left-Pallidum Volume_mm3 (mm^3),http://purl.obolibrary.org/obo/UBERON_0006514,Left,2025.9\n",
      "28,Olin_0050107,https://surfer.nmr.mgh.harvard.edu/,Right-choroid-plexus Volume_mm3 (mm^3),http://purl.obolibrary.org/obo/UBERON_0001886,Right,695.3\n",
      "29,Olin_0050107,https://surfer.nmr.mgh.harvard.edu/,Right-Amygdala Volume_mm3 (mm^3),http://purl.obolibrary.org/obo/UBERON_0001876,Right,2197.6\n",
      "30,Olin_0050107,https://surfer.nmr.mgh.harvard.edu/,Left-Hippocampus Volume_mm3 (mm^3),http://purl.obolibrary.org/obo/UBERON_0001954,Left,4318.4\n",
      "31,Olin_0050107,https://surfer.nmr.mgh.harvard.edu/,Supratentorial volume (mm^3),,,1252115.533251\n",
      "32,Olin_0050107,https://surfer.nmr.mgh.harvard.edu/,Right hemisphere cortical gray matter volume (mm^3),http://purl.obolibrary.org/obo/UBERON_0000956,Right,303427.432471\n",
      "33,Olin_0050107,https://surfer.nmr.mgh.harvard.edu/,Total cortical gray matter volume (mm^3),http://purl.obolibrary.org/obo/UBERON_0000956,,601190.916816\n",
      "34,Olin_0050107,https://surfer.nmr.mgh.harvard.edu/,Right-Hippocampus Volume_mm3 (mm^3),http://purl.obolibrary.org/obo/UBERON_0001954,Right,4539.9\n",
      "35,Olin_0050107,https://surfer.nmr.mgh.harvard.edu/,Left-Accumbens-area Volume_mm3 (mm^3),http://purl.obolibrary.org/obo/UBERON_0001882,Left,701.7\n",
      "36,Olin_0050107,https://surfer.nmr.mgh.harvard.edu/,3rd-Ventricle Volume_mm3 (mm^3),http://purl.obolibrary.org/obo/UBERON_0002286,,740.6\n",
      "37,Olin_0050107,https://surfer.nmr.mgh.harvard.edu/,Right-Pallidum Volume_mm3 (mm^3),http://purl.obolibrary.org/obo/UBERON_0006514,Right,2147.5\n",
      "38,Olin_0050107,https://surfer.nmr.mgh.harvard.edu/,CC_Mid_Posterior Volume_mm3 (mm^3),,,826.6\n",
      "39,Olin_0050107,https://surfer.nmr.mgh.harvard.edu/,Right-Inf-Lat-Vent Volume_mm3 (mm^3),http://purl.obolibrary.org/obo/UBERON_0006091,Right,366.0\n",
      "40,Olin_0050107,https://surfer.nmr.mgh.harvard.edu/,Right-non-WM-hypointensities Volume_mm3 (mm^3),,Right,0.0\n",
      "41,Olin_0050107,https://surfer.nmr.mgh.harvard.edu/,5th-Ventricle Volume_mm3 (mm^3),http://purl.obolibrary.org/obo/UBERON_0009857,,0.0\n",
      "42,Olin_0050107,https://surfer.nmr.mgh.harvard.edu/,Brain Segmentation Volume (mm^3),http://purl.obolibrary.org/obo/UBERON_0000955,,1446708.0\n",
      "43,Olin_0050107,https://surfer.nmr.mgh.harvard.edu/,Total cerebral white matter volume (mm^3),http://purl.obolibrary.org/obo/UBERON_0002437,,575145.616435\n",
      "44,Olin_0050107,https://surfer.nmr.mgh.harvard.edu/,Estimated Total Intracranial Volume (mm^3),http://purl.obolibrary.org/obo/UBERON_0013411,,1757765.601149\n",
      "45,Olin_0050107,https://surfer.nmr.mgh.harvard.edu/,Left-Lateral-Ventricle Volume_mm3 (mm^3),http://purl.obolibrary.org/obo/UBERON_0002285,Left,6500.2\n",
      "46,Olin_0050107,https://surfer.nmr.mgh.harvard.edu/,Right-Caudate Volume_mm3 (mm^3),http://purl.obolibrary.org/obo/UBERON_0001873,Right,4552.9\n",
      "47,Olin_0050107,https://surfer.nmr.mgh.harvard.edu/,Left-Caudate Volume_mm3 (mm^3),http://purl.obolibrary.org/obo/UBERON_0001873,Left,4357.1\n",
      "48,Olin_0050107,https://surfer.nmr.mgh.harvard.edu/,Brain-Stem Volume_mm3 (mm^3),http://purl.obolibrary.org/obo/UBERON_0002298,,22038.9\n",
      "49,Olin_0050107,https://surfer.nmr.mgh.harvard.edu/,Brain Segmentation Volume Without Ventricles from Surf (mm^3),http://purl.obolibrary.org/obo/UBERON_0000955,,1426397.533251\n",
      "50,Olin_0050107,https://surfer.nmr.mgh.harvard.edu/,CC_Mid_Anterior Volume_mm3 (mm^3),,,687.5\n",
      "51,Olin_0050107,https://surfer.nmr.mgh.harvard.edu/,Left-Inf-Lat-Vent Volume_mm3 (mm^3),http://purl.obolibrary.org/obo/UBERON_0006091,Left,354.4\n",
      "52,Olin_0050107,https://surfer.nmr.mgh.harvard.edu/,Subcortical gray matter volume (mm^3),http://purl.obolibrary.org/obo/UBERON_0000955,,69658.0\n",
      "53,Olin_0050107,https://surfer.nmr.mgh.harvard.edu/,Left-Thalamus-Proper Volume_mm3 (mm^3),http://purl.obolibrary.org/obo/UBERON_0001897,Left,9503.4\n",
      "54,Olin_0050107,https://surfer.nmr.mgh.harvard.edu/,Supratentorial volume voxel count (mm^3),,,1246378.0\n",
      "55,Olin_0050107,https://surfer.nmr.mgh.harvard.edu/,Left-non-WM-hypointensities Volume_mm3 (mm^3),,Left,0.0\n",
      "56,Olin_0050107,https://surfer.nmr.mgh.harvard.edu/,Right-Thalamus-Proper Volume_mm3 (mm^3),http://purl.obolibrary.org/obo/UBERON_0001897,Right,8210.3\n",
      "57,Olin_0050107,https://surfer.nmr.mgh.harvard.edu/,Left-Amygdala Volume_mm3 (mm^3),http://purl.obolibrary.org/obo/UBERON_0001876,Left,1816.8\n",
      "58,Olin_0050107,https://surfer.nmr.mgh.harvard.edu/,Right-Accumbens-area Volume_mm3 (mm^3),http://purl.obolibrary.org/obo/UBERON_0001882,Right,801.2\n",
      "59,Olin_0050107,https://surfer.nmr.mgh.harvard.edu/,Left-choroid-plexus Volume_mm3 (mm^3),http://purl.obolibrary.org/obo/UBERON_0001886,Left,356.3\n"
     ]
    },
    {
     "name": "stdout",
     "output_type": "stream",
     "text": [
      "60,Olin_0050107,https://surfer.nmr.mgh.harvard.edu/,Left-Cerebellum-Cortex Volume_mm3 (mm^3),http://purl.obolibrary.org/obo/UBERON_0002129,Left,66116.8\n",
      "61,Olin_0050107,https://surfer.nmr.mgh.harvard.edu/,Left-VentralDC Volume_mm3 (mm^3),,Left,4864.8\n"
     ]
    }
   ],
   "source": [
    "cat `pwd`/single_query_results.txt"
   ]
  },
  {
   "cell_type": "code",
   "execution_count": 44,
   "metadata": {},
   "outputs": [],
   "source": [
    "mkdir all_subjects"
   ]
  },
  {
   "cell_type": "code",
   "execution_count": 45,
   "metadata": {},
   "outputs": [
    {
     "name": "stdout",
     "output_type": "stream",
     "text": [
      "CMU_0050646\n",
      "Creating NIDM file...\n",
      "Writing NIDM file...\n",
      "Creating NIDM file...\n",
      "Writing NIDM file...\n",
      "Creating NIDM file...\n",
      "Writing NIDM file...\n",
      "\n",
      "Caltech_51478\n",
      "Creating NIDM file...\n",
      "Writing NIDM file...\n",
      "Creating NIDM file...\n",
      "Writing NIDM file...\n",
      "Creating NIDM file...\n",
      "Writing NIDM file...\n",
      "\n",
      "KKI_0050778\n",
      "Creating NIDM file...\n",
      "Writing NIDM file...\n",
      "Creating NIDM file...\n",
      "Writing NIDM file...\n",
      "Creating NIDM file...\n",
      "Writing NIDM file...\n",
      "\n",
      "Leuven_0050691\n",
      "Creating NIDM file...\n",
      "Writing NIDM file...\n",
      "Creating NIDM file...\n",
      "Writing NIDM file...\n",
      "Creating NIDM file...\n",
      "Writing NIDM file...\n",
      "\n",
      "MaxMun_51348\n",
      "Creating NIDM file...\n",
      "Writing NIDM file...\n",
      "Creating NIDM file...\n",
      "Writing NIDM file...\n",
      "Creating NIDM file...\n",
      "Writing NIDM file...\n",
      "\n",
      "NYU_0050965\n",
      "Creating NIDM file...\n",
      "Writing NIDM file...\n",
      "Creating NIDM file...\n",
      "Writing NIDM file...\n",
      "Creating NIDM file...\n",
      "Writing NIDM file...\n",
      "\n",
      "OHSU_0050142\n",
      "Creating NIDM file...\n",
      "Writing NIDM file...\n",
      "Creating NIDM file...\n",
      "Writing NIDM file...\n",
      "Creating NIDM file...\n",
      "Writing NIDM file...\n",
      "\n",
      "Olin_0050107\n",
      "Creating NIDM file...\n",
      "Writing NIDM file...\n",
      "Creating NIDM file...\n",
      "Writing NIDM file...\n",
      "Creating NIDM file...\n",
      "Writing NIDM file...\n",
      "\n",
      "Pitt_50014\n",
      "Creating NIDM file...\n",
      "Writing NIDM file...\n",
      "Creating NIDM file...\n",
      "Writing NIDM file...\n",
      "Creating NIDM file...\n",
      "Writing NIDM file...\n",
      "\n",
      "SBL_51556\n",
      "Creating NIDM file...\n",
      "Writing NIDM file...\n",
      "Creating NIDM file...\n",
      "Writing NIDM file...\n",
      "Creating NIDM file...\n",
      "Writing NIDM file...\n",
      "\n",
      "SDSU_0050185\n",
      "Creating NIDM file...\n",
      "Writing NIDM file...\n",
      "Creating NIDM file...\n",
      "Writing NIDM file...\n",
      "Creating NIDM file...\n",
      "Writing NIDM file...\n",
      "\n",
      "Stanford_0051168\n",
      "Creating NIDM file...\n",
      "Writing NIDM file...\n",
      "Creating NIDM file...\n",
      "Writing NIDM file...\n",
      "Creating NIDM file...\n",
      "Writing NIDM file...\n",
      "\n",
      "Trinity_0050240\n",
      "Creating NIDM file...\n",
      "Writing NIDM file...\n",
      "Creating NIDM file...\n",
      "Writing NIDM file...\n",
      "Creating NIDM file...\n",
      "Writing NIDM file...\n",
      "\n",
      "UCLA_0051210\n",
      "Creating NIDM file...\n",
      "Writing NIDM file...\n",
      "Creating NIDM file...\n",
      "Writing NIDM file...\n",
      "Creating NIDM file...\n",
      "Writing NIDM file...\n",
      "\n",
      "UM_0050404\n",
      "Creating NIDM file...\n",
      "Writing NIDM file...\n",
      "Creating NIDM file...\n",
      "Writing NIDM file...\n",
      "Creating NIDM file...\n",
      "Writing NIDM file...\n",
      "\n",
      "USM_50470\n",
      "Creating NIDM file...\n",
      "Writing NIDM file...\n",
      "Creating NIDM file...\n",
      "Writing NIDM file...\n",
      "Creating NIDM file...\n",
      "Writing NIDM file...\n",
      "\n",
      "Yale_0050559\n",
      "Creating NIDM file...\n",
      "Writing NIDM file...\n",
      "Creating NIDM file...\n",
      "Writing NIDM file...\n",
      "Creating NIDM file...\n",
      "Writing NIDM file...\n",
      "\n",
      "done\n"
     ]
    }
   ],
   "source": [
    "for subject_dir in subjects/*\n",
    "do\n",
    "    subject=`basename $subject_dir`\n",
    "    echo $subject\n",
    "    mkdir all_subjects/$subject\n",
    "    segstats2nidm -add_de -s `pwd`/$subject_dir -o `pwd`/all_subjects/$subject\n",
    "    echo\n",
    "done\n",
    "echo done"
   ]
  },
  {
   "cell_type": "code",
   "execution_count": 46,
   "metadata": {},
   "outputs": [],
   "source": [
    "aseg_list=`echo all_subjects/*/aseg_nidm.ttl | tr ' ' ,`"
   ]
  },
  {
   "cell_type": "code",
   "execution_count": 47,
   "metadata": {},
   "outputs": [],
   "source": [
    "pynidm concat -nl $aseg_list -o all_subjects/all_aseg.ttl"
   ]
  },
  {
   "cell_type": "code",
   "execution_count": 49,
   "metadata": {},
   "outputs": [],
   "source": [
    "pynidm query -nl all_subjects/all_aseg.ttl -bv -o all_query_results.txt"
   ]
  },
  {
   "cell_type": "code",
   "execution_count": 50,
   "metadata": {},
   "outputs": [
    {
     "name": "stdout",
     "output_type": "stream",
     "text": [
      ",ID,tool,softwareLabel,federatedLabel,laterality,volume\n",
      "0,OHSU_0050142,https://surfer.nmr.mgh.harvard.edu/,Left-choroid-plexus Volume_mm3 (mm^3),http://purl.obolibrary.org/obo/UBERON_0001886,Left,506.9\n",
      "1,SBL_51556,https://surfer.nmr.mgh.harvard.edu/,Left-choroid-plexus Volume_mm3 (mm^3),http://purl.obolibrary.org/obo/UBERON_0001886,Left,271.8\n",
      "2,UCLA_0051210,https://surfer.nmr.mgh.harvard.edu/,Left-choroid-plexus Volume_mm3 (mm^3),http://purl.obolibrary.org/obo/UBERON_0001886,Left,461.6\n",
      "3,SDSU_0050185,https://surfer.nmr.mgh.harvard.edu/,Left-choroid-plexus Volume_mm3 (mm^3),http://purl.obolibrary.org/obo/UBERON_0001886,Left,396.9\n",
      "4,Yale_0050559,https://surfer.nmr.mgh.harvard.edu/,Left-choroid-plexus Volume_mm3 (mm^3),http://purl.obolibrary.org/obo/UBERON_0001886,Left,375.1\n",
      "5,MaxMun_51348,https://surfer.nmr.mgh.harvard.edu/,Left-choroid-plexus Volume_mm3 (mm^3),http://purl.obolibrary.org/obo/UBERON_0001886,Left,594.6\n",
      "6,Olin_0050107,https://surfer.nmr.mgh.harvard.edu/,Left-choroid-plexus Volume_mm3 (mm^3),http://purl.obolibrary.org/obo/UBERON_0001886,Left,356.3\n",
      "7,UM_0050404,https://surfer.nmr.mgh.harvard.edu/,Left-choroid-plexus Volume_mm3 (mm^3),http://purl.obolibrary.org/obo/UBERON_0001886,Left,367.0\n",
      "8,Pitt_50014,https://surfer.nmr.mgh.harvard.edu/,Left-choroid-plexus Volume_mm3 (mm^3),http://purl.obolibrary.org/obo/UBERON_0001886,Left,874.8\n",
      "9,Stanford_0051168,https://surfer.nmr.mgh.harvard.edu/,Left-choroid-plexus Volume_mm3 (mm^3),http://purl.obolibrary.org/obo/UBERON_0001886,Left,314.5\n",
      "10,USM_50470,https://surfer.nmr.mgh.harvard.edu/,Left-choroid-plexus Volume_mm3 (mm^3),http://purl.obolibrary.org/obo/UBERON_0001886,Left,314.3\n",
      "11,Caltech_51478,https://surfer.nmr.mgh.harvard.edu/,Left-choroid-plexus Volume_mm3 (mm^3),http://purl.obolibrary.org/obo/UBERON_0001886,Left,311.4\n",
      "12,NYU_0050965,https://surfer.nmr.mgh.harvard.edu/,Left-choroid-plexus Volume_mm3 (mm^3),http://purl.obolibrary.org/obo/UBERON_0001886,Left,589.9\n",
      "13,Trinity_0050240,https://surfer.nmr.mgh.harvard.edu/,Left-choroid-plexus Volume_mm3 (mm^3),http://purl.obolibrary.org/obo/UBERON_0001886,Left,342.2\n",
      "14,CMU_0050646,https://surfer.nmr.mgh.harvard.edu/,Left-choroid-plexus Volume_mm3 (mm^3),http://purl.obolibrary.org/obo/UBERON_0001886,Left,387.2\n",
      "15,KKI_0050778,https://surfer.nmr.mgh.harvard.edu/,Left-choroid-plexus Volume_mm3 (mm^3),http://purl.obolibrary.org/obo/UBERON_0001886,Left,361.8\n",
      "16,Leuven_0050691,https://surfer.nmr.mgh.harvard.edu/,Left-choroid-plexus Volume_mm3 (mm^3),http://purl.obolibrary.org/obo/UBERON_0001886,Left,486.1\n",
      "17,OHSU_0050142,https://surfer.nmr.mgh.harvard.edu/,Left-Accumbens-area Volume_mm3 (mm^3),http://purl.obolibrary.org/obo/UBERON_0001882,Left,498.3\n",
      "18,SBL_51556,https://surfer.nmr.mgh.harvard.edu/,Left-Accumbens-area Volume_mm3 (mm^3),http://purl.obolibrary.org/obo/UBERON_0001882,Left,850.2\n",
      "19,UCLA_0051210,https://surfer.nmr.mgh.harvard.edu/,Left-Accumbens-area Volume_mm3 (mm^3),http://purl.obolibrary.org/obo/UBERON_0001882,Left,765.9\n",
      "20,SDSU_0050185,https://surfer.nmr.mgh.harvard.edu/,Left-Accumbens-area Volume_mm3 (mm^3),http://purl.obolibrary.org/obo/UBERON_0001882,Left,465.7\n",
      "21,Yale_0050559,https://surfer.nmr.mgh.harvard.edu/,Left-Accumbens-area Volume_mm3 (mm^3),http://purl.obolibrary.org/obo/UBERON_0001882,Left,740.2\n",
      "22,MaxMun_51348,https://surfer.nmr.mgh.harvard.edu/,Left-Accumbens-area Volume_mm3 (mm^3),http://purl.obolibrary.org/obo/UBERON_0001882,Left,486.5\n",
      "23,Olin_0050107,https://surfer.nmr.mgh.harvard.edu/,Left-Accumbens-area Volume_mm3 (mm^3),http://purl.obolibrary.org/obo/UBERON_0001882,Left,701.7\n",
      "24,UM_0050404,https://surfer.nmr.mgh.harvard.edu/,Left-Accumbens-area Volume_mm3 (mm^3),http://purl.obolibrary.org/obo/UBERON_0001882,Left,317.1\n",
      "25,Pitt_50014,https://surfer.nmr.mgh.harvard.edu/,Left-Accumbens-area Volume_mm3 (mm^3),http://purl.obolibrary.org/obo/UBERON_0001882,Left,404.7\n",
      "26,Stanford_0051168,https://surfer.nmr.mgh.harvard.edu/,Left-Accumbens-area Volume_mm3 (mm^3),http://purl.obolibrary.org/obo/UBERON_0001882,Left,791.4\n",
      "27,USM_50470,https://surfer.nmr.mgh.harvard.edu/,Left-Accumbens-area Volume_mm3 (mm^3),http://purl.obolibrary.org/obo/UBERON_0001882,Left,724.1\n",
      "28,Caltech_51478,https://surfer.nmr.mgh.harvard.edu/,Left-Accumbens-area Volume_mm3 (mm^3),http://purl.obolibrary.org/obo/UBERON_0001882,Left,449.2\n",
      "29,NYU_0050965,https://surfer.nmr.mgh.harvard.edu/,Left-Accumbens-area Volume_mm3 (mm^3),http://purl.obolibrary.org/obo/UBERON_0001882,Left,749.7\n",
      "30,Trinity_0050240,https://surfer.nmr.mgh.harvard.edu/,Left-Accumbens-area Volume_mm3 (mm^3),http://purl.obolibrary.org/obo/UBERON_0001882,Left,660.2\n",
      "31,CMU_0050646,https://surfer.nmr.mgh.harvard.edu/,Left-Accumbens-area Volume_mm3 (mm^3),http://purl.obolibrary.org/obo/UBERON_0001882,Left,479.9\n",
      "32,KKI_0050778,https://surfer.nmr.mgh.harvard.edu/,Left-Accumbens-area Volume_mm3 (mm^3),http://purl.obolibrary.org/obo/UBERON_0001882,Left,656.8\n",
      "33,Leuven_0050691,https://surfer.nmr.mgh.harvard.edu/,Left-Accumbens-area Volume_mm3 (mm^3),http://purl.obolibrary.org/obo/UBERON_0001882,Left,811.6\n",
      "34,OHSU_0050142,https://surfer.nmr.mgh.harvard.edu/,Right-vessel Volume_mm3 (mm^3),http://purl.obolibrary.org/obo/UBERON_0001981,Right,125.4\n",
      "35,SBL_51556,https://surfer.nmr.mgh.harvard.edu/,Right-vessel Volume_mm3 (mm^3),http://purl.obolibrary.org/obo/UBERON_0001981,Right,12.4\n",
      "36,UCLA_0051210,https://surfer.nmr.mgh.harvard.edu/,Right-vessel Volume_mm3 (mm^3),http://purl.obolibrary.org/obo/UBERON_0001981,Right,7.8\n",
      "37,SDSU_0050185,https://surfer.nmr.mgh.harvard.edu/,Right-vessel Volume_mm3 (mm^3),http://purl.obolibrary.org/obo/UBERON_0001981,Right,12.5\n",
      "38,Yale_0050559,https://surfer.nmr.mgh.harvard.edu/,Right-vessel Volume_mm3 (mm^3),http://purl.obolibrary.org/obo/UBERON_0001981,Right,17.1\n",
      "39,MaxMun_51348,https://surfer.nmr.mgh.harvard.edu/,Right-vessel Volume_mm3 (mm^3),http://purl.obolibrary.org/obo/UBERON_0001981,Right,14.0\n",
      "40,Olin_0050107,https://surfer.nmr.mgh.harvard.edu/,Right-vessel Volume_mm3 (mm^3),http://purl.obolibrary.org/obo/UBERON_0001981,Right,55.6\n",
      "41,UM_0050404,https://surfer.nmr.mgh.harvard.edu/,Right-vessel Volume_mm3 (mm^3),http://purl.obolibrary.org/obo/UBERON_0001981,Right,27.2\n",
      "42,Pitt_50014,https://surfer.nmr.mgh.harvard.edu/,Right-vessel Volume_mm3 (mm^3),http://purl.obolibrary.org/obo/UBERON_0001981,Right,0.0\n",
      "43,Stanford_0051168,https://surfer.nmr.mgh.harvard.edu/,Right-vessel Volume_mm3 (mm^3),http://purl.obolibrary.org/obo/UBERON_0001981,Right,58.6\n",
      "44,USM_50470,https://surfer.nmr.mgh.harvard.edu/,Right-vessel Volume_mm3 (mm^3),http://purl.obolibrary.org/obo/UBERON_0001981,Right,22.7\n",
      "45,Caltech_51478,https://surfer.nmr.mgh.harvard.edu/,Right-vessel Volume_mm3 (mm^3),http://purl.obolibrary.org/obo/UBERON_0001981,Right,21.7\n",
      "46,NYU_0050965,https://surfer.nmr.mgh.harvard.edu/,Right-vessel Volume_mm3 (mm^3),http://purl.obolibrary.org/obo/UBERON_0001981,Right,0.0\n",
      "47,Trinity_0050240,https://surfer.nmr.mgh.harvard.edu/,Right-vessel Volume_mm3 (mm^3),http://purl.obolibrary.org/obo/UBERON_0001981,Right,17.0\n",
      "48,CMU_0050646,https://surfer.nmr.mgh.harvard.edu/,Right-vessel Volume_mm3 (mm^3),http://purl.obolibrary.org/obo/UBERON_0001981,Right,124.3\n",
      "49,KKI_0050778,https://surfer.nmr.mgh.harvard.edu/,Right-vessel Volume_mm3 (mm^3),http://purl.obolibrary.org/obo/UBERON_0001981,Right,13.9\n",
      "50,Leuven_0050691,https://surfer.nmr.mgh.harvard.edu/,Right-vessel Volume_mm3 (mm^3),http://purl.obolibrary.org/obo/UBERON_0001981,Right,19.1\n",
      "51,OHSU_0050142,https://surfer.nmr.mgh.harvard.edu/,Subcortical gray matter volume (mm^3),http://purl.obolibrary.org/obo/UBERON_0000955,,62544.0\n",
      "52,SBL_51556,https://surfer.nmr.mgh.harvard.edu/,Subcortical gray matter volume (mm^3),http://purl.obolibrary.org/obo/UBERON_0000955,,65075.0\n",
      "53,UCLA_0051210,https://surfer.nmr.mgh.harvard.edu/,Subcortical gray matter volume (mm^3),http://purl.obolibrary.org/obo/UBERON_0000955,,55974.0\n",
      "54,SDSU_0050185,https://surfer.nmr.mgh.harvard.edu/,Subcortical gray matter volume (mm^3),http://purl.obolibrary.org/obo/UBERON_0000955,,64282.0\n",
      "55,Yale_0050559,https://surfer.nmr.mgh.harvard.edu/,Subcortical gray matter volume (mm^3),http://purl.obolibrary.org/obo/UBERON_0000955,,63706.0\n",
      "56,MaxMun_51348,https://surfer.nmr.mgh.harvard.edu/,Subcortical gray matter volume (mm^3),http://purl.obolibrary.org/obo/UBERON_0000955,,61024.0\n"
     ]
    },
    {
     "name": "stdout",
     "output_type": "stream",
     "text": [
      "57,Olin_0050107,https://surfer.nmr.mgh.harvard.edu/,Subcortical gray matter volume (mm^3),http://purl.obolibrary.org/obo/UBERON_0000955,,69658.0\n",
      "58,UM_0050404,https://surfer.nmr.mgh.harvard.edu/,Subcortical gray matter volume (mm^3),http://purl.obolibrary.org/obo/UBERON_0000955,,39399.0\n",
      "59,Pitt_50014,https://surfer.nmr.mgh.harvard.edu/,Subcortical gray matter volume (mm^3),http://purl.obolibrary.org/obo/UBERON_0000955,,61933.0\n",
      "60,Stanford_0051168,https://surfer.nmr.mgh.harvard.edu/,Subcortical gray matter volume (mm^3),http://purl.obolibrary.org/obo/UBERON_0000955,,67007.0\n",
      "61,USM_50470,https://surfer.nmr.mgh.harvard.edu/,Subcortical gray matter volume (mm^3),http://purl.obolibrary.org/obo/UBERON_0000955,,60398.0\n",
      "62,Caltech_51478,https://surfer.nmr.mgh.harvard.edu/,Subcortical gray matter volume (mm^3),http://purl.obolibrary.org/obo/UBERON_0000955,,64940.0\n",
      "63,NYU_0050965,https://surfer.nmr.mgh.harvard.edu/,Subcortical gray matter volume (mm^3),http://purl.obolibrary.org/obo/UBERON_0000955,,60875.0\n",
      "64,Trinity_0050240,https://surfer.nmr.mgh.harvard.edu/,Subcortical gray matter volume (mm^3),http://purl.obolibrary.org/obo/UBERON_0000955,,63429.0\n",
      "65,CMU_0050646,https://surfer.nmr.mgh.harvard.edu/,Subcortical gray matter volume (mm^3),http://purl.obolibrary.org/obo/UBERON_0000955,,66399.0\n",
      "66,KKI_0050778,https://surfer.nmr.mgh.harvard.edu/,Subcortical gray matter volume (mm^3),http://purl.obolibrary.org/obo/UBERON_0000955,,53876.0\n",
      "67,Leuven_0050691,https://surfer.nmr.mgh.harvard.edu/,Subcortical gray matter volume (mm^3),http://purl.obolibrary.org/obo/UBERON_0000955,,64714.0\n",
      "68,OHSU_0050142,https://surfer.nmr.mgh.harvard.edu/,Right-non-WM-hypointensities Volume_mm3 (mm^3),,Right,0.0\n",
      "69,SBL_51556,https://surfer.nmr.mgh.harvard.edu/,Right-non-WM-hypointensities Volume_mm3 (mm^3),,Right,0.0\n",
      "70,UCLA_0051210,https://surfer.nmr.mgh.harvard.edu/,Right-non-WM-hypointensities Volume_mm3 (mm^3),,Right,0.0\n",
      "71,SDSU_0050185,https://surfer.nmr.mgh.harvard.edu/,Right-non-WM-hypointensities Volume_mm3 (mm^3),,Right,0.0\n",
      "72,Yale_0050559,https://surfer.nmr.mgh.harvard.edu/,Right-non-WM-hypointensities Volume_mm3 (mm^3),,Right,0.0\n",
      "73,MaxMun_51348,https://surfer.nmr.mgh.harvard.edu/,Right-non-WM-hypointensities Volume_mm3 (mm^3),,Right,0.0\n",
      "74,Olin_0050107,https://surfer.nmr.mgh.harvard.edu/,Right-non-WM-hypointensities Volume_mm3 (mm^3),,Right,0.0\n",
      "75,UM_0050404,https://surfer.nmr.mgh.harvard.edu/,Right-non-WM-hypointensities Volume_mm3 (mm^3),,Right,0.0\n",
      "76,Pitt_50014,https://surfer.nmr.mgh.harvard.edu/,Right-non-WM-hypointensities Volume_mm3 (mm^3),,Right,0.0\n",
      "77,Stanford_0051168,https://surfer.nmr.mgh.harvard.edu/,Right-non-WM-hypointensities Volume_mm3 (mm^3),,Right,0.0\n",
      "78,USM_50470,https://surfer.nmr.mgh.harvard.edu/,Right-non-WM-hypointensities Volume_mm3 (mm^3),,Right,0.0\n",
      "79,Caltech_51478,https://surfer.nmr.mgh.harvard.edu/,Right-non-WM-hypointensities Volume_mm3 (mm^3),,Right,0.0\n",
      "80,NYU_0050965,https://surfer.nmr.mgh.harvard.edu/,Right-non-WM-hypointensities Volume_mm3 (mm^3),,Right,0.0\n",
      "81,Trinity_0050240,https://surfer.nmr.mgh.harvard.edu/,Right-non-WM-hypointensities Volume_mm3 (mm^3),,Right,0.0\n",
      "82,CMU_0050646,https://surfer.nmr.mgh.harvard.edu/,Right-non-WM-hypointensities Volume_mm3 (mm^3),,Right,0.0\n",
      "83,KKI_0050778,https://surfer.nmr.mgh.harvard.edu/,Right-non-WM-hypointensities Volume_mm3 (mm^3),,Right,0.0\n",
      "84,Leuven_0050691,https://surfer.nmr.mgh.harvard.edu/,Right-non-WM-hypointensities Volume_mm3 (mm^3),,Right,0.0\n",
      "85,OHSU_0050142,https://surfer.nmr.mgh.harvard.edu/,CC_Anterior Volume_mm3 (mm^3),http://purl.obolibrary.org/obo/UBERON_0015599,,992.3\n",
      "86,SBL_51556,https://surfer.nmr.mgh.harvard.edu/,CC_Anterior Volume_mm3 (mm^3),http://purl.obolibrary.org/obo/UBERON_0015599,,865.5\n",
      "87,UCLA_0051210,https://surfer.nmr.mgh.harvard.edu/,CC_Anterior Volume_mm3 (mm^3),http://purl.obolibrary.org/obo/UBERON_0015599,,1038.6\n",
      "88,SDSU_0050185,https://surfer.nmr.mgh.harvard.edu/,CC_Anterior Volume_mm3 (mm^3),http://purl.obolibrary.org/obo/UBERON_0015599,,877.2\n",
      "89,Yale_0050559,https://surfer.nmr.mgh.harvard.edu/,CC_Anterior Volume_mm3 (mm^3),http://purl.obolibrary.org/obo/UBERON_0015599,,730.7\n",
      "90,MaxMun_51348,https://surfer.nmr.mgh.harvard.edu/,CC_Anterior Volume_mm3 (mm^3),http://purl.obolibrary.org/obo/UBERON_0015599,,1073.3\n",
      "91,Olin_0050107,https://surfer.nmr.mgh.harvard.edu/,CC_Anterior Volume_mm3 (mm^3),http://purl.obolibrary.org/obo/UBERON_0015599,,1154.4\n",
      "92,UM_0050404,https://surfer.nmr.mgh.harvard.edu/,CC_Anterior Volume_mm3 (mm^3),http://purl.obolibrary.org/obo/UBERON_0015599,,543.0\n",
      "93,Pitt_50014,https://surfer.nmr.mgh.harvard.edu/,CC_Anterior Volume_mm3 (mm^3),http://purl.obolibrary.org/obo/UBERON_0015599,,966.4\n",
      "94,Stanford_0051168,https://surfer.nmr.mgh.harvard.edu/,CC_Anterior Volume_mm3 (mm^3),http://purl.obolibrary.org/obo/UBERON_0015599,,928.9\n",
      "95,USM_50470,https://surfer.nmr.mgh.harvard.edu/,CC_Anterior Volume_mm3 (mm^3),http://purl.obolibrary.org/obo/UBERON_0015599,,734.5\n",
      "96,Caltech_51478,https://surfer.nmr.mgh.harvard.edu/,CC_Anterior Volume_mm3 (mm^3),http://purl.obolibrary.org/obo/UBERON_0015599,,810.0\n",
      "97,NYU_0050965,https://surfer.nmr.mgh.harvard.edu/,CC_Anterior Volume_mm3 (mm^3),http://purl.obolibrary.org/obo/UBERON_0015599,,1078.7\n",
      "98,Trinity_0050240,https://surfer.nmr.mgh.harvard.edu/,CC_Anterior Volume_mm3 (mm^3),http://purl.obolibrary.org/obo/UBERON_0015599,,1028.4\n",
      "99,CMU_0050646,https://surfer.nmr.mgh.harvard.edu/,CC_Anterior Volume_mm3 (mm^3),http://purl.obolibrary.org/obo/UBERON_0015599,,679.0\n",
      "100,KKI_0050778,https://surfer.nmr.mgh.harvard.edu/,CC_Anterior Volume_mm3 (mm^3),http://purl.obolibrary.org/obo/UBERON_0015599,,793.6\n",
      "101,Leuven_0050691,https://surfer.nmr.mgh.harvard.edu/,CC_Anterior Volume_mm3 (mm^3),http://purl.obolibrary.org/obo/UBERON_0015599,,895.1\n",
      "102,OHSU_0050142,https://surfer.nmr.mgh.harvard.edu/,Optic-Chiasm Volume_mm3 (mm^3),http://purl.obolibrary.org/obo/UBERON_0000959,,181.4\n",
      "103,SBL_51556,https://surfer.nmr.mgh.harvard.edu/,Optic-Chiasm Volume_mm3 (mm^3),http://purl.obolibrary.org/obo/UBERON_0000959,,189.9\n",
      "104,UCLA_0051210,https://surfer.nmr.mgh.harvard.edu/,Optic-Chiasm Volume_mm3 (mm^3),http://purl.obolibrary.org/obo/UBERON_0000959,,185.6\n",
      "105,SDSU_0050185,https://surfer.nmr.mgh.harvard.edu/,Optic-Chiasm Volume_mm3 (mm^3),http://purl.obolibrary.org/obo/UBERON_0000959,,183.7\n",
      "106,Yale_0050559,https://surfer.nmr.mgh.harvard.edu/,Optic-Chiasm Volume_mm3 (mm^3),http://purl.obolibrary.org/obo/UBERON_0000959,,141.7\n",
      "107,MaxMun_51348,https://surfer.nmr.mgh.harvard.edu/,Optic-Chiasm Volume_mm3 (mm^3),http://purl.obolibrary.org/obo/UBERON_0000959,,119.3\n",
      "108,Olin_0050107,https://surfer.nmr.mgh.harvard.edu/,Optic-Chiasm Volume_mm3 (mm^3),http://purl.obolibrary.org/obo/UBERON_0000959,,85.9\n",
      "109,UM_0050404,https://surfer.nmr.mgh.harvard.edu/,Optic-Chiasm Volume_mm3 (mm^3),http://purl.obolibrary.org/obo/UBERON_0000959,,75.0\n",
      "110,Pitt_50014,https://surfer.nmr.mgh.harvard.edu/,Optic-Chiasm Volume_mm3 (mm^3),http://purl.obolibrary.org/obo/UBERON_0000959,,131.4\n",
      "111,Stanford_0051168,https://surfer.nmr.mgh.harvard.edu/,Optic-Chiasm Volume_mm3 (mm^3),http://purl.obolibrary.org/obo/UBERON_0000959,,162.6\n",
      "112,USM_50470,https://surfer.nmr.mgh.harvard.edu/,Optic-Chiasm Volume_mm3 (mm^3),http://purl.obolibrary.org/obo/UBERON_0000959,,248.7\n",
      "113,Caltech_51478,https://surfer.nmr.mgh.harvard.edu/,Optic-Chiasm Volume_mm3 (mm^3),http://purl.obolibrary.org/obo/UBERON_0000959,,153.1\n",
      "114,NYU_0050965,https://surfer.nmr.mgh.harvard.edu/,Optic-Chiasm Volume_mm3 (mm^3),http://purl.obolibrary.org/obo/UBERON_0000959,,168.9\n",
      "115,Trinity_0050240,https://surfer.nmr.mgh.harvard.edu/,Optic-Chiasm Volume_mm3 (mm^3),http://purl.obolibrary.org/obo/UBERON_0000959,,148.6\n",
      "116,CMU_0050646,https://surfer.nmr.mgh.harvard.edu/,Optic-Chiasm Volume_mm3 (mm^3),http://purl.obolibrary.org/obo/UBERON_0000959,,181.0\n",
      "117,KKI_0050778,https://surfer.nmr.mgh.harvard.edu/,Optic-Chiasm Volume_mm3 (mm^3),http://purl.obolibrary.org/obo/UBERON_0000959,,190.7\n",
      "118,Leuven_0050691,https://surfer.nmr.mgh.harvard.edu/,Optic-Chiasm Volume_mm3 (mm^3),http://purl.obolibrary.org/obo/UBERON_0000959,,164.0\n",
      "119,OHSU_0050142,https://surfer.nmr.mgh.harvard.edu/,Right-WM-hypointensities Volume_mm3 (mm^3),,Right,0.0\n",
      "120,SBL_51556,https://surfer.nmr.mgh.harvard.edu/,Right-WM-hypointensities Volume_mm3 (mm^3),,Right,0.0\n"
     ]
    },
    {
     "name": "stdout",
     "output_type": "stream",
     "text": [
      "121,UCLA_0051210,https://surfer.nmr.mgh.harvard.edu/,Right-WM-hypointensities Volume_mm3 (mm^3),,Right,0.0\n",
      "122,SDSU_0050185,https://surfer.nmr.mgh.harvard.edu/,Right-WM-hypointensities Volume_mm3 (mm^3),,Right,0.0\n",
      "123,Yale_0050559,https://surfer.nmr.mgh.harvard.edu/,Right-WM-hypointensities Volume_mm3 (mm^3),,Right,0.0\n",
      "124,MaxMun_51348,https://surfer.nmr.mgh.harvard.edu/,Right-WM-hypointensities Volume_mm3 (mm^3),,Right,0.0\n",
      "125,Olin_0050107,https://surfer.nmr.mgh.harvard.edu/,Right-WM-hypointensities Volume_mm3 (mm^3),,Right,0.0\n",
      "126,UM_0050404,https://surfer.nmr.mgh.harvard.edu/,Right-WM-hypointensities Volume_mm3 (mm^3),,Right,0.0\n",
      "127,Pitt_50014,https://surfer.nmr.mgh.harvard.edu/,Right-WM-hypointensities Volume_mm3 (mm^3),,Right,0.0\n",
      "128,Stanford_0051168,https://surfer.nmr.mgh.harvard.edu/,Right-WM-hypointensities Volume_mm3 (mm^3),,Right,0.0\n",
      "129,USM_50470,https://surfer.nmr.mgh.harvard.edu/,Right-WM-hypointensities Volume_mm3 (mm^3),,Right,0.0\n",
      "130,Caltech_51478,https://surfer.nmr.mgh.harvard.edu/,Right-WM-hypointensities Volume_mm3 (mm^3),,Right,0.0\n",
      "131,NYU_0050965,https://surfer.nmr.mgh.harvard.edu/,Right-WM-hypointensities Volume_mm3 (mm^3),,Right,0.0\n",
      "132,Trinity_0050240,https://surfer.nmr.mgh.harvard.edu/,Right-WM-hypointensities Volume_mm3 (mm^3),,Right,0.0\n",
      "133,CMU_0050646,https://surfer.nmr.mgh.harvard.edu/,Right-WM-hypointensities Volume_mm3 (mm^3),,Right,0.0\n",
      "134,KKI_0050778,https://surfer.nmr.mgh.harvard.edu/,Right-WM-hypointensities Volume_mm3 (mm^3),,Right,0.0\n",
      "135,Leuven_0050691,https://surfer.nmr.mgh.harvard.edu/,Right-WM-hypointensities Volume_mm3 (mm^3),,Right,0.0\n",
      "136,OHSU_0050142,https://surfer.nmr.mgh.harvard.edu/,CC_Mid_Posterior Volume_mm3 (mm^3),,,547.8\n",
      "137,SBL_51556,https://surfer.nmr.mgh.harvard.edu/,CC_Mid_Posterior Volume_mm3 (mm^3),,,477.1\n",
      "138,UCLA_0051210,https://surfer.nmr.mgh.harvard.edu/,CC_Mid_Posterior Volume_mm3 (mm^3),,,589.8\n",
      "139,SDSU_0050185,https://surfer.nmr.mgh.harvard.edu/,CC_Mid_Posterior Volume_mm3 (mm^3),,,551.2\n",
      "140,Yale_0050559,https://surfer.nmr.mgh.harvard.edu/,CC_Mid_Posterior Volume_mm3 (mm^3),,,455.6\n",
      "141,MaxMun_51348,https://surfer.nmr.mgh.harvard.edu/,CC_Mid_Posterior Volume_mm3 (mm^3),,,681.4\n",
      "142,Olin_0050107,https://surfer.nmr.mgh.harvard.edu/,CC_Mid_Posterior Volume_mm3 (mm^3),,,826.6\n",
      "143,UM_0050404,https://surfer.nmr.mgh.harvard.edu/,CC_Mid_Posterior Volume_mm3 (mm^3),,,316.4\n",
      "144,Pitt_50014,https://surfer.nmr.mgh.harvard.edu/,CC_Mid_Posterior Volume_mm3 (mm^3),,,590.5\n",
      "145,Stanford_0051168,https://surfer.nmr.mgh.harvard.edu/,CC_Mid_Posterior Volume_mm3 (mm^3),,,510.6\n",
      "146,USM_50470,https://surfer.nmr.mgh.harvard.edu/,CC_Mid_Posterior Volume_mm3 (mm^3),,,607.8\n",
      "147,Caltech_51478,https://surfer.nmr.mgh.harvard.edu/,CC_Mid_Posterior Volume_mm3 (mm^3),,,496.4\n",
      "148,NYU_0050965,https://surfer.nmr.mgh.harvard.edu/,CC_Mid_Posterior Volume_mm3 (mm^3),,,577.4\n",
      "149,Trinity_0050240,https://surfer.nmr.mgh.harvard.edu/,CC_Mid_Posterior Volume_mm3 (mm^3),,,589.8\n",
      "150,CMU_0050646,https://surfer.nmr.mgh.harvard.edu/,CC_Mid_Posterior Volume_mm3 (mm^3),,,514.6\n",
      "151,KKI_0050778,https://surfer.nmr.mgh.harvard.edu/,CC_Mid_Posterior Volume_mm3 (mm^3),,,371.4\n",
      "152,Leuven_0050691,https://surfer.nmr.mgh.harvard.edu/,CC_Mid_Posterior Volume_mm3 (mm^3),,,526.4\n",
      "153,OHSU_0050142,https://surfer.nmr.mgh.harvard.edu/,Mask Volume (mm^3),,,1807563.0\n",
      "154,SBL_51556,https://surfer.nmr.mgh.harvard.edu/,Mask Volume (mm^3),,,1804417.0\n",
      "155,UCLA_0051210,https://surfer.nmr.mgh.harvard.edu/,Mask Volume (mm^3),,,1631128.0\n",
      "156,SDSU_0050185,https://surfer.nmr.mgh.harvard.edu/,Mask Volume (mm^3),,,1712668.0\n",
      "157,Yale_0050559,https://surfer.nmr.mgh.harvard.edu/,Mask Volume (mm^3),,,1656258.0\n",
      "158,MaxMun_51348,https://surfer.nmr.mgh.harvard.edu/,Mask Volume (mm^3),,,1589178.0\n",
      "159,Olin_0050107,https://surfer.nmr.mgh.harvard.edu/,Mask Volume (mm^3),,,1893833.0\n",
      "160,UM_0050404,https://surfer.nmr.mgh.harvard.edu/,Mask Volume (mm^3),,,1026640.0\n",
      "161,Pitt_50014,https://surfer.nmr.mgh.harvard.edu/,Mask Volume (mm^3),,,1668294.0\n",
      "162,Stanford_0051168,https://surfer.nmr.mgh.harvard.edu/,Mask Volume (mm^3),,,1748768.0\n",
      "163,USM_50470,https://surfer.nmr.mgh.harvard.edu/,Mask Volume (mm^3),,,1712479.0\n",
      "164,Caltech_51478,https://surfer.nmr.mgh.harvard.edu/,Mask Volume (mm^3),,,1849060.0\n",
      "165,NYU_0050965,https://surfer.nmr.mgh.harvard.edu/,Mask Volume (mm^3),,,1713951.0\n",
      "166,Trinity_0050240,https://surfer.nmr.mgh.harvard.edu/,Mask Volume (mm^3),,,1615794.0\n",
      "167,CMU_0050646,https://surfer.nmr.mgh.harvard.edu/,Mask Volume (mm^3),,,1771713.0\n",
      "168,KKI_0050778,https://surfer.nmr.mgh.harvard.edu/,Mask Volume (mm^3),,,1436414.0\n",
      "169,Leuven_0050691,https://surfer.nmr.mgh.harvard.edu/,Mask Volume (mm^3),,,1904522.0\n",
      "170,OHSU_0050142,https://surfer.nmr.mgh.harvard.edu/,Right-Amygdala Volume_mm3 (mm^3),http://purl.obolibrary.org/obo/UBERON_0001876,Right,1862.4\n",
      "171,SBL_51556,https://surfer.nmr.mgh.harvard.edu/,Right-Amygdala Volume_mm3 (mm^3),http://purl.obolibrary.org/obo/UBERON_0001876,Right,2044.7\n",
      "172,UCLA_0051210,https://surfer.nmr.mgh.harvard.edu/,Right-Amygdala Volume_mm3 (mm^3),http://purl.obolibrary.org/obo/UBERON_0001876,Right,1515.0\n",
      "173,SDSU_0050185,https://surfer.nmr.mgh.harvard.edu/,Right-Amygdala Volume_mm3 (mm^3),http://purl.obolibrary.org/obo/UBERON_0001876,Right,2333.3\n",
      "174,Yale_0050559,https://surfer.nmr.mgh.harvard.edu/,Right-Amygdala Volume_mm3 (mm^3),http://purl.obolibrary.org/obo/UBERON_0001876,Right,2035.9\n",
      "175,MaxMun_51348,https://surfer.nmr.mgh.harvard.edu/,Right-Amygdala Volume_mm3 (mm^3),http://purl.obolibrary.org/obo/UBERON_0001876,Right,1721.2\n",
      "176,Olin_0050107,https://surfer.nmr.mgh.harvard.edu/,Right-Amygdala Volume_mm3 (mm^3),http://purl.obolibrary.org/obo/UBERON_0001876,Right,2197.6\n",
      "177,UM_0050404,https://surfer.nmr.mgh.harvard.edu/,Right-Amygdala Volume_mm3 (mm^3),http://purl.obolibrary.org/obo/UBERON_0001876,Right,1096.0\n",
      "178,Pitt_50014,https://surfer.nmr.mgh.harvard.edu/,Right-Amygdala Volume_mm3 (mm^3),http://purl.obolibrary.org/obo/UBERON_0001876,Right,1976.7\n",
      "179,Stanford_0051168,https://surfer.nmr.mgh.harvard.edu/,Right-Amygdala Volume_mm3 (mm^3),http://purl.obolibrary.org/obo/UBERON_0001876,Right,2084.7\n",
      "180,USM_50470,https://surfer.nmr.mgh.harvard.edu/,Right-Amygdala Volume_mm3 (mm^3),http://purl.obolibrary.org/obo/UBERON_0001876,Right,1570.8\n",
      "181,Caltech_51478,https://surfer.nmr.mgh.harvard.edu/,Right-Amygdala Volume_mm3 (mm^3),http://purl.obolibrary.org/obo/UBERON_0001876,Right,1864.4\n",
      "182,NYU_0050965,https://surfer.nmr.mgh.harvard.edu/,Right-Amygdala Volume_mm3 (mm^3),http://purl.obolibrary.org/obo/UBERON_0001876,Right,1485.4\n",
      "183,Trinity_0050240,https://surfer.nmr.mgh.harvard.edu/,Right-Amygdala Volume_mm3 (mm^3),http://purl.obolibrary.org/obo/UBERON_0001876,Right,2102.7\n",
      "184,CMU_0050646,https://surfer.nmr.mgh.harvard.edu/,Right-Amygdala Volume_mm3 (mm^3),http://purl.obolibrary.org/obo/UBERON_0001876,Right,2079.6\n",
      "185,KKI_0050778,https://surfer.nmr.mgh.harvard.edu/,Right-Amygdala Volume_mm3 (mm^3),http://purl.obolibrary.org/obo/UBERON_0001876,Right,1606.8\n",
      "186,Leuven_0050691,https://surfer.nmr.mgh.harvard.edu/,Right-Amygdala Volume_mm3 (mm^3),http://purl.obolibrary.org/obo/UBERON_0001876,Right,2249.3\n",
      "187,OHSU_0050142,https://surfer.nmr.mgh.harvard.edu/,Left-WM-hypointensities Volume_mm3 (mm^3),,Left,0.0\n",
      "188,SBL_51556,https://surfer.nmr.mgh.harvard.edu/,Left-WM-hypointensities Volume_mm3 (mm^3),,Left,0.0\n",
      "189,UCLA_0051210,https://surfer.nmr.mgh.harvard.edu/,Left-WM-hypointensities Volume_mm3 (mm^3),,Left,0.0\n",
      "190,SDSU_0050185,https://surfer.nmr.mgh.harvard.edu/,Left-WM-hypointensities Volume_mm3 (mm^3),,Left,0.0\n",
      "191,Yale_0050559,https://surfer.nmr.mgh.harvard.edu/,Left-WM-hypointensities Volume_mm3 (mm^3),,Left,0.0\n",
      "192,MaxMun_51348,https://surfer.nmr.mgh.harvard.edu/,Left-WM-hypointensities Volume_mm3 (mm^3),,Left,0.0\n",
      "193,Olin_0050107,https://surfer.nmr.mgh.harvard.edu/,Left-WM-hypointensities Volume_mm3 (mm^3),,Left,0.0\n",
      "194,UM_0050404,https://surfer.nmr.mgh.harvard.edu/,Left-WM-hypointensities Volume_mm3 (mm^3),,Left,0.0\n",
      "195,Pitt_50014,https://surfer.nmr.mgh.harvard.edu/,Left-WM-hypointensities Volume_mm3 (mm^3),,Left,0.0\n",
      "196,Stanford_0051168,https://surfer.nmr.mgh.harvard.edu/,Left-WM-hypointensities Volume_mm3 (mm^3),,Left,0.0\n",
      "197,USM_50470,https://surfer.nmr.mgh.harvard.edu/,Left-WM-hypointensities Volume_mm3 (mm^3),,Left,0.0\n"
     ]
    },
    {
     "name": "stdout",
     "output_type": "stream",
     "text": [
      "198,Caltech_51478,https://surfer.nmr.mgh.harvard.edu/,Left-WM-hypointensities Volume_mm3 (mm^3),,Left,0.0\n",
      "199,NYU_0050965,https://surfer.nmr.mgh.harvard.edu/,Left-WM-hypointensities Volume_mm3 (mm^3),,Left,0.0\n",
      "200,Trinity_0050240,https://surfer.nmr.mgh.harvard.edu/,Left-WM-hypointensities Volume_mm3 (mm^3),,Left,0.0\n",
      "201,CMU_0050646,https://surfer.nmr.mgh.harvard.edu/,Left-WM-hypointensities Volume_mm3 (mm^3),,Left,0.0\n",
      "202,KKI_0050778,https://surfer.nmr.mgh.harvard.edu/,Left-WM-hypointensities Volume_mm3 (mm^3),,Left,0.0\n",
      "203,Leuven_0050691,https://surfer.nmr.mgh.harvard.edu/,Left-WM-hypointensities Volume_mm3 (mm^3),,Left,0.0\n",
      "204,OHSU_0050142,https://surfer.nmr.mgh.harvard.edu/,Right-Thalamus-Proper Volume_mm3 (mm^3),http://purl.obolibrary.org/obo/UBERON_0001897,Right,7783.0\n",
      "205,SBL_51556,https://surfer.nmr.mgh.harvard.edu/,Right-Thalamus-Proper Volume_mm3 (mm^3),http://purl.obolibrary.org/obo/UBERON_0001897,Right,8063.7\n",
      "206,UCLA_0051210,https://surfer.nmr.mgh.harvard.edu/,Right-Thalamus-Proper Volume_mm3 (mm^3),http://purl.obolibrary.org/obo/UBERON_0001897,Right,7326.9\n",
      "207,SDSU_0050185,https://surfer.nmr.mgh.harvard.edu/,Right-Thalamus-Proper Volume_mm3 (mm^3),http://purl.obolibrary.org/obo/UBERON_0001897,Right,8338.3\n",
      "208,Yale_0050559,https://surfer.nmr.mgh.harvard.edu/,Right-Thalamus-Proper Volume_mm3 (mm^3),http://purl.obolibrary.org/obo/UBERON_0001897,Right,7598.0\n",
      "209,MaxMun_51348,https://surfer.nmr.mgh.harvard.edu/,Right-Thalamus-Proper Volume_mm3 (mm^3),http://purl.obolibrary.org/obo/UBERON_0001897,Right,8372.9\n",
      "210,Olin_0050107,https://surfer.nmr.mgh.harvard.edu/,Right-Thalamus-Proper Volume_mm3 (mm^3),http://purl.obolibrary.org/obo/UBERON_0001897,Right,8210.3\n",
      "211,UM_0050404,https://surfer.nmr.mgh.harvard.edu/,Right-Thalamus-Proper Volume_mm3 (mm^3),http://purl.obolibrary.org/obo/UBERON_0001897,Right,4926.1\n",
      "212,Pitt_50014,https://surfer.nmr.mgh.harvard.edu/,Right-Thalamus-Proper Volume_mm3 (mm^3),http://purl.obolibrary.org/obo/UBERON_0001897,Right,7477.3\n",
      "213,Stanford_0051168,https://surfer.nmr.mgh.harvard.edu/,Right-Thalamus-Proper Volume_mm3 (mm^3),http://purl.obolibrary.org/obo/UBERON_0001897,Right,8263.3\n",
      "214,USM_50470,https://surfer.nmr.mgh.harvard.edu/,Right-Thalamus-Proper Volume_mm3 (mm^3),http://purl.obolibrary.org/obo/UBERON_0001897,Right,7648.3\n",
      "215,Caltech_51478,https://surfer.nmr.mgh.harvard.edu/,Right-Thalamus-Proper Volume_mm3 (mm^3),http://purl.obolibrary.org/obo/UBERON_0001897,Right,8360.6\n",
      "216,NYU_0050965,https://surfer.nmr.mgh.harvard.edu/,Right-Thalamus-Proper Volume_mm3 (mm^3),http://purl.obolibrary.org/obo/UBERON_0001897,Right,8046.9\n",
      "217,Trinity_0050240,https://surfer.nmr.mgh.harvard.edu/,Right-Thalamus-Proper Volume_mm3 (mm^3),http://purl.obolibrary.org/obo/UBERON_0001897,Right,7638.7\n",
      "218,CMU_0050646,https://surfer.nmr.mgh.harvard.edu/,Right-Thalamus-Proper Volume_mm3 (mm^3),http://purl.obolibrary.org/obo/UBERON_0001897,Right,8792.9\n",
      "219,KKI_0050778,https://surfer.nmr.mgh.harvard.edu/,Right-Thalamus-Proper Volume_mm3 (mm^3),http://purl.obolibrary.org/obo/UBERON_0001897,Right,6666.9\n",
      "220,Leuven_0050691,https://surfer.nmr.mgh.harvard.edu/,Right-Thalamus-Proper Volume_mm3 (mm^3),http://purl.obolibrary.org/obo/UBERON_0001897,Right,7596.6\n",
      "221,OHSU_0050142,https://surfer.nmr.mgh.harvard.edu/,Left-Hippocampus Volume_mm3 (mm^3),http://purl.obolibrary.org/obo/UBERON_0001954,Left,4272.2\n",
      "222,SBL_51556,https://surfer.nmr.mgh.harvard.edu/,Left-Hippocampus Volume_mm3 (mm^3),http://purl.obolibrary.org/obo/UBERON_0001954,Left,4050.6\n",
      "223,UCLA_0051210,https://surfer.nmr.mgh.harvard.edu/,Left-Hippocampus Volume_mm3 (mm^3),http://purl.obolibrary.org/obo/UBERON_0001954,Left,3781.3\n",
      "224,SDSU_0050185,https://surfer.nmr.mgh.harvard.edu/,Left-Hippocampus Volume_mm3 (mm^3),http://purl.obolibrary.org/obo/UBERON_0001954,Left,5014.5\n",
      "225,Yale_0050559,https://surfer.nmr.mgh.harvard.edu/,Left-Hippocampus Volume_mm3 (mm^3),http://purl.obolibrary.org/obo/UBERON_0001954,Left,4145.3\n",
      "226,MaxMun_51348,https://surfer.nmr.mgh.harvard.edu/,Left-Hippocampus Volume_mm3 (mm^3),http://purl.obolibrary.org/obo/UBERON_0001954,Left,4089.1\n",
      "227,Olin_0050107,https://surfer.nmr.mgh.harvard.edu/,Left-Hippocampus Volume_mm3 (mm^3),http://purl.obolibrary.org/obo/UBERON_0001954,Left,4318.4\n",
      "228,UM_0050404,https://surfer.nmr.mgh.harvard.edu/,Left-Hippocampus Volume_mm3 (mm^3),http://purl.obolibrary.org/obo/UBERON_0001954,Left,2769.4\n",
      "229,Pitt_50014,https://surfer.nmr.mgh.harvard.edu/,Left-Hippocampus Volume_mm3 (mm^3),http://purl.obolibrary.org/obo/UBERON_0001954,Left,4722.7\n",
      "230,Stanford_0051168,https://surfer.nmr.mgh.harvard.edu/,Left-Hippocampus Volume_mm3 (mm^3),http://purl.obolibrary.org/obo/UBERON_0001954,Left,4616.9\n",
      "231,USM_50470,https://surfer.nmr.mgh.harvard.edu/,Left-Hippocampus Volume_mm3 (mm^3),http://purl.obolibrary.org/obo/UBERON_0001954,Left,3838.9\n",
      "232,Caltech_51478,https://surfer.nmr.mgh.harvard.edu/,Left-Hippocampus Volume_mm3 (mm^3),http://purl.obolibrary.org/obo/UBERON_0001954,Left,4787.0\n",
      "233,NYU_0050965,https://surfer.nmr.mgh.harvard.edu/,Left-Hippocampus Volume_mm3 (mm^3),http://purl.obolibrary.org/obo/UBERON_0001954,Left,3970.7\n",
      "234,Trinity_0050240,https://surfer.nmr.mgh.harvard.edu/,Left-Hippocampus Volume_mm3 (mm^3),http://purl.obolibrary.org/obo/UBERON_0001954,Left,4282.0\n",
      "235,CMU_0050646,https://surfer.nmr.mgh.harvard.edu/,Left-Hippocampus Volume_mm3 (mm^3),http://purl.obolibrary.org/obo/UBERON_0001954,Left,5061.6\n",
      "236,KKI_0050778,https://surfer.nmr.mgh.harvard.edu/,Left-Hippocampus Volume_mm3 (mm^3),http://purl.obolibrary.org/obo/UBERON_0001954,Left,3767.3\n",
      "237,Leuven_0050691,https://surfer.nmr.mgh.harvard.edu/,Left-Hippocampus Volume_mm3 (mm^3),http://purl.obolibrary.org/obo/UBERON_0001954,Left,4297.1\n",
      "238,OHSU_0050142,https://surfer.nmr.mgh.harvard.edu/,Left hemisphere cortical gray matter volume (mm^3),http://purl.obolibrary.org/obo/UBERON_0000956,Left,309902.803458\n",
      "239,SBL_51556,https://surfer.nmr.mgh.harvard.edu/,Left hemisphere cortical gray matter volume (mm^3),http://purl.obolibrary.org/obo/UBERON_0000956,Left,283879.020799\n",
      "240,UCLA_0051210,https://surfer.nmr.mgh.harvard.edu/,Left hemisphere cortical gray matter volume (mm^3),http://purl.obolibrary.org/obo/UBERON_0000956,Left,282235.588342\n",
      "241,SDSU_0050185,https://surfer.nmr.mgh.harvard.edu/,Left hemisphere cortical gray matter volume (mm^3),http://purl.obolibrary.org/obo/UBERON_0000956,Left,180855.602879\n",
      "242,Yale_0050559,https://surfer.nmr.mgh.harvard.edu/,Left hemisphere cortical gray matter volume (mm^3),http://purl.obolibrary.org/obo/UBERON_0000956,Left,269132.822179\n",
      "243,MaxMun_51348,https://surfer.nmr.mgh.harvard.edu/,Left hemisphere cortical gray matter volume (mm^3),http://purl.obolibrary.org/obo/UBERON_0000956,Left,292852.92008\n",
      "244,Olin_0050107,https://surfer.nmr.mgh.harvard.edu/,Left hemisphere cortical gray matter volume (mm^3),http://purl.obolibrary.org/obo/UBERON_0000956,Left,297763.484345\n",
      "245,UM_0050404,https://surfer.nmr.mgh.harvard.edu/,Left hemisphere cortical gray matter volume (mm^3),http://purl.obolibrary.org/obo/UBERON_0000956,Left,183518.927537\n",
      "246,Pitt_50014,https://surfer.nmr.mgh.harvard.edu/,Left hemisphere cortical gray matter volume (mm^3),http://purl.obolibrary.org/obo/UBERON_0000956,Left,273973.597707\n",
      "247,Stanford_0051168,https://surfer.nmr.mgh.harvard.edu/,Left hemisphere cortical gray matter volume (mm^3),http://purl.obolibrary.org/obo/UBERON_0000956,Left,285715.133275\n",
      "248,USM_50470,https://surfer.nmr.mgh.harvard.edu/,Left hemisphere cortical gray matter volume (mm^3),http://purl.obolibrary.org/obo/UBERON_0000956,Left,316924.569517\n",
      "249,Caltech_51478,https://surfer.nmr.mgh.harvard.edu/,Left hemisphere cortical gray matter volume (mm^3),http://purl.obolibrary.org/obo/UBERON_0000956,Left,290407.666306\n",
      "250,NYU_0050965,https://surfer.nmr.mgh.harvard.edu/,Left hemisphere cortical gray matter volume (mm^3),http://purl.obolibrary.org/obo/UBERON_0000956,Left,315380.286933\n",
      "251,Trinity_0050240,https://surfer.nmr.mgh.harvard.edu/,Left hemisphere cortical gray matter volume (mm^3),http://purl.obolibrary.org/obo/UBERON_0000956,Left,285906.193694\n",
      "252,CMU_0050646,https://surfer.nmr.mgh.harvard.edu/,Left hemisphere cortical gray matter volume (mm^3),http://purl.obolibrary.org/obo/UBERON_0000956,Left,288352.251853\n"
     ]
    },
    {
     "name": "stdout",
     "output_type": "stream",
     "text": [
      "253,KKI_0050778,https://surfer.nmr.mgh.harvard.edu/,Left hemisphere cortical gray matter volume (mm^3),http://purl.obolibrary.org/obo/UBERON_0000956,Left,276875.195453\n",
      "254,Leuven_0050691,https://surfer.nmr.mgh.harvard.edu/,Left hemisphere cortical gray matter volume (mm^3),http://purl.obolibrary.org/obo/UBERON_0000956,Left,287160.600606\n",
      "255,OHSU_0050142,https://surfer.nmr.mgh.harvard.edu/,Brain-Stem Volume_mm3 (mm^3),http://purl.obolibrary.org/obo/UBERON_0002298,,20961.3\n",
      "256,SBL_51556,https://surfer.nmr.mgh.harvard.edu/,Brain-Stem Volume_mm3 (mm^3),http://purl.obolibrary.org/obo/UBERON_0002298,,20357.4\n",
      "257,UCLA_0051210,https://surfer.nmr.mgh.harvard.edu/,Brain-Stem Volume_mm3 (mm^3),http://purl.obolibrary.org/obo/UBERON_0002298,,17980.0\n",
      "258,SDSU_0050185,https://surfer.nmr.mgh.harvard.edu/,Brain-Stem Volume_mm3 (mm^3),http://purl.obolibrary.org/obo/UBERON_0002298,,19107.1\n",
      "259,Yale_0050559,https://surfer.nmr.mgh.harvard.edu/,Brain-Stem Volume_mm3 (mm^3),http://purl.obolibrary.org/obo/UBERON_0002298,,20696.3\n",
      "260,MaxMun_51348,https://surfer.nmr.mgh.harvard.edu/,Brain-Stem Volume_mm3 (mm^3),http://purl.obolibrary.org/obo/UBERON_0002298,,19653.7\n",
      "261,Olin_0050107,https://surfer.nmr.mgh.harvard.edu/,Brain-Stem Volume_mm3 (mm^3),http://purl.obolibrary.org/obo/UBERON_0002298,,22038.9\n",
      "262,UM_0050404,https://surfer.nmr.mgh.harvard.edu/,Brain-Stem Volume_mm3 (mm^3),http://purl.obolibrary.org/obo/UBERON_0002298,,11675.4\n",
      "263,Pitt_50014,https://surfer.nmr.mgh.harvard.edu/,Brain-Stem Volume_mm3 (mm^3),http://purl.obolibrary.org/obo/UBERON_0002298,,20618.4\n",
      "264,Stanford_0051168,https://surfer.nmr.mgh.harvard.edu/,Brain-Stem Volume_mm3 (mm^3),http://purl.obolibrary.org/obo/UBERON_0002298,,17204.8\n",
      "265,USM_50470,https://surfer.nmr.mgh.harvard.edu/,Brain-Stem Volume_mm3 (mm^3),http://purl.obolibrary.org/obo/UBERON_0002298,,20669.6\n",
      "266,Caltech_51478,https://surfer.nmr.mgh.harvard.edu/,Brain-Stem Volume_mm3 (mm^3),http://purl.obolibrary.org/obo/UBERON_0002298,,23986.3\n",
      "267,NYU_0050965,https://surfer.nmr.mgh.harvard.edu/,Brain-Stem Volume_mm3 (mm^3),http://purl.obolibrary.org/obo/UBERON_0002298,,19730.0\n",
      "268,Trinity_0050240,https://surfer.nmr.mgh.harvard.edu/,Brain-Stem Volume_mm3 (mm^3),http://purl.obolibrary.org/obo/UBERON_0002298,,22580.4\n",
      "269,CMU_0050646,https://surfer.nmr.mgh.harvard.edu/,Brain-Stem Volume_mm3 (mm^3),http://purl.obolibrary.org/obo/UBERON_0002298,,24437.3\n",
      "270,KKI_0050778,https://surfer.nmr.mgh.harvard.edu/,Brain-Stem Volume_mm3 (mm^3),http://purl.obolibrary.org/obo/UBERON_0002298,,19682.8\n",
      "271,Leuven_0050691,https://surfer.nmr.mgh.harvard.edu/,Brain-Stem Volume_mm3 (mm^3),http://purl.obolibrary.org/obo/UBERON_0002298,,23473.4\n",
      "272,OHSU_0050142,https://surfer.nmr.mgh.harvard.edu/,Supratentorial volume (mm^3),,,1178595.682649\n",
      "273,SBL_51556,https://surfer.nmr.mgh.harvard.edu/,Supratentorial volume (mm^3),,,1179917.814466\n",
      "274,UCLA_0051210,https://surfer.nmr.mgh.harvard.edu/,Supratentorial volume (mm^3),,,1085312.218648\n",
      "275,SDSU_0050185,https://surfer.nmr.mgh.harvard.edu/,Supratentorial volume (mm^3),,,751294.828541\n",
      "276,Yale_0050559,https://surfer.nmr.mgh.harvard.edu/,Supratentorial volume (mm^3),,,1074663.362\n",
      "277,MaxMun_51348,https://surfer.nmr.mgh.harvard.edu/,Supratentorial volume (mm^3),,,1030865.559707\n",
      "278,Olin_0050107,https://surfer.nmr.mgh.harvard.edu/,Supratentorial volume (mm^3),,,1252115.533251\n",
      "279,UM_0050404,https://surfer.nmr.mgh.harvard.edu/,Supratentorial volume (mm^3),,,680180.973303\n",
      "280,Pitt_50014,https://surfer.nmr.mgh.harvard.edu/,Supratentorial volume (mm^3),,,1032710.093907\n",
      "281,Stanford_0051168,https://surfer.nmr.mgh.harvard.edu/,Supratentorial volume (mm^3),,,1140314.402709\n",
      "282,USM_50470,https://surfer.nmr.mgh.harvard.edu/,Supratentorial volume (mm^3),,,1174709.697525\n",
      "283,Caltech_51478,https://surfer.nmr.mgh.harvard.edu/,Supratentorial volume (mm^3),,,1146229.558294\n",
      "284,NYU_0050965,https://surfer.nmr.mgh.harvard.edu/,Supratentorial volume (mm^3),,,1150788.51177\n",
      "285,Trinity_0050240,https://surfer.nmr.mgh.harvard.edu/,Supratentorial volume (mm^3),,,1092077.126593\n",
      "286,CMU_0050646,https://surfer.nmr.mgh.harvard.edu/,Supratentorial volume (mm^3),,,1188140.735821\n",
      "287,KKI_0050778,https://surfer.nmr.mgh.harvard.edu/,Supratentorial volume (mm^3),,,982644.158294\n",
      "288,Leuven_0050691,https://surfer.nmr.mgh.harvard.edu/,Supratentorial volume (mm^3),,,1177539.021799\n",
      "289,OHSU_0050142,https://surfer.nmr.mgh.harvard.edu/,Right-Accumbens-area Volume_mm3 (mm^3),http://purl.obolibrary.org/obo/UBERON_0001882,Right,756.8\n",
      "290,SBL_51556,https://surfer.nmr.mgh.harvard.edu/,Right-Accumbens-area Volume_mm3 (mm^3),http://purl.obolibrary.org/obo/UBERON_0001882,Right,795.8\n",
      "291,UCLA_0051210,https://surfer.nmr.mgh.harvard.edu/,Right-Accumbens-area Volume_mm3 (mm^3),http://purl.obolibrary.org/obo/UBERON_0001882,Right,734.2\n",
      "292,SDSU_0050185,https://surfer.nmr.mgh.harvard.edu/,Right-Accumbens-area Volume_mm3 (mm^3),http://purl.obolibrary.org/obo/UBERON_0001882,Right,698.5\n",
      "293,Yale_0050559,https://surfer.nmr.mgh.harvard.edu/,Right-Accumbens-area Volume_mm3 (mm^3),http://purl.obolibrary.org/obo/UBERON_0001882,Right,715.0\n",
      "294,MaxMun_51348,https://surfer.nmr.mgh.harvard.edu/,Right-Accumbens-area Volume_mm3 (mm^3),http://purl.obolibrary.org/obo/UBERON_0001882,Right,660.2\n",
      "295,Olin_0050107,https://surfer.nmr.mgh.harvard.edu/,Right-Accumbens-area Volume_mm3 (mm^3),http://purl.obolibrary.org/obo/UBERON_0001882,Right,801.2\n",
      "296,UM_0050404,https://surfer.nmr.mgh.harvard.edu/,Right-Accumbens-area Volume_mm3 (mm^3),http://purl.obolibrary.org/obo/UBERON_0001882,Right,400.7\n",
      "297,Pitt_50014,https://surfer.nmr.mgh.harvard.edu/,Right-Accumbens-area Volume_mm3 (mm^3),http://purl.obolibrary.org/obo/UBERON_0001882,Right,639.7\n",
      "298,Stanford_0051168,https://surfer.nmr.mgh.harvard.edu/,Right-Accumbens-area Volume_mm3 (mm^3),http://purl.obolibrary.org/obo/UBERON_0001882,Right,781.4\n",
      "299,USM_50470,https://surfer.nmr.mgh.harvard.edu/,Right-Accumbens-area Volume_mm3 (mm^3),http://purl.obolibrary.org/obo/UBERON_0001882,Right,700.1\n",
      "300,Caltech_51478,https://surfer.nmr.mgh.harvard.edu/,Right-Accumbens-area Volume_mm3 (mm^3),http://purl.obolibrary.org/obo/UBERON_0001882,Right,462.3\n",
      "301,NYU_0050965,https://surfer.nmr.mgh.harvard.edu/,Right-Accumbens-area Volume_mm3 (mm^3),http://purl.obolibrary.org/obo/UBERON_0001882,Right,589.8\n",
      "302,Trinity_0050240,https://surfer.nmr.mgh.harvard.edu/,Right-Accumbens-area Volume_mm3 (mm^3),http://purl.obolibrary.org/obo/UBERON_0001882,Right,702.5\n",
      "303,CMU_0050646,https://surfer.nmr.mgh.harvard.edu/,Right-Accumbens-area Volume_mm3 (mm^3),http://purl.obolibrary.org/obo/UBERON_0001882,Right,576.6\n",
      "304,KKI_0050778,https://surfer.nmr.mgh.harvard.edu/,Right-Accumbens-area Volume_mm3 (mm^3),http://purl.obolibrary.org/obo/UBERON_0001882,Right,568.3\n",
      "305,Leuven_0050691,https://surfer.nmr.mgh.harvard.edu/,Right-Accumbens-area Volume_mm3 (mm^3),http://purl.obolibrary.org/obo/UBERON_0001882,Right,846.6\n",
      "306,OHSU_0050142,https://surfer.nmr.mgh.harvard.edu/,Left-VentralDC Volume_mm3 (mm^3),,Left,3881.1\n",
      "307,SBL_51556,https://surfer.nmr.mgh.harvard.edu/,Left-VentralDC Volume_mm3 (mm^3),,Left,4978.2\n",
      "308,UCLA_0051210,https://surfer.nmr.mgh.harvard.edu/,Left-VentralDC Volume_mm3 (mm^3),,Left,3730.3\n",
      "309,SDSU_0050185,https://surfer.nmr.mgh.harvard.edu/,Left-VentralDC Volume_mm3 (mm^3),,Left,4025.8\n",
      "310,Yale_0050559,https://surfer.nmr.mgh.harvard.edu/,Left-VentralDC Volume_mm3 (mm^3),,Left,4045.0\n",
      "311,MaxMun_51348,https://surfer.nmr.mgh.harvard.edu/,Left-VentralDC Volume_mm3 (mm^3),,Left,3788.5\n",
      "312,Olin_0050107,https://surfer.nmr.mgh.harvard.edu/,Left-VentralDC Volume_mm3 (mm^3),,Left,4864.8\n",
      "313,UM_0050404,https://surfer.nmr.mgh.harvard.edu/,Left-VentralDC Volume_mm3 (mm^3),,Left,2189.2\n",
      "314,Pitt_50014,https://surfer.nmr.mgh.harvard.edu/,Left-VentralDC Volume_mm3 (mm^3),,Left,3933.5\n",
      "315,Stanford_0051168,https://surfer.nmr.mgh.harvard.edu/,Left-VentralDC Volume_mm3 (mm^3),,Left,4833.8\n",
      "316,USM_50470,https://surfer.nmr.mgh.harvard.edu/,Left-VentralDC Volume_mm3 (mm^3),,Left,4274.4\n",
      "317,Caltech_51478,https://surfer.nmr.mgh.harvard.edu/,Left-VentralDC Volume_mm3 (mm^3),,Left,4877.5\n",
      "318,NYU_0050965,https://surfer.nmr.mgh.harvard.edu/,Left-VentralDC Volume_mm3 (mm^3),,Left,4100.3\n",
      "319,Trinity_0050240,https://surfer.nmr.mgh.harvard.edu/,Left-VentralDC Volume_mm3 (mm^3),,Left,4219.8\n"
     ]
    },
    {
     "name": "stdout",
     "output_type": "stream",
     "text": [
      "320,CMU_0050646,https://surfer.nmr.mgh.harvard.edu/,Left-VentralDC Volume_mm3 (mm^3),,Left,5321.9\n",
      "321,KKI_0050778,https://surfer.nmr.mgh.harvard.edu/,Left-VentralDC Volume_mm3 (mm^3),,Left,3499.3\n",
      "322,Leuven_0050691,https://surfer.nmr.mgh.harvard.edu/,Left-VentralDC Volume_mm3 (mm^3),,Left,4255.2\n",
      "323,OHSU_0050142,https://surfer.nmr.mgh.harvard.edu/,Left-Cerebellum-White-Matter Volume_mm3 (mm^3),http://purl.obolibrary.org/obo/UBERON_0002317,Left,13797.2\n",
      "324,SBL_51556,https://surfer.nmr.mgh.harvard.edu/,Left-Cerebellum-White-Matter Volume_mm3 (mm^3),http://purl.obolibrary.org/obo/UBERON_0002317,Left,13196.2\n",
      "325,UCLA_0051210,https://surfer.nmr.mgh.harvard.edu/,Left-Cerebellum-White-Matter Volume_mm3 (mm^3),http://purl.obolibrary.org/obo/UBERON_0002317,Left,12601.0\n",
      "326,SDSU_0050185,https://surfer.nmr.mgh.harvard.edu/,Left-Cerebellum-White-Matter Volume_mm3 (mm^3),http://purl.obolibrary.org/obo/UBERON_0002317,Left,15741.6\n",
      "327,Yale_0050559,https://surfer.nmr.mgh.harvard.edu/,Left-Cerebellum-White-Matter Volume_mm3 (mm^3),http://purl.obolibrary.org/obo/UBERON_0002317,Left,13550.0\n",
      "328,MaxMun_51348,https://surfer.nmr.mgh.harvard.edu/,Left-Cerebellum-White-Matter Volume_mm3 (mm^3),http://purl.obolibrary.org/obo/UBERON_0002317,Left,14353.1\n",
      "329,Olin_0050107,https://surfer.nmr.mgh.harvard.edu/,Left-Cerebellum-White-Matter Volume_mm3 (mm^3),http://purl.obolibrary.org/obo/UBERON_0002317,Left,22440.7\n",
      "330,UM_0050404,https://surfer.nmr.mgh.harvard.edu/,Left-Cerebellum-White-Matter Volume_mm3 (mm^3),http://purl.obolibrary.org/obo/UBERON_0002317,Left,8687.4\n",
      "331,Pitt_50014,https://surfer.nmr.mgh.harvard.edu/,Left-Cerebellum-White-Matter Volume_mm3 (mm^3),http://purl.obolibrary.org/obo/UBERON_0002317,Left,14688.9\n",
      "332,Stanford_0051168,https://surfer.nmr.mgh.harvard.edu/,Left-Cerebellum-White-Matter Volume_mm3 (mm^3),http://purl.obolibrary.org/obo/UBERON_0002317,Left,17655.2\n",
      "333,USM_50470,https://surfer.nmr.mgh.harvard.edu/,Left-Cerebellum-White-Matter Volume_mm3 (mm^3),http://purl.obolibrary.org/obo/UBERON_0002317,Left,15460.4\n",
      "334,Caltech_51478,https://surfer.nmr.mgh.harvard.edu/,Left-Cerebellum-White-Matter Volume_mm3 (mm^3),http://purl.obolibrary.org/obo/UBERON_0002317,Left,19541.5\n",
      "335,NYU_0050965,https://surfer.nmr.mgh.harvard.edu/,Left-Cerebellum-White-Matter Volume_mm3 (mm^3),http://purl.obolibrary.org/obo/UBERON_0002317,Left,12743.1\n",
      "336,Trinity_0050240,https://surfer.nmr.mgh.harvard.edu/,Left-Cerebellum-White-Matter Volume_mm3 (mm^3),http://purl.obolibrary.org/obo/UBERON_0002317,Left,12713.7\n",
      "337,CMU_0050646,https://surfer.nmr.mgh.harvard.edu/,Left-Cerebellum-White-Matter Volume_mm3 (mm^3),http://purl.obolibrary.org/obo/UBERON_0002317,Left,15786.2\n",
      "338,KKI_0050778,https://surfer.nmr.mgh.harvard.edu/,Left-Cerebellum-White-Matter Volume_mm3 (mm^3),http://purl.obolibrary.org/obo/UBERON_0002317,Left,14517.6\n",
      "339,Leuven_0050691,https://surfer.nmr.mgh.harvard.edu/,Left-Cerebellum-White-Matter Volume_mm3 (mm^3),http://purl.obolibrary.org/obo/UBERON_0002317,Left,17470.7\n",
      "340,OHSU_0050142,https://surfer.nmr.mgh.harvard.edu/,Right-VentralDC Volume_mm3 (mm^3),,Right,3987.4\n",
      "341,SBL_51556,https://surfer.nmr.mgh.harvard.edu/,Right-VentralDC Volume_mm3 (mm^3),,Right,4755.3\n",
      "342,UCLA_0051210,https://surfer.nmr.mgh.harvard.edu/,Right-VentralDC Volume_mm3 (mm^3),,Right,3923.3\n",
      "343,SDSU_0050185,https://surfer.nmr.mgh.harvard.edu/,Right-VentralDC Volume_mm3 (mm^3),,Right,3812.1\n",
      "344,Yale_0050559,https://surfer.nmr.mgh.harvard.edu/,Right-VentralDC Volume_mm3 (mm^3),,Right,4022.3\n",
      "345,MaxMun_51348,https://surfer.nmr.mgh.harvard.edu/,Right-VentralDC Volume_mm3 (mm^3),,Right,3716.9\n",
      "346,Olin_0050107,https://surfer.nmr.mgh.harvard.edu/,Right-VentralDC Volume_mm3 (mm^3),,Right,4620.4\n",
      "347,UM_0050404,https://surfer.nmr.mgh.harvard.edu/,Right-VentralDC Volume_mm3 (mm^3),,Right,2137.1\n",
      "348,Pitt_50014,https://surfer.nmr.mgh.harvard.edu/,Right-VentralDC Volume_mm3 (mm^3),,Right,4052.8\n",
      "349,Stanford_0051168,https://surfer.nmr.mgh.harvard.edu/,Right-VentralDC Volume_mm3 (mm^3),,Right,4700.8\n",
      "350,USM_50470,https://surfer.nmr.mgh.harvard.edu/,Right-VentralDC Volume_mm3 (mm^3),,Right,4291.0\n",
      "351,Caltech_51478,https://surfer.nmr.mgh.harvard.edu/,Right-VentralDC Volume_mm3 (mm^3),,Right,4542.2\n",
      "352,NYU_0050965,https://surfer.nmr.mgh.harvard.edu/,Right-VentralDC Volume_mm3 (mm^3),,Right,3707.3\n",
      "353,Trinity_0050240,https://surfer.nmr.mgh.harvard.edu/,Right-VentralDC Volume_mm3 (mm^3),,Right,4378.5\n",
      "354,CMU_0050646,https://surfer.nmr.mgh.harvard.edu/,Right-VentralDC Volume_mm3 (mm^3),,Right,4919.1\n",
      "355,KKI_0050778,https://surfer.nmr.mgh.harvard.edu/,Right-VentralDC Volume_mm3 (mm^3),,Right,3639.3\n",
      "356,Leuven_0050691,https://surfer.nmr.mgh.harvard.edu/,Right-VentralDC Volume_mm3 (mm^3),,Right,4880.0\n",
      "357,OHSU_0050142,https://surfer.nmr.mgh.harvard.edu/,Left-Pallidum Volume_mm3 (mm^3),http://purl.obolibrary.org/obo/UBERON_0006514,Left,2176.4\n",
      "358,SBL_51556,https://surfer.nmr.mgh.harvard.edu/,Left-Pallidum Volume_mm3 (mm^3),http://purl.obolibrary.org/obo/UBERON_0006514,Left,2852.0\n",
      "359,UCLA_0051210,https://surfer.nmr.mgh.harvard.edu/,Left-Pallidum Volume_mm3 (mm^3),http://purl.obolibrary.org/obo/UBERON_0006514,Left,1833.4\n",
      "360,SDSU_0050185,https://surfer.nmr.mgh.harvard.edu/,Left-Pallidum Volume_mm3 (mm^3),http://purl.obolibrary.org/obo/UBERON_0006514,Left,2065.9\n",
      "361,Yale_0050559,https://surfer.nmr.mgh.harvard.edu/,Left-Pallidum Volume_mm3 (mm^3),http://purl.obolibrary.org/obo/UBERON_0006514,Left,2337.1\n",
      "362,MaxMun_51348,https://surfer.nmr.mgh.harvard.edu/,Left-Pallidum Volume_mm3 (mm^3),http://purl.obolibrary.org/obo/UBERON_0006514,Left,1915.1\n",
      "363,Olin_0050107,https://surfer.nmr.mgh.harvard.edu/,Left-Pallidum Volume_mm3 (mm^3),http://purl.obolibrary.org/obo/UBERON_0006514,Left,2025.9\n",
      "364,UM_0050404,https://surfer.nmr.mgh.harvard.edu/,Left-Pallidum Volume_mm3 (mm^3),http://purl.obolibrary.org/obo/UBERON_0006514,Left,1155.8\n",
      "365,Pitt_50014,https://surfer.nmr.mgh.harvard.edu/,Left-Pallidum Volume_mm3 (mm^3),http://purl.obolibrary.org/obo/UBERON_0006514,Left,2119.0\n",
      "366,Stanford_0051168,https://surfer.nmr.mgh.harvard.edu/,Left-Pallidum Volume_mm3 (mm^3),http://purl.obolibrary.org/obo/UBERON_0006514,Left,2166.7\n",
      "367,USM_50470,https://surfer.nmr.mgh.harvard.edu/,Left-Pallidum Volume_mm3 (mm^3),http://purl.obolibrary.org/obo/UBERON_0006514,Left,1997.1\n",
      "368,Caltech_51478,https://surfer.nmr.mgh.harvard.edu/,Left-Pallidum Volume_mm3 (mm^3),http://purl.obolibrary.org/obo/UBERON_0006514,Left,2307.7\n",
      "369,NYU_0050965,https://surfer.nmr.mgh.harvard.edu/,Left-Pallidum Volume_mm3 (mm^3),http://purl.obolibrary.org/obo/UBERON_0006514,Left,2070.6\n",
      "370,Trinity_0050240,https://surfer.nmr.mgh.harvard.edu/,Left-Pallidum Volume_mm3 (mm^3),http://purl.obolibrary.org/obo/UBERON_0006514,Left,1980.4\n",
      "371,CMU_0050646,https://surfer.nmr.mgh.harvard.edu/,Left-Pallidum Volume_mm3 (mm^3),http://purl.obolibrary.org/obo/UBERON_0006514,Left,2004.3\n",
      "372,KKI_0050778,https://surfer.nmr.mgh.harvard.edu/,Left-Pallidum Volume_mm3 (mm^3),http://purl.obolibrary.org/obo/UBERON_0006514,Left,1632.5\n",
      "373,Leuven_0050691,https://surfer.nmr.mgh.harvard.edu/,Left-Pallidum Volume_mm3 (mm^3),http://purl.obolibrary.org/obo/UBERON_0006514,Left,2240.0\n",
      "374,OHSU_0050142,https://surfer.nmr.mgh.harvard.edu/,Supratentorial volume (mm^3),http://purl.obolibrary.org/obo/UBERON_0001869,,1194306.682649\n",
      "375,SBL_51556,https://surfer.nmr.mgh.harvard.edu/,Supratentorial volume (mm^3),http://purl.obolibrary.org/obo/UBERON_0001869,,1186202.814466\n",
      "376,UCLA_0051210,https://surfer.nmr.mgh.harvard.edu/,Supratentorial volume (mm^3),http://purl.obolibrary.org/obo/UBERON_0001869,,1095087.218648\n",
      "377,SDSU_0050185,https://surfer.nmr.mgh.harvard.edu/,Supratentorial volume (mm^3),http://purl.obolibrary.org/obo/UBERON_0001869,,761221.828541\n",
      "378,Yale_0050559,https://surfer.nmr.mgh.harvard.edu/,Supratentorial volume (mm^3),http://purl.obolibrary.org/obo/UBERON_0001869,,1082218.362\n",
      "379,MaxMun_51348,https://surfer.nmr.mgh.harvard.edu/,Supratentorial volume (mm^3),http://purl.obolibrary.org/obo/UBERON_0001869,,1053515.559707\n",
      "380,Olin_0050107,https://surfer.nmr.mgh.harvard.edu/,Supratentorial volume (mm^3),http://purl.obolibrary.org/obo/UBERON_0001869,,1268144.533251\n",
      "381,UM_0050404,https://surfer.nmr.mgh.harvard.edu/,Supratentorial volume (mm^3),http://purl.obolibrary.org/obo/UBERON_0001869,,690416.973303\n"
     ]
    },
    {
     "name": "stdout",
     "output_type": "stream",
     "text": [
      "382,Pitt_50014,https://surfer.nmr.mgh.harvard.edu/,Supratentorial volume (mm^3),http://purl.obolibrary.org/obo/UBERON_0001869,,1055530.093907\n",
      "383,Stanford_0051168,https://surfer.nmr.mgh.harvard.edu/,Supratentorial volume (mm^3),http://purl.obolibrary.org/obo/UBERON_0001869,,1147749.402709\n",
      "384,USM_50470,https://surfer.nmr.mgh.harvard.edu/,Supratentorial volume (mm^3),http://purl.obolibrary.org/obo/UBERON_0001869,,1183999.697525\n",
      "385,Caltech_51478,https://surfer.nmr.mgh.harvard.edu/,Supratentorial volume (mm^3),http://purl.obolibrary.org/obo/UBERON_0001869,,1158384.558294\n",
      "386,NYU_0050965,https://surfer.nmr.mgh.harvard.edu/,Supratentorial volume (mm^3),http://purl.obolibrary.org/obo/UBERON_0001869,,1161840.51177\n",
      "387,Trinity_0050240,https://surfer.nmr.mgh.harvard.edu/,Supratentorial volume (mm^3),http://purl.obolibrary.org/obo/UBERON_0001869,,1099986.126593\n",
      "388,CMU_0050646,https://surfer.nmr.mgh.harvard.edu/,Supratentorial volume (mm^3),http://purl.obolibrary.org/obo/UBERON_0001869,,1197695.735821\n",
      "389,KKI_0050778,https://surfer.nmr.mgh.harvard.edu/,Supratentorial volume (mm^3),http://purl.obolibrary.org/obo/UBERON_0001869,,992858.158294\n",
      "390,Leuven_0050691,https://surfer.nmr.mgh.harvard.edu/,Supratentorial volume (mm^3),http://purl.obolibrary.org/obo/UBERON_0001869,,1193192.021799\n",
      "391,OHSU_0050142,https://surfer.nmr.mgh.harvard.edu/,Right-Caudate Volume_mm3 (mm^3),http://purl.obolibrary.org/obo/UBERON_0001873,Right,4380.9\n",
      "392,SBL_51556,https://surfer.nmr.mgh.harvard.edu/,Right-Caudate Volume_mm3 (mm^3),http://purl.obolibrary.org/obo/UBERON_0001873,Right,3634.6\n",
      "393,UCLA_0051210,https://surfer.nmr.mgh.harvard.edu/,Right-Caudate Volume_mm3 (mm^3),http://purl.obolibrary.org/obo/UBERON_0001873,Right,3536.2\n",
      "394,SDSU_0050185,https://surfer.nmr.mgh.harvard.edu/,Right-Caudate Volume_mm3 (mm^3),http://purl.obolibrary.org/obo/UBERON_0001873,Right,4754.1\n",
      "395,Yale_0050559,https://surfer.nmr.mgh.harvard.edu/,Right-Caudate Volume_mm3 (mm^3),http://purl.obolibrary.org/obo/UBERON_0001873,Right,3860.9\n",
      "396,MaxMun_51348,https://surfer.nmr.mgh.harvard.edu/,Right-Caudate Volume_mm3 (mm^3),http://purl.obolibrary.org/obo/UBERON_0001873,Right,4130.7\n",
      "397,Olin_0050107,https://surfer.nmr.mgh.harvard.edu/,Right-Caudate Volume_mm3 (mm^3),http://purl.obolibrary.org/obo/UBERON_0001873,Right,4552.9\n",
      "398,UM_0050404,https://surfer.nmr.mgh.harvard.edu/,Right-Caudate Volume_mm3 (mm^3),http://purl.obolibrary.org/obo/UBERON_0001873,Right,2717.8\n",
      "399,Pitt_50014,https://surfer.nmr.mgh.harvard.edu/,Right-Caudate Volume_mm3 (mm^3),http://purl.obolibrary.org/obo/UBERON_0001873,Right,3819.9\n",
      "400,Stanford_0051168,https://surfer.nmr.mgh.harvard.edu/,Right-Caudate Volume_mm3 (mm^3),http://purl.obolibrary.org/obo/UBERON_0001873,Right,4439.4\n",
      "401,USM_50470,https://surfer.nmr.mgh.harvard.edu/,Right-Caudate Volume_mm3 (mm^3),http://purl.obolibrary.org/obo/UBERON_0001873,Right,3769.3\n",
      "402,Caltech_51478,https://surfer.nmr.mgh.harvard.edu/,Right-Caudate Volume_mm3 (mm^3),http://purl.obolibrary.org/obo/UBERON_0001873,Right,3662.7\n",
      "403,NYU_0050965,https://surfer.nmr.mgh.harvard.edu/,Right-Caudate Volume_mm3 (mm^3),http://purl.obolibrary.org/obo/UBERON_0001873,Right,4231.3\n",
      "404,Trinity_0050240,https://surfer.nmr.mgh.harvard.edu/,Right-Caudate Volume_mm3 (mm^3),http://purl.obolibrary.org/obo/UBERON_0001873,Right,3614.3\n",
      "405,CMU_0050646,https://surfer.nmr.mgh.harvard.edu/,Right-Caudate Volume_mm3 (mm^3),http://purl.obolibrary.org/obo/UBERON_0001873,Right,3475.9\n",
      "406,KKI_0050778,https://surfer.nmr.mgh.harvard.edu/,Right-Caudate Volume_mm3 (mm^3),http://purl.obolibrary.org/obo/UBERON_0001873,Right,3360.4\n",
      "407,Leuven_0050691,https://surfer.nmr.mgh.harvard.edu/,Right-Caudate Volume_mm3 (mm^3),http://purl.obolibrary.org/obo/UBERON_0001873,Right,4524.8\n",
      "408,OHSU_0050142,https://surfer.nmr.mgh.harvard.edu/,Left-Cerebellum-Cortex Volume_mm3 (mm^3),http://purl.obolibrary.org/obo/UBERON_0002129,Left,59910.9\n",
      "409,SBL_51556,https://surfer.nmr.mgh.harvard.edu/,Left-Cerebellum-Cortex Volume_mm3 (mm^3),http://purl.obolibrary.org/obo/UBERON_0002129,Left,54789.7\n",
      "410,UCLA_0051210,https://surfer.nmr.mgh.harvard.edu/,Left-Cerebellum-Cortex Volume_mm3 (mm^3),http://purl.obolibrary.org/obo/UBERON_0002129,Left,50462.8\n",
      "411,SDSU_0050185,https://surfer.nmr.mgh.harvard.edu/,Left-Cerebellum-Cortex Volume_mm3 (mm^3),http://purl.obolibrary.org/obo/UBERON_0002129,Left,66163.6\n",
      "412,Yale_0050559,https://surfer.nmr.mgh.harvard.edu/,Left-Cerebellum-Cortex Volume_mm3 (mm^3),http://purl.obolibrary.org/obo/UBERON_0002129,Left,63433.6\n",
      "413,MaxMun_51348,https://surfer.nmr.mgh.harvard.edu/,Left-Cerebellum-Cortex Volume_mm3 (mm^3),http://purl.obolibrary.org/obo/UBERON_0002129,Left,70972.7\n",
      "414,Olin_0050107,https://surfer.nmr.mgh.harvard.edu/,Left-Cerebellum-Cortex Volume_mm3 (mm^3),http://purl.obolibrary.org/obo/UBERON_0002129,Left,66116.8\n",
      "415,UM_0050404,https://surfer.nmr.mgh.harvard.edu/,Left-Cerebellum-Cortex Volume_mm3 (mm^3),http://purl.obolibrary.org/obo/UBERON_0002129,Left,40419.7\n",
      "416,Pitt_50014,https://surfer.nmr.mgh.harvard.edu/,Left-Cerebellum-Cortex Volume_mm3 (mm^3),http://purl.obolibrary.org/obo/UBERON_0002129,Left,69726.0\n",
      "417,Stanford_0051168,https://surfer.nmr.mgh.harvard.edu/,Left-Cerebellum-Cortex Volume_mm3 (mm^3),http://purl.obolibrary.org/obo/UBERON_0002129,Left,53106.7\n",
      "418,USM_50470,https://surfer.nmr.mgh.harvard.edu/,Left-Cerebellum-Cortex Volume_mm3 (mm^3),http://purl.obolibrary.org/obo/UBERON_0002129,Left,58665.4\n",
      "419,Caltech_51478,https://surfer.nmr.mgh.harvard.edu/,Left-Cerebellum-Cortex Volume_mm3 (mm^3),http://purl.obolibrary.org/obo/UBERON_0002129,Left,68351.7\n",
      "420,NYU_0050965,https://surfer.nmr.mgh.harvard.edu/,Left-Cerebellum-Cortex Volume_mm3 (mm^3),http://purl.obolibrary.org/obo/UBERON_0002129,Left,63790.4\n",
      "421,Trinity_0050240,https://surfer.nmr.mgh.harvard.edu/,Left-Cerebellum-Cortex Volume_mm3 (mm^3),http://purl.obolibrary.org/obo/UBERON_0002129,Left,59758.7\n",
      "422,CMU_0050646,https://surfer.nmr.mgh.harvard.edu/,Left-Cerebellum-Cortex Volume_mm3 (mm^3),http://purl.obolibrary.org/obo/UBERON_0002129,Left,73336.9\n",
      "423,KKI_0050778,https://surfer.nmr.mgh.harvard.edu/,Left-Cerebellum-Cortex Volume_mm3 (mm^3),http://purl.obolibrary.org/obo/UBERON_0002129,Left,57873.9\n",
      "424,Leuven_0050691,https://surfer.nmr.mgh.harvard.edu/,Left-Cerebellum-Cortex Volume_mm3 (mm^3),http://purl.obolibrary.org/obo/UBERON_0002129,Left,57865.0\n",
      "425,OHSU_0050142,https://surfer.nmr.mgh.harvard.edu/,Estimated Total Intracranial Volume (mm^3),http://purl.obolibrary.org/obo/UBERON_0013411,,1631866.143443\n",
      "426,SBL_51556,https://surfer.nmr.mgh.harvard.edu/,Estimated Total Intracranial Volume (mm^3),http://purl.obolibrary.org/obo/UBERON_0013411,,1701259.532969\n",
      "427,UCLA_0051210,https://surfer.nmr.mgh.harvard.edu/,Estimated Total Intracranial Volume (mm^3),http://purl.obolibrary.org/obo/UBERON_0013411,,1517550.662008\n",
      "428,SDSU_0050185,https://surfer.nmr.mgh.harvard.edu/,Estimated Total Intracranial Volume (mm^3),http://purl.obolibrary.org/obo/UBERON_0013411,,1584710.192823\n",
      "429,Yale_0050559,https://surfer.nmr.mgh.harvard.edu/,Estimated Total Intracranial Volume (mm^3),http://purl.obolibrary.org/obo/UBERON_0013411,,1532858.606597\n",
      "430,MaxMun_51348,https://surfer.nmr.mgh.harvard.edu/,Estimated Total Intracranial Volume (mm^3),http://purl.obolibrary.org/obo/UBERON_0013411,,1528850.719959\n",
      "431,Olin_0050107,https://surfer.nmr.mgh.harvard.edu/,Estimated Total Intracranial Volume (mm^3),http://purl.obolibrary.org/obo/UBERON_0013411,,1757765.601149\n",
      "432,UM_0050404,https://surfer.nmr.mgh.harvard.edu/,Estimated Total Intracranial Volume (mm^3),http://purl.obolibrary.org/obo/UBERON_0013411,,1031345.773078\n",
      "433,Pitt_50014,https://surfer.nmr.mgh.harvard.edu/,Estimated Total Intracranial Volume (mm^3),http://purl.obolibrary.org/obo/UBERON_0013411,,1626868.523913\n",
      "434,Stanford_0051168,https://surfer.nmr.mgh.harvard.edu/,Estimated Total Intracranial Volume (mm^3),http://purl.obolibrary.org/obo/UBERON_0013411,,1407668.575135\n",
      "435,USM_50470,https://surfer.nmr.mgh.harvard.edu/,Estimated Total Intracranial Volume (mm^3),http://purl.obolibrary.org/obo/UBERON_0013411,,1541427.280477\n",
      "436,Caltech_51478,https://surfer.nmr.mgh.harvard.edu/,Estimated Total Intracranial Volume (mm^3),http://purl.obolibrary.org/obo/UBERON_0013411,,1736937.791627\n"
     ]
    },
    {
     "name": "stdout",
     "output_type": "stream",
     "text": [
      "437,NYU_0050965,https://surfer.nmr.mgh.harvard.edu/,Estimated Total Intracranial Volume (mm^3),http://purl.obolibrary.org/obo/UBERON_0013411,,1603712.32746\n",
      "438,Trinity_0050240,https://surfer.nmr.mgh.harvard.edu/,Estimated Total Intracranial Volume (mm^3),http://purl.obolibrary.org/obo/UBERON_0013411,,1566536.678052\n",
      "439,CMU_0050646,https://surfer.nmr.mgh.harvard.edu/,Estimated Total Intracranial Volume (mm^3),http://purl.obolibrary.org/obo/UBERON_0013411,,1697699.331476\n",
      "440,KKI_0050778,https://surfer.nmr.mgh.harvard.edu/,Estimated Total Intracranial Volume (mm^3),http://purl.obolibrary.org/obo/UBERON_0013411,,1285923.08102\n",
      "441,Leuven_0050691,https://surfer.nmr.mgh.harvard.edu/,Estimated Total Intracranial Volume (mm^3),http://purl.obolibrary.org/obo/UBERON_0013411,,1463350.730301\n",
      "442,OHSU_0050142,https://surfer.nmr.mgh.harvard.edu/,Right-Hippocampus Volume_mm3 (mm^3),http://purl.obolibrary.org/obo/UBERON_0001954,Right,4116.4\n",
      "443,SBL_51556,https://surfer.nmr.mgh.harvard.edu/,Right-Hippocampus Volume_mm3 (mm^3),http://purl.obolibrary.org/obo/UBERON_0001954,Right,4015.9\n",
      "444,UCLA_0051210,https://surfer.nmr.mgh.harvard.edu/,Right-Hippocampus Volume_mm3 (mm^3),http://purl.obolibrary.org/obo/UBERON_0001954,Right,3682.1\n",
      "445,SDSU_0050185,https://surfer.nmr.mgh.harvard.edu/,Right-Hippocampus Volume_mm3 (mm^3),http://purl.obolibrary.org/obo/UBERON_0001954,Right,4423.0\n",
      "446,Yale_0050559,https://surfer.nmr.mgh.harvard.edu/,Right-Hippocampus Volume_mm3 (mm^3),http://purl.obolibrary.org/obo/UBERON_0001954,Right,4229.6\n",
      "447,MaxMun_51348,https://surfer.nmr.mgh.harvard.edu/,Right-Hippocampus Volume_mm3 (mm^3),http://purl.obolibrary.org/obo/UBERON_0001954,Right,4057.8\n",
      "448,Olin_0050107,https://surfer.nmr.mgh.harvard.edu/,Right-Hippocampus Volume_mm3 (mm^3),http://purl.obolibrary.org/obo/UBERON_0001954,Right,4539.9\n",
      "449,UM_0050404,https://surfer.nmr.mgh.harvard.edu/,Right-Hippocampus Volume_mm3 (mm^3),http://purl.obolibrary.org/obo/UBERON_0001954,Right,2828.4\n",
      "450,Pitt_50014,https://surfer.nmr.mgh.harvard.edu/,Right-Hippocampus Volume_mm3 (mm^3),http://purl.obolibrary.org/obo/UBERON_0001954,Right,5084.7\n",
      "451,Stanford_0051168,https://surfer.nmr.mgh.harvard.edu/,Right-Hippocampus Volume_mm3 (mm^3),http://purl.obolibrary.org/obo/UBERON_0001954,Right,4658.0\n",
      "452,USM_50470,https://surfer.nmr.mgh.harvard.edu/,Right-Hippocampus Volume_mm3 (mm^3),http://purl.obolibrary.org/obo/UBERON_0001954,Right,3751.8\n",
      "453,Caltech_51478,https://surfer.nmr.mgh.harvard.edu/,Right-Hippocampus Volume_mm3 (mm^3),http://purl.obolibrary.org/obo/UBERON_0001954,Right,4833.7\n",
      "454,NYU_0050965,https://surfer.nmr.mgh.harvard.edu/,Right-Hippocampus Volume_mm3 (mm^3),http://purl.obolibrary.org/obo/UBERON_0001954,Right,3912.0\n",
      "455,Trinity_0050240,https://surfer.nmr.mgh.harvard.edu/,Right-Hippocampus Volume_mm3 (mm^3),http://purl.obolibrary.org/obo/UBERON_0001954,Right,4568.3\n",
      "456,CMU_0050646,https://surfer.nmr.mgh.harvard.edu/,Right-Hippocampus Volume_mm3 (mm^3),http://purl.obolibrary.org/obo/UBERON_0001954,Right,5124.9\n",
      "457,KKI_0050778,https://surfer.nmr.mgh.harvard.edu/,Right-Hippocampus Volume_mm3 (mm^3),http://purl.obolibrary.org/obo/UBERON_0001954,Right,3797.7\n",
      "458,Leuven_0050691,https://surfer.nmr.mgh.harvard.edu/,Right-Hippocampus Volume_mm3 (mm^3),http://purl.obolibrary.org/obo/UBERON_0001954,Right,4452.1\n",
      "459,OHSU_0050142,https://surfer.nmr.mgh.harvard.edu/,5th-Ventricle Volume_mm3 (mm^3),http://purl.obolibrary.org/obo/UBERON_0009857,,0.0\n",
      "460,SBL_51556,https://surfer.nmr.mgh.harvard.edu/,5th-Ventricle Volume_mm3 (mm^3),http://purl.obolibrary.org/obo/UBERON_0009857,,0.0\n",
      "461,UCLA_0051210,https://surfer.nmr.mgh.harvard.edu/,5th-Ventricle Volume_mm3 (mm^3),http://purl.obolibrary.org/obo/UBERON_0009857,,0.0\n",
      "462,SDSU_0050185,https://surfer.nmr.mgh.harvard.edu/,5th-Ventricle Volume_mm3 (mm^3),http://purl.obolibrary.org/obo/UBERON_0009857,,0.0\n",
      "463,Yale_0050559,https://surfer.nmr.mgh.harvard.edu/,5th-Ventricle Volume_mm3 (mm^3),http://purl.obolibrary.org/obo/UBERON_0009857,,0.0\n",
      "464,MaxMun_51348,https://surfer.nmr.mgh.harvard.edu/,5th-Ventricle Volume_mm3 (mm^3),http://purl.obolibrary.org/obo/UBERON_0009857,,0.0\n",
      "465,Olin_0050107,https://surfer.nmr.mgh.harvard.edu/,5th-Ventricle Volume_mm3 (mm^3),http://purl.obolibrary.org/obo/UBERON_0009857,,0.0\n",
      "466,UM_0050404,https://surfer.nmr.mgh.harvard.edu/,5th-Ventricle Volume_mm3 (mm^3),http://purl.obolibrary.org/obo/UBERON_0009857,,0.0\n",
      "467,Pitt_50014,https://surfer.nmr.mgh.harvard.edu/,5th-Ventricle Volume_mm3 (mm^3),http://purl.obolibrary.org/obo/UBERON_0009857,,0.0\n",
      "468,Stanford_0051168,https://surfer.nmr.mgh.harvard.edu/,5th-Ventricle Volume_mm3 (mm^3),http://purl.obolibrary.org/obo/UBERON_0009857,,0.0\n",
      "469,USM_50470,https://surfer.nmr.mgh.harvard.edu/,5th-Ventricle Volume_mm3 (mm^3),http://purl.obolibrary.org/obo/UBERON_0009857,,0.0\n",
      "470,Caltech_51478,https://surfer.nmr.mgh.harvard.edu/,5th-Ventricle Volume_mm3 (mm^3),http://purl.obolibrary.org/obo/UBERON_0009857,,0.0\n",
      "471,NYU_0050965,https://surfer.nmr.mgh.harvard.edu/,5th-Ventricle Volume_mm3 (mm^3),http://purl.obolibrary.org/obo/UBERON_0009857,,0.0\n",
      "472,Trinity_0050240,https://surfer.nmr.mgh.harvard.edu/,5th-Ventricle Volume_mm3 (mm^3),http://purl.obolibrary.org/obo/UBERON_0009857,,0.0\n",
      "473,CMU_0050646,https://surfer.nmr.mgh.harvard.edu/,5th-Ventricle Volume_mm3 (mm^3),http://purl.obolibrary.org/obo/UBERON_0009857,,0.0\n",
      "474,KKI_0050778,https://surfer.nmr.mgh.harvard.edu/,5th-Ventricle Volume_mm3 (mm^3),http://purl.obolibrary.org/obo/UBERON_0009857,,0.0\n",
      "475,Leuven_0050691,https://surfer.nmr.mgh.harvard.edu/,5th-Ventricle Volume_mm3 (mm^3),http://purl.obolibrary.org/obo/UBERON_0009857,,0.0\n",
      "476,OHSU_0050142,https://surfer.nmr.mgh.harvard.edu/,Brain Segmentation Volume (mm^3),http://purl.obolibrary.org/obo/UBERON_0000955,,1344414.0\n",
      "477,SBL_51556,https://surfer.nmr.mgh.harvard.edu/,Brain Segmentation Volume (mm^3),http://purl.obolibrary.org/obo/UBERON_0000955,,1321881.0\n",
      "478,UCLA_0051210,https://surfer.nmr.mgh.harvard.edu/,Brain Segmentation Volume (mm^3),http://purl.obolibrary.org/obo/UBERON_0000955,,1223342.0\n",
      "479,SDSU_0050185,https://surfer.nmr.mgh.harvard.edu/,Brain Segmentation Volume (mm^3),http://purl.obolibrary.org/obo/UBERON_0000955,,924293.0\n",
      "480,Yale_0050559,https://surfer.nmr.mgh.harvard.edu/,Brain Segmentation Volume (mm^3),http://purl.obolibrary.org/obo/UBERON_0000955,,1237010.0\n",
      "481,MaxMun_51348,https://surfer.nmr.mgh.harvard.edu/,Brain Segmentation Volume (mm^3),http://purl.obolibrary.org/obo/UBERON_0000955,,1225672.0\n",
      "482,Olin_0050107,https://surfer.nmr.mgh.harvard.edu/,Brain Segmentation Volume (mm^3),http://purl.obolibrary.org/obo/UBERON_0000955,,1446708.0\n",
      "483,UM_0050404,https://surfer.nmr.mgh.harvard.edu/,Brain Segmentation Volume (mm^3),http://purl.obolibrary.org/obo/UBERON_0000955,,787004.0\n",
      "484,Pitt_50014,https://surfer.nmr.mgh.harvard.edu/,Brain Segmentation Volume (mm^3),http://purl.obolibrary.org/obo/UBERON_0000955,,1224882.0\n",
      "485,Stanford_0051168,https://surfer.nmr.mgh.harvard.edu/,Brain Segmentation Volume (mm^3),http://purl.obolibrary.org/obo/UBERON_0000955,,1287584.0\n",
      "486,USM_50470,https://surfer.nmr.mgh.harvard.edu/,Brain Segmentation Volume (mm^3),http://purl.obolibrary.org/obo/UBERON_0000955,,1328456.0\n",
      "487,Caltech_51478,https://surfer.nmr.mgh.harvard.edu/,Brain Segmentation Volume (mm^3),http://purl.obolibrary.org/obo/UBERON_0000955,,1336164.0\n",
      "488,NYU_0050965,https://surfer.nmr.mgh.harvard.edu/,Brain Segmentation Volume (mm^3),http://purl.obolibrary.org/obo/UBERON_0000955,,1312271.0\n",
      "489,Trinity_0050240,https://surfer.nmr.mgh.harvard.edu/,Brain Segmentation Volume (mm^3),http://purl.obolibrary.org/obo/UBERON_0000955,,1243397.0\n",
      "490,CMU_0050646,https://surfer.nmr.mgh.harvard.edu/,Brain Segmentation Volume (mm^3),http://purl.obolibrary.org/obo/UBERON_0000955,,1381948.0\n",
      "491,KKI_0050778,https://surfer.nmr.mgh.harvard.edu/,Brain Segmentation Volume (mm^3),http://purl.obolibrary.org/obo/UBERON_0000955,,1136315.0\n",
      "492,Leuven_0050691,https://surfer.nmr.mgh.harvard.edu/,Brain Segmentation Volume (mm^3),http://purl.obolibrary.org/obo/UBERON_0000955,,1341839.0\n",
      "493,OHSU_0050142,https://surfer.nmr.mgh.harvard.edu/,Right-choroid-plexus Volume_mm3 (mm^3),http://purl.obolibrary.org/obo/UBERON_0001886,Right,679.9\n",
      "494,SBL_51556,https://surfer.nmr.mgh.harvard.edu/,Right-choroid-plexus Volume_mm3 (mm^3),http://purl.obolibrary.org/obo/UBERON_0001886,Right,213.7\n"
     ]
    },
    {
     "name": "stdout",
     "output_type": "stream",
     "text": [
      "495,UCLA_0051210,https://surfer.nmr.mgh.harvard.edu/,Right-choroid-plexus Volume_mm3 (mm^3),http://purl.obolibrary.org/obo/UBERON_0001886,Right,391.1\n",
      "496,SDSU_0050185,https://surfer.nmr.mgh.harvard.edu/,Right-choroid-plexus Volume_mm3 (mm^3),http://purl.obolibrary.org/obo/UBERON_0001886,Right,582.2\n",
      "497,Yale_0050559,https://surfer.nmr.mgh.harvard.edu/,Right-choroid-plexus Volume_mm3 (mm^3),http://purl.obolibrary.org/obo/UBERON_0001886,Right,361.8\n",
      "498,MaxMun_51348,https://surfer.nmr.mgh.harvard.edu/,Right-choroid-plexus Volume_mm3 (mm^3),http://purl.obolibrary.org/obo/UBERON_0001886,Right,406.8\n",
      "499,Olin_0050107,https://surfer.nmr.mgh.harvard.edu/,Right-choroid-plexus Volume_mm3 (mm^3),http://purl.obolibrary.org/obo/UBERON_0001886,Right,695.3\n",
      "500,UM_0050404,https://surfer.nmr.mgh.harvard.edu/,Right-choroid-plexus Volume_mm3 (mm^3),http://purl.obolibrary.org/obo/UBERON_0001886,Right,251.0\n",
      "501,Pitt_50014,https://surfer.nmr.mgh.harvard.edu/,Right-choroid-plexus Volume_mm3 (mm^3),http://purl.obolibrary.org/obo/UBERON_0001886,Right,866.3\n",
      "502,Stanford_0051168,https://surfer.nmr.mgh.harvard.edu/,Right-choroid-plexus Volume_mm3 (mm^3),http://purl.obolibrary.org/obo/UBERON_0001886,Right,425.0\n",
      "503,USM_50470,https://surfer.nmr.mgh.harvard.edu/,Right-choroid-plexus Volume_mm3 (mm^3),http://purl.obolibrary.org/obo/UBERON_0001886,Right,361.3\n",
      "504,Caltech_51478,https://surfer.nmr.mgh.harvard.edu/,Right-choroid-plexus Volume_mm3 (mm^3),http://purl.obolibrary.org/obo/UBERON_0001886,Right,383.8\n",
      "505,NYU_0050965,https://surfer.nmr.mgh.harvard.edu/,Right-choroid-plexus Volume_mm3 (mm^3),http://purl.obolibrary.org/obo/UBERON_0001886,Right,621.5\n",
      "506,Trinity_0050240,https://surfer.nmr.mgh.harvard.edu/,Right-choroid-plexus Volume_mm3 (mm^3),http://purl.obolibrary.org/obo/UBERON_0001886,Right,420.5\n",
      "507,CMU_0050646,https://surfer.nmr.mgh.harvard.edu/,Right-choroid-plexus Volume_mm3 (mm^3),http://purl.obolibrary.org/obo/UBERON_0001886,Right,581.2\n",
      "508,KKI_0050778,https://surfer.nmr.mgh.harvard.edu/,Right-choroid-plexus Volume_mm3 (mm^3),http://purl.obolibrary.org/obo/UBERON_0001886,Right,427.9\n",
      "509,Leuven_0050691,https://surfer.nmr.mgh.harvard.edu/,Right-choroid-plexus Volume_mm3 (mm^3),http://purl.obolibrary.org/obo/UBERON_0001886,Right,766.0\n",
      "510,OHSU_0050142,https://surfer.nmr.mgh.harvard.edu/,Left-Lateral-Ventricle Volume_mm3 (mm^3),http://purl.obolibrary.org/obo/UBERON_0002285,Left,6806.5\n",
      "511,SBL_51556,https://surfer.nmr.mgh.harvard.edu/,Left-Lateral-Ventricle Volume_mm3 (mm^3),http://purl.obolibrary.org/obo/UBERON_0002285,Left,3116.4\n",
      "512,UCLA_0051210,https://surfer.nmr.mgh.harvard.edu/,Left-Lateral-Ventricle Volume_mm3 (mm^3),http://purl.obolibrary.org/obo/UBERON_0002285,Left,4162.5\n",
      "513,SDSU_0050185,https://surfer.nmr.mgh.harvard.edu/,Left-Lateral-Ventricle Volume_mm3 (mm^3),http://purl.obolibrary.org/obo/UBERON_0002285,Left,4205.0\n",
      "514,Yale_0050559,https://surfer.nmr.mgh.harvard.edu/,Left-Lateral-Ventricle Volume_mm3 (mm^3),http://purl.obolibrary.org/obo/UBERON_0002285,Left,3958.6\n",
      "515,MaxMun_51348,https://surfer.nmr.mgh.harvard.edu/,Left-Lateral-Ventricle Volume_mm3 (mm^3),http://purl.obolibrary.org/obo/UBERON_0002285,Left,11341.9\n",
      "516,Olin_0050107,https://surfer.nmr.mgh.harvard.edu/,Left-Lateral-Ventricle Volume_mm3 (mm^3),http://purl.obolibrary.org/obo/UBERON_0002285,Left,6500.2\n",
      "517,UM_0050404,https://surfer.nmr.mgh.harvard.edu/,Left-Lateral-Ventricle Volume_mm3 (mm^3),http://purl.obolibrary.org/obo/UBERON_0002285,Left,4955.2\n",
      "518,Pitt_50014,https://surfer.nmr.mgh.harvard.edu/,Left-Lateral-Ventricle Volume_mm3 (mm^3),http://purl.obolibrary.org/obo/UBERON_0002285,Left,11747.3\n",
      "519,Stanford_0051168,https://surfer.nmr.mgh.harvard.edu/,Left-Lateral-Ventricle Volume_mm3 (mm^3),http://purl.obolibrary.org/obo/UBERON_0002285,Left,3019.3\n",
      "520,USM_50470,https://surfer.nmr.mgh.harvard.edu/,Left-Lateral-Ventricle Volume_mm3 (mm^3),http://purl.obolibrary.org/obo/UBERON_0002285,Left,4780.2\n",
      "521,Caltech_51478,https://surfer.nmr.mgh.harvard.edu/,Left-Lateral-Ventricle Volume_mm3 (mm^3),http://purl.obolibrary.org/obo/UBERON_0002285,Left,4710.5\n",
      "522,NYU_0050965,https://surfer.nmr.mgh.harvard.edu/,Left-Lateral-Ventricle Volume_mm3 (mm^3),http://purl.obolibrary.org/obo/UBERON_0002285,Left,5380.3\n",
      "523,Trinity_0050240,https://surfer.nmr.mgh.harvard.edu/,Left-Lateral-Ventricle Volume_mm3 (mm^3),http://purl.obolibrary.org/obo/UBERON_0002285,Left,3794.9\n",
      "524,CMU_0050646,https://surfer.nmr.mgh.harvard.edu/,Left-Lateral-Ventricle Volume_mm3 (mm^3),http://purl.obolibrary.org/obo/UBERON_0002285,Left,4428.6\n",
      "525,KKI_0050778,https://surfer.nmr.mgh.harvard.edu/,Left-Lateral-Ventricle Volume_mm3 (mm^3),http://purl.obolibrary.org/obo/UBERON_0002285,Left,5070.4\n",
      "526,Leuven_0050691,https://surfer.nmr.mgh.harvard.edu/,Left-Lateral-Ventricle Volume_mm3 (mm^3),http://purl.obolibrary.org/obo/UBERON_0002285,Left,6226.0\n",
      "527,OHSU_0050142,https://surfer.nmr.mgh.harvard.edu/,Left hemisphere cerebral white matter volume (mm^3),http://purl.obolibrary.org/obo/UBERON_0002437,Left,244925.769458\n",
      "528,SBL_51556,https://surfer.nmr.mgh.harvard.edu/,Left hemisphere cerebral white matter volume (mm^3),http://purl.obolibrary.org/obo/UBERON_0002437,Left,270959.189483\n",
      "529,UCLA_0051210,https://surfer.nmr.mgh.harvard.edu/,Left hemisphere cerebral white matter volume (mm^3),http://purl.obolibrary.org/obo/UBERON_0002437,Left,234615.178283\n",
      "530,SDSU_0050185,https://surfer.nmr.mgh.harvard.edu/,Left hemisphere cerebral white matter volume (mm^3),http://purl.obolibrary.org/obo/UBERON_0002437,Left,138674.695271\n",
      "531,Yale_0050559,https://surfer.nmr.mgh.harvard.edu/,Left hemisphere cerebral white matter volume (mm^3),http://purl.obolibrary.org/obo/UBERON_0002437,Left,227728.739762\n",
      "532,MaxMun_51348,https://surfer.nmr.mgh.harvard.edu/,Left hemisphere cerebral white matter volume (mm^3),http://purl.obolibrary.org/obo/UBERON_0002437,Left,195089.303996\n",
      "533,Olin_0050107,https://surfer.nmr.mgh.harvard.edu/,Left hemisphere cerebral white matter volume (mm^3),http://purl.obolibrary.org/obo/UBERON_0002437,Left,286412.115342\n",
      "534,UM_0050404,https://surfer.nmr.mgh.harvard.edu/,Left hemisphere cerebral white matter volume (mm^3),http://purl.obolibrary.org/obo/UBERON_0002437,Left,128647.788724\n",
      "535,Pitt_50014,https://surfer.nmr.mgh.harvard.edu/,Left hemisphere cerebral white matter volume (mm^3),http://purl.obolibrary.org/obo/UBERON_0002437,Left,210126.202473\n",
      "536,Stanford_0051168,https://surfer.nmr.mgh.harvard.edu/,Left hemisphere cerebral white matter volume (mm^3),http://purl.obolibrary.org/obo/UBERON_0002437,Left,253736.66849\n",
      "537,USM_50470,https://surfer.nmr.mgh.harvard.edu/,Left hemisphere cerebral white matter volume (mm^3),http://purl.obolibrary.org/obo/UBERON_0002437,Left,237542.807352\n",
      "538,Caltech_51478,https://surfer.nmr.mgh.harvard.edu/,Left hemisphere cerebral white matter volume (mm^3),http://purl.obolibrary.org/obo/UBERON_0002437,Left,243810.642961\n",
      "539,NYU_0050965,https://surfer.nmr.mgh.harvard.edu/,Left hemisphere cerebral white matter volume (mm^3),http://purl.obolibrary.org/obo/UBERON_0002437,Left,226592.031744\n",
      "540,Trinity_0050240,https://surfer.nmr.mgh.harvard.edu/,Left hemisphere cerebral white matter volume (mm^3),http://purl.obolibrary.org/obo/UBERON_0002437,Left,226364.016795\n",
      "541,CMU_0050646,https://surfer.nmr.mgh.harvard.edu/,Left hemisphere cerebral white matter volume (mm^3),http://purl.obolibrary.org/obo/UBERON_0002437,Left,265962.597681\n",
      "542,KKI_0050778,https://surfer.nmr.mgh.harvard.edu/,Left hemisphere cerebral white matter volume (mm^3),http://purl.obolibrary.org/obo/UBERON_0002437,Left,179880.686058\n",
      "543,Leuven_0050691,https://surfer.nmr.mgh.harvard.edu/,Left hemisphere cerebral white matter volume (mm^3),http://purl.obolibrary.org/obo/UBERON_0002437,Left,263782.597852\n",
      "544,OHSU_0050142,https://surfer.nmr.mgh.harvard.edu/,WM-hypointensities Volume_mm3 (mm^3),,,598.4\n",
      "545,SBL_51556,https://surfer.nmr.mgh.harvard.edu/,WM-hypointensities Volume_mm3 (mm^3),,,1893.4\n",
      "546,UCLA_0051210,https://surfer.nmr.mgh.harvard.edu/,WM-hypointensities Volume_mm3 (mm^3),,,627.0\n",
      "547,SDSU_0050185,https://surfer.nmr.mgh.harvard.edu/,WM-hypointensities Volume_mm3 (mm^3),,,3870.4\n",
      "548,Yale_0050559,https://surfer.nmr.mgh.harvard.edu/,WM-hypointensities Volume_mm3 (mm^3),,,2076.9\n"
     ]
    },
    {
     "name": "stdout",
     "output_type": "stream",
     "text": [
      "549,MaxMun_51348,https://surfer.nmr.mgh.harvard.edu/,WM-hypointensities Volume_mm3 (mm^3),,,569.4\n",
      "550,Olin_0050107,https://surfer.nmr.mgh.harvard.edu/,WM-hypointensities Volume_mm3 (mm^3),,,861.5\n",
      "551,UM_0050404,https://surfer.nmr.mgh.harvard.edu/,WM-hypointensities Volume_mm3 (mm^3),,,2057.1\n",
      "552,Pitt_50014,https://surfer.nmr.mgh.harvard.edu/,WM-hypointensities Volume_mm3 (mm^3),,,1172.5\n",
      "553,Stanford_0051168,https://surfer.nmr.mgh.harvard.edu/,WM-hypointensities Volume_mm3 (mm^3),,,2452.9\n",
      "554,USM_50470,https://surfer.nmr.mgh.harvard.edu/,WM-hypointensities Volume_mm3 (mm^3),,,1831.5\n",
      "555,Caltech_51478,https://surfer.nmr.mgh.harvard.edu/,WM-hypointensities Volume_mm3 (mm^3),,,2316.7\n",
      "556,NYU_0050965,https://surfer.nmr.mgh.harvard.edu/,WM-hypointensities Volume_mm3 (mm^3),,,1031.3\n",
      "557,Trinity_0050240,https://surfer.nmr.mgh.harvard.edu/,WM-hypointensities Volume_mm3 (mm^3),,,762.1\n",
      "558,CMU_0050646,https://surfer.nmr.mgh.harvard.edu/,WM-hypointensities Volume_mm3 (mm^3),,,1078.7\n",
      "559,KKI_0050778,https://surfer.nmr.mgh.harvard.edu/,WM-hypointensities Volume_mm3 (mm^3),,,581.7\n",
      "560,Leuven_0050691,https://surfer.nmr.mgh.harvard.edu/,WM-hypointensities Volume_mm3 (mm^3),,,1576.9\n",
      "561,OHSU_0050142,https://surfer.nmr.mgh.harvard.edu/,Right hemisphere cerebral white matter volume (mm^3),http://purl.obolibrary.org/obo/UBERON_0002437,Right,246139.388717\n",
      "562,SBL_51556,https://surfer.nmr.mgh.harvard.edu/,Right hemisphere cerebral white matter volume (mm^3),http://purl.obolibrary.org/obo/UBERON_0002437,Right,269550.030053\n",
      "563,UCLA_0051210,https://surfer.nmr.mgh.harvard.edu/,Right hemisphere cerebral white matter volume (mm^3),http://purl.obolibrary.org/obo/UBERON_0002437,Right,231209.400801\n",
      "564,SDSU_0050185,https://surfer.nmr.mgh.harvard.edu/,Right hemisphere cerebral white matter volume (mm^3),http://purl.obolibrary.org/obo/UBERON_0002437,Right,153264.226438\n",
      "565,Yale_0050559,https://surfer.nmr.mgh.harvard.edu/,Right hemisphere cerebral white matter volume (mm^3),http://purl.obolibrary.org/obo/UBERON_0002437,Right,230913.242631\n",
      "566,MaxMun_51348,https://surfer.nmr.mgh.harvard.edu/,Right hemisphere cerebral white matter volume (mm^3),http://purl.obolibrary.org/obo/UBERON_0002437,Right,189816.852071\n",
      "567,Olin_0050107,https://surfer.nmr.mgh.harvard.edu/,Right hemisphere cerebral white matter volume (mm^3),http://purl.obolibrary.org/obo/UBERON_0002437,Right,288733.501093\n",
      "568,UM_0050404,https://surfer.nmr.mgh.harvard.edu/,Right hemisphere cerebral white matter volume (mm^3),http://purl.obolibrary.org/obo/UBERON_0002437,Right,130082.725883\n",
      "569,Pitt_50014,https://surfer.nmr.mgh.harvard.edu/,Right hemisphere cerebral white matter volume (mm^3),http://purl.obolibrary.org/obo/UBERON_0002437,Right,208360.309157\n",
      "570,Stanford_0051168,https://surfer.nmr.mgh.harvard.edu/,Right hemisphere cerebral white matter volume (mm^3),http://purl.obolibrary.org/obo/UBERON_0002437,Right,250949.987193\n",
      "571,USM_50470,https://surfer.nmr.mgh.harvard.edu/,Right hemisphere cerebral white matter volume (mm^3),http://purl.obolibrary.org/obo/UBERON_0002437,Right,238582.956429\n",
      "572,Caltech_51478,https://surfer.nmr.mgh.harvard.edu/,Right hemisphere cerebral white matter volume (mm^3),http://purl.obolibrary.org/obo/UBERON_0002437,Right,243118.084385\n",
      "573,NYU_0050965,https://surfer.nmr.mgh.harvard.edu/,Right hemisphere cerebral white matter volume (mm^3),http://purl.obolibrary.org/obo/UBERON_0002437,Right,230465.303949\n",
      "574,Trinity_0050240,https://surfer.nmr.mgh.harvard.edu/,Right hemisphere cerebral white matter volume (mm^3),http://purl.obolibrary.org/obo/UBERON_0002437,Right,226744.988689\n",
      "575,CMU_0050646,https://surfer.nmr.mgh.harvard.edu/,Right hemisphere cerebral white matter volume (mm^3),http://purl.obolibrary.org/obo/UBERON_0002437,Right,272240.025944\n",
      "576,KKI_0050778,https://surfer.nmr.mgh.harvard.edu/,Right hemisphere cerebral white matter volume (mm^3),http://purl.obolibrary.org/obo/UBERON_0002437,Right,183623.399105\n",
      "577,Leuven_0050691,https://surfer.nmr.mgh.harvard.edu/,Right hemisphere cerebral white matter volume (mm^3),http://purl.obolibrary.org/obo/UBERON_0002437,Right,264736.615303\n",
      "578,OHSU_0050142,https://surfer.nmr.mgh.harvard.edu/,Supratentorial volume voxel count (mm^3),,,1176786.0\n",
      "579,SBL_51556,https://surfer.nmr.mgh.harvard.edu/,Supratentorial volume voxel count (mm^3),,,1176661.0\n",
      "580,UCLA_0051210,https://surfer.nmr.mgh.harvard.edu/,Supratentorial volume voxel count (mm^3),,,1082512.0\n",
      "581,SDSU_0050185,https://surfer.nmr.mgh.harvard.edu/,Supratentorial volume voxel count (mm^3),,,750306.0\n",
      "582,Yale_0050559,https://surfer.nmr.mgh.harvard.edu/,Supratentorial volume voxel count (mm^3),,,1073136.0\n",
      "583,MaxMun_51348,https://surfer.nmr.mgh.harvard.edu/,Supratentorial volume voxel count (mm^3),,,1028088.0\n",
      "584,Olin_0050107,https://surfer.nmr.mgh.harvard.edu/,Supratentorial volume voxel count (mm^3),,,1246378.0\n",
      "585,UM_0050404,https://surfer.nmr.mgh.harvard.edu/,Supratentorial volume voxel count (mm^3),,,678289.0\n",
      "586,Pitt_50014,https://surfer.nmr.mgh.harvard.edu/,Supratentorial volume voxel count (mm^3),,,1031226.0\n",
      "587,Stanford_0051168,https://surfer.nmr.mgh.harvard.edu/,Supratentorial volume voxel count (mm^3),,,1138497.0\n",
      "588,USM_50470,https://surfer.nmr.mgh.harvard.edu/,Supratentorial volume voxel count (mm^3),,,1171468.0\n",
      "589,Caltech_51478,https://surfer.nmr.mgh.harvard.edu/,Supratentorial volume voxel count (mm^3),,,1142583.0\n",
      "590,NYU_0050965,https://surfer.nmr.mgh.harvard.edu/,Supratentorial volume voxel count (mm^3),,,1148201.0\n",
      "591,Trinity_0050240,https://surfer.nmr.mgh.harvard.edu/,Supratentorial volume voxel count (mm^3),,,1089663.0\n",
      "592,CMU_0050646,https://surfer.nmr.mgh.harvard.edu/,Supratentorial volume voxel count (mm^3),,,1185797.0\n",
      "593,KKI_0050778,https://surfer.nmr.mgh.harvard.edu/,Supratentorial volume voxel count (mm^3),,,980095.0\n",
      "594,Leuven_0050691,https://surfer.nmr.mgh.harvard.edu/,Supratentorial volume voxel count (mm^3),,,1175562.0\n",
      "595,OHSU_0050142,https://surfer.nmr.mgh.harvard.edu/,4th-Ventricle Volume_mm3 (mm^3),http://purl.obolibrary.org/obo/UBERON_0002422,,2896.9\n",
      "596,SBL_51556,https://surfer.nmr.mgh.harvard.edu/,4th-Ventricle Volume_mm3 (mm^3),http://purl.obolibrary.org/obo/UBERON_0002422,,1332.4\n",
      "597,UCLA_0051210,https://surfer.nmr.mgh.harvard.edu/,4th-Ventricle Volume_mm3 (mm^3),http://purl.obolibrary.org/obo/UBERON_0002422,,1682.3\n",
      "598,SDSU_0050185,https://surfer.nmr.mgh.harvard.edu/,4th-Ventricle Volume_mm3 (mm^3),http://purl.obolibrary.org/obo/UBERON_0002422,,1438.4\n",
      "599,Yale_0050559,https://surfer.nmr.mgh.harvard.edu/,4th-Ventricle Volume_mm3 (mm^3),http://purl.obolibrary.org/obo/UBERON_0002422,,2461.5\n",
      "600,MaxMun_51348,https://surfer.nmr.mgh.harvard.edu/,4th-Ventricle Volume_mm3 (mm^3),http://purl.obolibrary.org/obo/UBERON_0002422,,2812.4\n",
      "601,Olin_0050107,https://surfer.nmr.mgh.harvard.edu/,4th-Ventricle Volume_mm3 (mm^3),http://purl.obolibrary.org/obo/UBERON_0002422,,2383.2\n",
      "602,UM_0050404,https://surfer.nmr.mgh.harvard.edu/,4th-Ventricle Volume_mm3 (mm^3),http://purl.obolibrary.org/obo/UBERON_0002422,,909.7\n",
      "603,Pitt_50014,https://surfer.nmr.mgh.harvard.edu/,4th-Ventricle Volume_mm3 (mm^3),http://purl.obolibrary.org/obo/UBERON_0002422,,2551.3\n",
      "604,Stanford_0051168,https://surfer.nmr.mgh.harvard.edu/,4th-Ventricle Volume_mm3 (mm^3),http://purl.obolibrary.org/obo/UBERON_0002422,,1336.3\n",
      "605,USM_50470,https://surfer.nmr.mgh.harvard.edu/,4th-Ventricle Volume_mm3 (mm^3),http://purl.obolibrary.org/obo/UBERON_0002422,,1359.1\n",
      "606,Caltech_51478,https://surfer.nmr.mgh.harvard.edu/,4th-Ventricle Volume_mm3 (mm^3),http://purl.obolibrary.org/obo/UBERON_0002422,,1911.2\n",
      "607,NYU_0050965,https://surfer.nmr.mgh.harvard.edu/,4th-Ventricle Volume_mm3 (mm^3),http://purl.obolibrary.org/obo/UBERON_0002422,,1667.6\n",
      "608,Trinity_0050240,https://surfer.nmr.mgh.harvard.edu/,4th-Ventricle Volume_mm3 (mm^3),http://purl.obolibrary.org/obo/UBERON_0002422,,1370.0\n",
      "609,CMU_0050646,https://surfer.nmr.mgh.harvard.edu/,4th-Ventricle Volume_mm3 (mm^3),http://purl.obolibrary.org/obo/UBERON_0002422,,2231.3\n",
      "610,KKI_0050778,https://surfer.nmr.mgh.harvard.edu/,4th-Ventricle Volume_mm3 (mm^3),http://purl.obolibrary.org/obo/UBERON_0002422,,1969.2\n",
      "611,Leuven_0050691,https://surfer.nmr.mgh.harvard.edu/,4th-Ventricle Volume_mm3 (mm^3),http://purl.obolibrary.org/obo/UBERON_0002422,,2303.3\n"
     ]
    },
    {
     "name": "stdout",
     "output_type": "stream",
     "text": [
      "612,OHSU_0050142,https://surfer.nmr.mgh.harvard.edu/,Left-Thalamus-Proper Volume_mm3 (mm^3),http://purl.obolibrary.org/obo/UBERON_0001897,Left,7909.2\n",
      "613,SBL_51556,https://surfer.nmr.mgh.harvard.edu/,Left-Thalamus-Proper Volume_mm3 (mm^3),http://purl.obolibrary.org/obo/UBERON_0001897,Left,8504.7\n",
      "614,UCLA_0051210,https://surfer.nmr.mgh.harvard.edu/,Left-Thalamus-Proper Volume_mm3 (mm^3),http://purl.obolibrary.org/obo/UBERON_0001897,Left,7173.8\n",
      "615,SDSU_0050185,https://surfer.nmr.mgh.harvard.edu/,Left-Thalamus-Proper Volume_mm3 (mm^3),http://purl.obolibrary.org/obo/UBERON_0001897,Left,7935.0\n",
      "616,Yale_0050559,https://surfer.nmr.mgh.harvard.edu/,Left-Thalamus-Proper Volume_mm3 (mm^3),http://purl.obolibrary.org/obo/UBERON_0001897,Left,7590.3\n",
      "617,MaxMun_51348,https://surfer.nmr.mgh.harvard.edu/,Left-Thalamus-Proper Volume_mm3 (mm^3),http://purl.obolibrary.org/obo/UBERON_0001897,Left,8138.9\n",
      "618,Olin_0050107,https://surfer.nmr.mgh.harvard.edu/,Left-Thalamus-Proper Volume_mm3 (mm^3),http://purl.obolibrary.org/obo/UBERON_0001897,Left,9503.4\n",
      "619,UM_0050404,https://surfer.nmr.mgh.harvard.edu/,Left-Thalamus-Proper Volume_mm3 (mm^3),http://purl.obolibrary.org/obo/UBERON_0001897,Left,5709.8\n",
      "620,Pitt_50014,https://surfer.nmr.mgh.harvard.edu/,Left-Thalamus-Proper Volume_mm3 (mm^3),http://purl.obolibrary.org/obo/UBERON_0001897,Left,7603.3\n",
      "621,Stanford_0051168,https://surfer.nmr.mgh.harvard.edu/,Left-Thalamus-Proper Volume_mm3 (mm^3),http://purl.obolibrary.org/obo/UBERON_0001897,Left,8202.0\n",
      "622,USM_50470,https://surfer.nmr.mgh.harvard.edu/,Left-Thalamus-Proper Volume_mm3 (mm^3),http://purl.obolibrary.org/obo/UBERON_0001897,Left,7936.3\n",
      "623,Caltech_51478,https://surfer.nmr.mgh.harvard.edu/,Left-Thalamus-Proper Volume_mm3 (mm^3),http://purl.obolibrary.org/obo/UBERON_0001897,Left,8548.7\n",
      "624,NYU_0050965,https://surfer.nmr.mgh.harvard.edu/,Left-Thalamus-Proper Volume_mm3 (mm^3),http://purl.obolibrary.org/obo/UBERON_0001897,Left,8130.4\n",
      "625,Trinity_0050240,https://surfer.nmr.mgh.harvard.edu/,Left-Thalamus-Proper Volume_mm3 (mm^3),http://purl.obolibrary.org/obo/UBERON_0001897,Left,8101.2\n",
      "626,CMU_0050646,https://surfer.nmr.mgh.harvard.edu/,Left-Thalamus-Proper Volume_mm3 (mm^3),http://purl.obolibrary.org/obo/UBERON_0001897,Left,8998.0\n",
      "627,KKI_0050778,https://surfer.nmr.mgh.harvard.edu/,Left-Thalamus-Proper Volume_mm3 (mm^3),http://purl.obolibrary.org/obo/UBERON_0001897,Left,6813.2\n",
      "628,Leuven_0050691,https://surfer.nmr.mgh.harvard.edu/,Left-Thalamus-Proper Volume_mm3 (mm^3),http://purl.obolibrary.org/obo/UBERON_0001897,Left,7784.6\n",
      "629,OHSU_0050142,https://surfer.nmr.mgh.harvard.edu/,Right-Inf-Lat-Vent Volume_mm3 (mm^3),http://purl.obolibrary.org/obo/UBERON_0006091,Right,246.3\n",
      "630,SBL_51556,https://surfer.nmr.mgh.harvard.edu/,Right-Inf-Lat-Vent Volume_mm3 (mm^3),http://purl.obolibrary.org/obo/UBERON_0006091,Right,495.3\n",
      "631,UCLA_0051210,https://surfer.nmr.mgh.harvard.edu/,Right-Inf-Lat-Vent Volume_mm3 (mm^3),http://purl.obolibrary.org/obo/UBERON_0006091,Right,359.2\n",
      "632,SDSU_0050185,https://surfer.nmr.mgh.harvard.edu/,Right-Inf-Lat-Vent Volume_mm3 (mm^3),http://purl.obolibrary.org/obo/UBERON_0006091,Right,184.1\n",
      "633,Yale_0050559,https://surfer.nmr.mgh.harvard.edu/,Right-Inf-Lat-Vent Volume_mm3 (mm^3),http://purl.obolibrary.org/obo/UBERON_0006091,Right,218.9\n",
      "634,MaxMun_51348,https://surfer.nmr.mgh.harvard.edu/,Right-Inf-Lat-Vent Volume_mm3 (mm^3),http://purl.obolibrary.org/obo/UBERON_0006091,Right,212.9\n",
      "635,Olin_0050107,https://surfer.nmr.mgh.harvard.edu/,Right-Inf-Lat-Vent Volume_mm3 (mm^3),http://purl.obolibrary.org/obo/UBERON_0006091,Right,366.0\n",
      "636,UM_0050404,https://surfer.nmr.mgh.harvard.edu/,Right-Inf-Lat-Vent Volume_mm3 (mm^3),http://purl.obolibrary.org/obo/UBERON_0006091,Right,167.4\n",
      "637,Pitt_50014,https://surfer.nmr.mgh.harvard.edu/,Right-Inf-Lat-Vent Volume_mm3 (mm^3),http://purl.obolibrary.org/obo/UBERON_0006091,Right,415.3\n",
      "638,Stanford_0051168,https://surfer.nmr.mgh.harvard.edu/,Right-Inf-Lat-Vent Volume_mm3 (mm^3),http://purl.obolibrary.org/obo/UBERON_0006091,Right,460.0\n",
      "639,USM_50470,https://surfer.nmr.mgh.harvard.edu/,Right-Inf-Lat-Vent Volume_mm3 (mm^3),http://purl.obolibrary.org/obo/UBERON_0006091,Right,390.8\n",
      "640,Caltech_51478,https://surfer.nmr.mgh.harvard.edu/,Right-Inf-Lat-Vent Volume_mm3 (mm^3),http://purl.obolibrary.org/obo/UBERON_0006091,Right,435.3\n",
      "641,NYU_0050965,https://surfer.nmr.mgh.harvard.edu/,Right-Inf-Lat-Vent Volume_mm3 (mm^3),http://purl.obolibrary.org/obo/UBERON_0006091,Right,168.0\n",
      "642,Trinity_0050240,https://surfer.nmr.mgh.harvard.edu/,Right-Inf-Lat-Vent Volume_mm3 (mm^3),http://purl.obolibrary.org/obo/UBERON_0006091,Right,325.4\n",
      "643,CMU_0050646,https://surfer.nmr.mgh.harvard.edu/,Right-Inf-Lat-Vent Volume_mm3 (mm^3),http://purl.obolibrary.org/obo/UBERON_0006091,Right,378.7\n",
      "644,KKI_0050778,https://surfer.nmr.mgh.harvard.edu/,Right-Inf-Lat-Vent Volume_mm3 (mm^3),http://purl.obolibrary.org/obo/UBERON_0006091,Right,417.3\n",
      "645,Leuven_0050691,https://surfer.nmr.mgh.harvard.edu/,Right-Inf-Lat-Vent Volume_mm3 (mm^3),http://purl.obolibrary.org/obo/UBERON_0006091,Right,341.4\n",
      "646,OHSU_0050142,https://surfer.nmr.mgh.harvard.edu/,Right-Lateral-Ventricle Volume_mm3 (mm^3),http://purl.obolibrary.org/obo/UBERON_0002285,Right,7776.1\n",
      "647,SBL_51556,https://surfer.nmr.mgh.harvard.edu/,Right-Lateral-Ventricle Volume_mm3 (mm^3),http://purl.obolibrary.org/obo/UBERON_0002285,Right,2557.4\n",
      "648,UCLA_0051210,https://surfer.nmr.mgh.harvard.edu/,Right-Lateral-Ventricle Volume_mm3 (mm^3),http://purl.obolibrary.org/obo/UBERON_0002285,Right,4779.9\n",
      "649,SDSU_0050185,https://surfer.nmr.mgh.harvard.edu/,Right-Lateral-Ventricle Volume_mm3 (mm^3),http://purl.obolibrary.org/obo/UBERON_0002285,Right,4653.5\n",
      "650,Yale_0050559,https://surfer.nmr.mgh.harvard.edu/,Right-Lateral-Ventricle Volume_mm3 (mm^3),http://purl.obolibrary.org/obo/UBERON_0002285,Right,3028.8\n",
      "651,MaxMun_51348,https://surfer.nmr.mgh.harvard.edu/,Right-Lateral-Ventricle Volume_mm3 (mm^3),http://purl.obolibrary.org/obo/UBERON_0002285,Right,10193.1\n",
      "652,Olin_0050107,https://surfer.nmr.mgh.harvard.edu/,Right-Lateral-Ventricle Volume_mm3 (mm^3),http://purl.obolibrary.org/obo/UBERON_0002285,Right,8358.6\n",
      "653,UM_0050404,https://surfer.nmr.mgh.harvard.edu/,Right-Lateral-Ventricle Volume_mm3 (mm^3),http://purl.obolibrary.org/obo/UBERON_0002285,Right,4881.5\n",
      "654,Pitt_50014,https://surfer.nmr.mgh.harvard.edu/,Right-Lateral-Ventricle Volume_mm3 (mm^3),http://purl.obolibrary.org/obo/UBERON_0002285,Right,9356.0\n",
      "655,Stanford_0051168,https://surfer.nmr.mgh.harvard.edu/,Right-Lateral-Ventricle Volume_mm3 (mm^3),http://purl.obolibrary.org/obo/UBERON_0002285,Right,3585.3\n",
      "656,USM_50470,https://surfer.nmr.mgh.harvard.edu/,Right-Lateral-Ventricle Volume_mm3 (mm^3),http://purl.obolibrary.org/obo/UBERON_0002285,Right,3835.3\n",
      "657,Caltech_51478,https://surfer.nmr.mgh.harvard.edu/,Right-Lateral-Ventricle Volume_mm3 (mm^3),http://purl.obolibrary.org/obo/UBERON_0002285,Right,6393.3\n",
      "658,NYU_0050965,https://surfer.nmr.mgh.harvard.edu/,Right-Lateral-Ventricle Volume_mm3 (mm^3),http://purl.obolibrary.org/obo/UBERON_0002285,Right,4648.0\n",
      "659,Trinity_0050240,https://surfer.nmr.mgh.harvard.edu/,Right-Lateral-Ventricle Volume_mm3 (mm^3),http://purl.obolibrary.org/obo/UBERON_0002285,Right,3256.1\n",
      "660,CMU_0050646,https://surfer.nmr.mgh.harvard.edu/,Right-Lateral-Ventricle Volume_mm3 (mm^3),http://purl.obolibrary.org/obo/UBERON_0002285,Right,4467.8\n",
      "661,KKI_0050778,https://surfer.nmr.mgh.harvard.edu/,Right-Lateral-Ventricle Volume_mm3 (mm^3),http://purl.obolibrary.org/obo/UBERON_0002285,Right,3702.9\n",
      "662,Leuven_0050691,https://surfer.nmr.mgh.harvard.edu/,Right-Lateral-Ventricle Volume_mm3 (mm^3),http://purl.obolibrary.org/obo/UBERON_0002285,Right,8115.9\n",
      "663,OHSU_0050142,https://surfer.nmr.mgh.harvard.edu/,Left-Amygdala Volume_mm3 (mm^3),http://purl.obolibrary.org/obo/UBERON_0001876,Left,2007.9\n",
      "664,SBL_51556,https://surfer.nmr.mgh.harvard.edu/,Left-Amygdala Volume_mm3 (mm^3),http://purl.obolibrary.org/obo/UBERON_0001876,Left,1949.7\n",
      "665,UCLA_0051210,https://surfer.nmr.mgh.harvard.edu/,Left-Amygdala Volume_mm3 (mm^3),http://purl.obolibrary.org/obo/UBERON_0001876,Left,1572.0\n",
      "666,SDSU_0050185,https://surfer.nmr.mgh.harvard.edu/,Left-Amygdala Volume_mm3 (mm^3),http://purl.obolibrary.org/obo/UBERON_0001876,Left,1833.5\n"
     ]
    },
    {
     "name": "stdout",
     "output_type": "stream",
     "text": [
      "667,Yale_0050559,https://surfer.nmr.mgh.harvard.edu/,Left-Amygdala Volume_mm3 (mm^3),http://purl.obolibrary.org/obo/UBERON_0001876,Left,1816.8\n",
      "668,MaxMun_51348,https://surfer.nmr.mgh.harvard.edu/,Left-Amygdala Volume_mm3 (mm^3),http://purl.obolibrary.org/obo/UBERON_0001876,Left,1532.1\n",
      "669,Olin_0050107,https://surfer.nmr.mgh.harvard.edu/,Left-Amygdala Volume_mm3 (mm^3),http://purl.obolibrary.org/obo/UBERON_0001876,Left,1816.8\n",
      "670,UM_0050404,https://surfer.nmr.mgh.harvard.edu/,Left-Amygdala Volume_mm3 (mm^3),http://purl.obolibrary.org/obo/UBERON_0001876,Left,877.5\n",
      "671,Pitt_50014,https://surfer.nmr.mgh.harvard.edu/,Left-Amygdala Volume_mm3 (mm^3),http://purl.obolibrary.org/obo/UBERON_0001876,Left,1652.5\n",
      "672,Stanford_0051168,https://surfer.nmr.mgh.harvard.edu/,Left-Amygdala Volume_mm3 (mm^3),http://purl.obolibrary.org/obo/UBERON_0001876,Left,1873.5\n",
      "673,USM_50470,https://surfer.nmr.mgh.harvard.edu/,Left-Amygdala Volume_mm3 (mm^3),http://purl.obolibrary.org/obo/UBERON_0001876,Left,1787.2\n",
      "674,Caltech_51478,https://surfer.nmr.mgh.harvard.edu/,Left-Amygdala Volume_mm3 (mm^3),http://purl.obolibrary.org/obo/UBERON_0001876,Left,1752.6\n",
      "675,NYU_0050965,https://surfer.nmr.mgh.harvard.edu/,Left-Amygdala Volume_mm3 (mm^3),http://purl.obolibrary.org/obo/UBERON_0001876,Left,1517.8\n",
      "676,Trinity_0050240,https://surfer.nmr.mgh.harvard.edu/,Left-Amygdala Volume_mm3 (mm^3),http://purl.obolibrary.org/obo/UBERON_0001876,Left,1838.9\n",
      "677,CMU_0050646,https://surfer.nmr.mgh.harvard.edu/,Left-Amygdala Volume_mm3 (mm^3),http://purl.obolibrary.org/obo/UBERON_0001876,Left,1878.5\n",
      "678,KKI_0050778,https://surfer.nmr.mgh.harvard.edu/,Left-Amygdala Volume_mm3 (mm^3),http://purl.obolibrary.org/obo/UBERON_0001876,Left,1574.7\n",
      "679,Leuven_0050691,https://surfer.nmr.mgh.harvard.edu/,Left-Amygdala Volume_mm3 (mm^3),http://purl.obolibrary.org/obo/UBERON_0001876,Left,2002.0\n",
      "680,OHSU_0050142,https://surfer.nmr.mgh.harvard.edu/,Left-Caudate Volume_mm3 (mm^3),http://purl.obolibrary.org/obo/UBERON_0001873,Left,4471.1\n",
      "681,SBL_51556,https://surfer.nmr.mgh.harvard.edu/,Left-Caudate Volume_mm3 (mm^3),http://purl.obolibrary.org/obo/UBERON_0001873,Left,3618.0\n",
      "682,UCLA_0051210,https://surfer.nmr.mgh.harvard.edu/,Left-Caudate Volume_mm3 (mm^3),http://purl.obolibrary.org/obo/UBERON_0001873,Left,3443.8\n",
      "683,SDSU_0050185,https://surfer.nmr.mgh.harvard.edu/,Left-Caudate Volume_mm3 (mm^3),http://purl.obolibrary.org/obo/UBERON_0001873,Left,4300.6\n",
      "684,Yale_0050559,https://surfer.nmr.mgh.harvard.edu/,Left-Caudate Volume_mm3 (mm^3),http://purl.obolibrary.org/obo/UBERON_0001873,Left,3849.4\n",
      "685,MaxMun_51348,https://surfer.nmr.mgh.harvard.edu/,Left-Caudate Volume_mm3 (mm^3),http://purl.obolibrary.org/obo/UBERON_0001873,Left,3993.3\n",
      "686,Olin_0050107,https://surfer.nmr.mgh.harvard.edu/,Left-Caudate Volume_mm3 (mm^3),http://purl.obolibrary.org/obo/UBERON_0001873,Left,4357.1\n",
      "687,UM_0050404,https://surfer.nmr.mgh.harvard.edu/,Left-Caudate Volume_mm3 (mm^3),http://purl.obolibrary.org/obo/UBERON_0001873,Left,2868.3\n",
      "688,Pitt_50014,https://surfer.nmr.mgh.harvard.edu/,Left-Caudate Volume_mm3 (mm^3),http://purl.obolibrary.org/obo/UBERON_0001873,Left,3613.1\n",
      "689,Stanford_0051168,https://surfer.nmr.mgh.harvard.edu/,Left-Caudate Volume_mm3 (mm^3),http://purl.obolibrary.org/obo/UBERON_0001873,Left,3998.2\n",
      "690,USM_50470,https://surfer.nmr.mgh.harvard.edu/,Left-Caudate Volume_mm3 (mm^3),http://purl.obolibrary.org/obo/UBERON_0001873,Left,3739.3\n",
      "691,Caltech_51478,https://surfer.nmr.mgh.harvard.edu/,Left-Caudate Volume_mm3 (mm^3),http://purl.obolibrary.org/obo/UBERON_0001873,Left,3733.7\n",
      "692,NYU_0050965,https://surfer.nmr.mgh.harvard.edu/,Left-Caudate Volume_mm3 (mm^3),http://purl.obolibrary.org/obo/UBERON_0001873,Left,3862.1\n",
      "693,Trinity_0050240,https://surfer.nmr.mgh.harvard.edu/,Left-Caudate Volume_mm3 (mm^3),http://purl.obolibrary.org/obo/UBERON_0001873,Left,3436.1\n",
      "694,CMU_0050646,https://surfer.nmr.mgh.harvard.edu/,Left-Caudate Volume_mm3 (mm^3),http://purl.obolibrary.org/obo/UBERON_0001873,Left,3262.7\n",
      "695,KKI_0050778,https://surfer.nmr.mgh.harvard.edu/,Left-Caudate Volume_mm3 (mm^3),http://purl.obolibrary.org/obo/UBERON_0001873,Left,3356.7\n",
      "696,Leuven_0050691,https://surfer.nmr.mgh.harvard.edu/,Left-Caudate Volume_mm3 (mm^3),http://purl.obolibrary.org/obo/UBERON_0001873,Left,4247.9\n",
      "697,OHSU_0050142,https://surfer.nmr.mgh.harvard.edu/,Left-vessel Volume_mm3 (mm^3),http://purl.obolibrary.org/obo/UBERON_0001981,Left,76.1\n",
      "698,SBL_51556,https://surfer.nmr.mgh.harvard.edu/,Left-vessel Volume_mm3 (mm^3),http://purl.obolibrary.org/obo/UBERON_0001981,Left,42.8\n",
      "699,UCLA_0051210,https://surfer.nmr.mgh.harvard.edu/,Left-vessel Volume_mm3 (mm^3),http://purl.obolibrary.org/obo/UBERON_0001981,Left,16.4\n",
      "700,SDSU_0050185,https://surfer.nmr.mgh.harvard.edu/,Left-vessel Volume_mm3 (mm^3),http://purl.obolibrary.org/obo/UBERON_0001981,Left,23.7\n",
      "701,Yale_0050559,https://surfer.nmr.mgh.harvard.edu/,Left-vessel Volume_mm3 (mm^3),http://purl.obolibrary.org/obo/UBERON_0001981,Left,14.1\n",
      "702,MaxMun_51348,https://surfer.nmr.mgh.harvard.edu/,Left-vessel Volume_mm3 (mm^3),http://purl.obolibrary.org/obo/UBERON_0001981,Left,17.8\n",
      "703,Olin_0050107,https://surfer.nmr.mgh.harvard.edu/,Left-vessel Volume_mm3 (mm^3),http://purl.obolibrary.org/obo/UBERON_0001981,Left,70.7\n",
      "704,UM_0050404,https://surfer.nmr.mgh.harvard.edu/,Left-vessel Volume_mm3 (mm^3),http://purl.obolibrary.org/obo/UBERON_0001981,Left,31.6\n",
      "705,Pitt_50014,https://surfer.nmr.mgh.harvard.edu/,Left-vessel Volume_mm3 (mm^3),http://purl.obolibrary.org/obo/UBERON_0001981,Left,0.0\n",
      "706,Stanford_0051168,https://surfer.nmr.mgh.harvard.edu/,Left-vessel Volume_mm3 (mm^3),http://purl.obolibrary.org/obo/UBERON_0001981,Left,21.4\n",
      "707,USM_50470,https://surfer.nmr.mgh.harvard.edu/,Left-vessel Volume_mm3 (mm^3),http://purl.obolibrary.org/obo/UBERON_0001981,Left,113.9\n",
      "708,Caltech_51478,https://surfer.nmr.mgh.harvard.edu/,Left-vessel Volume_mm3 (mm^3),http://purl.obolibrary.org/obo/UBERON_0001981,Left,27.9\n",
      "709,NYU_0050965,https://surfer.nmr.mgh.harvard.edu/,Left-vessel Volume_mm3 (mm^3),http://purl.obolibrary.org/obo/UBERON_0001981,Left,1.8\n",
      "710,Trinity_0050240,https://surfer.nmr.mgh.harvard.edu/,Left-vessel Volume_mm3 (mm^3),http://purl.obolibrary.org/obo/UBERON_0001981,Left,67.4\n",
      "711,CMU_0050646,https://surfer.nmr.mgh.harvard.edu/,Left-vessel Volume_mm3 (mm^3),http://purl.obolibrary.org/obo/UBERON_0001981,Left,54.2\n",
      "712,KKI_0050778,https://surfer.nmr.mgh.harvard.edu/,Left-vessel Volume_mm3 (mm^3),http://purl.obolibrary.org/obo/UBERON_0001981,Left,38.4\n",
      "713,Leuven_0050691,https://surfer.nmr.mgh.harvard.edu/,Left-vessel Volume_mm3 (mm^3),http://purl.obolibrary.org/obo/UBERON_0001981,Left,0.0\n",
      "714,OHSU_0050142,https://surfer.nmr.mgh.harvard.edu/,Brain Segmentation Volume Without Ventricles (mm^3),http://purl.obolibrary.org/obo/UBERON_0000955,,1323775.0\n",
      "715,SBL_51556,https://surfer.nmr.mgh.harvard.edu/,Brain Segmentation Volume Without Ventricles (mm^3),http://purl.obolibrary.org/obo/UBERON_0000955,,1313131.0\n",
      "716,UCLA_0051210,https://surfer.nmr.mgh.harvard.edu/,Brain Segmentation Volume Without Ventricles (mm^3),http://purl.obolibrary.org/obo/UBERON_0000955,,1210328.0\n",
      "717,SDSU_0050185,https://surfer.nmr.mgh.harvard.edu/,Brain Segmentation Volume Without Ventricles (mm^3),http://purl.obolibrary.org/obo/UBERON_0000955,,911351.0\n",
      "718,Yale_0050559,https://surfer.nmr.mgh.harvard.edu/,Brain Segmentation Volume Without Ventricles (mm^3),http://purl.obolibrary.org/obo/UBERON_0000955,,1225666.0\n",
      "719,MaxMun_51348,https://surfer.nmr.mgh.harvard.edu/,Brain Segmentation Volume Without Ventricles (mm^3),http://purl.obolibrary.org/obo/UBERON_0000955,,1198124.0\n",
      "720,Olin_0050107,https://surfer.nmr.mgh.harvard.edu/,Brain Segmentation Volume Without Ventricles (mm^3),http://purl.obolibrary.org/obo/UBERON_0000955,,1426766.0\n",
      "721,UM_0050404,https://surfer.nmr.mgh.harvard.edu/,Brain Segmentation Volume Without Ventricles (mm^3),http://purl.obolibrary.org/obo/UBERON_0000955,,774528.0\n",
      "722,Pitt_50014,https://surfer.nmr.mgh.harvard.edu/,Brain Segmentation Volume Without Ventricles (mm^3),http://purl.obolibrary.org/obo/UBERON_0000955,,1197555.0\n",
      "723,Stanford_0051168,https://surfer.nmr.mgh.harvard.edu/,Brain Segmentation Volume Without Ventricles (mm^3),http://purl.obolibrary.org/obo/UBERON_0000955,,1277248.0\n"
     ]
    },
    {
     "name": "stdout",
     "output_type": "stream",
     "text": [
      "724,USM_50470,https://surfer.nmr.mgh.harvard.edu/,Brain Segmentation Volume Without Ventricles (mm^3),http://purl.obolibrary.org/obo/UBERON_0000955,,1316330.0\n",
      "725,Caltech_51478,https://surfer.nmr.mgh.harvard.edu/,Brain Segmentation Volume Without Ventricles (mm^3),http://purl.obolibrary.org/obo/UBERON_0000955,,1320075.0\n",
      "726,NYU_0050965,https://surfer.nmr.mgh.harvard.edu/,Brain Segmentation Volume Without Ventricles (mm^3),http://purl.obolibrary.org/obo/UBERON_0000955,,1298215.0\n",
      "727,Trinity_0050240,https://surfer.nmr.mgh.harvard.edu/,Brain Segmentation Volume Without Ventricles (mm^3),http://purl.obolibrary.org/obo/UBERON_0000955,,1233295.0\n",
      "728,CMU_0050646,https://surfer.nmr.mgh.harvard.edu/,Brain Segmentation Volume Without Ventricles (mm^3),http://purl.obolibrary.org/obo/UBERON_0000955,,1368198.0\n",
      "729,KKI_0050778,https://surfer.nmr.mgh.harvard.edu/,Brain Segmentation Volume Without Ventricles (mm^3),http://purl.obolibrary.org/obo/UBERON_0000955,,1122759.0\n",
      "730,Leuven_0050691,https://surfer.nmr.mgh.harvard.edu/,Brain Segmentation Volume Without Ventricles (mm^3),http://purl.obolibrary.org/obo/UBERON_0000955,,1322347.0\n",
      "731,OHSU_0050142,https://surfer.nmr.mgh.harvard.edu/,3rd-Ventricle Volume_mm3 (mm^3),http://purl.obolibrary.org/obo/UBERON_0002286,,974.4\n",
      "732,SBL_51556,https://surfer.nmr.mgh.harvard.edu/,3rd-Ventricle Volume_mm3 (mm^3),http://purl.obolibrary.org/obo/UBERON_0002286,,602.7\n",
      "733,UCLA_0051210,https://surfer.nmr.mgh.harvard.edu/,3rd-Ventricle Volume_mm3 (mm^3),http://purl.obolibrary.org/obo/UBERON_0002286,,716.8\n",
      "734,SDSU_0050185,https://surfer.nmr.mgh.harvard.edu/,3rd-Ventricle Volume_mm3 (mm^3),http://purl.obolibrary.org/obo/UBERON_0002286,,703.8\n",
      "735,Yale_0050559,https://surfer.nmr.mgh.harvard.edu/,3rd-Ventricle Volume_mm3 (mm^3),http://purl.obolibrary.org/obo/UBERON_0002286,,925.9\n",
      "736,MaxMun_51348,https://surfer.nmr.mgh.harvard.edu/,3rd-Ventricle Volume_mm3 (mm^3),http://purl.obolibrary.org/obo/UBERON_0002286,,828.4\n",
      "737,Olin_0050107,https://surfer.nmr.mgh.harvard.edu/,3rd-Ventricle Volume_mm3 (mm^3),http://purl.obolibrary.org/obo/UBERON_0002286,,740.6\n",
      "738,UM_0050404,https://surfer.nmr.mgh.harvard.edu/,3rd-Ventricle Volume_mm3 (mm^3),http://purl.obolibrary.org/obo/UBERON_0002286,,702.5\n",
      "739,Pitt_50014,https://surfer.nmr.mgh.harvard.edu/,3rd-Ventricle Volume_mm3 (mm^3),http://purl.obolibrary.org/obo/UBERON_0002286,,909.4\n",
      "740,Stanford_0051168,https://surfer.nmr.mgh.harvard.edu/,3rd-Ventricle Volume_mm3 (mm^3),http://purl.obolibrary.org/obo/UBERON_0002286,,903.9\n",
      "741,USM_50470,https://surfer.nmr.mgh.harvard.edu/,3rd-Ventricle Volume_mm3 (mm^3),http://purl.obolibrary.org/obo/UBERON_0002286,,799.3\n",
      "742,Caltech_51478,https://surfer.nmr.mgh.harvard.edu/,3rd-Ventricle Volume_mm3 (mm^3),http://purl.obolibrary.org/obo/UBERON_0002286,,1045.9\n",
      "743,NYU_0050965,https://surfer.nmr.mgh.harvard.edu/,3rd-Ventricle Volume_mm3 (mm^3),http://purl.obolibrary.org/obo/UBERON_0002286,,804.0\n",
      "744,Trinity_0050240,https://surfer.nmr.mgh.harvard.edu/,3rd-Ventricle Volume_mm3 (mm^3),http://purl.obolibrary.org/obo/UBERON_0002286,,477.1\n",
      "745,CMU_0050646,https://surfer.nmr.mgh.harvard.edu/,3rd-Ventricle Volume_mm3 (mm^3),http://purl.obolibrary.org/obo/UBERON_0002286,,1080.7\n",
      "746,KKI_0050778,https://surfer.nmr.mgh.harvard.edu/,3rd-Ventricle Volume_mm3 (mm^3),http://purl.obolibrary.org/obo/UBERON_0002286,,809.1\n",
      "747,Leuven_0050691,https://surfer.nmr.mgh.harvard.edu/,3rd-Ventricle Volume_mm3 (mm^3),http://purl.obolibrary.org/obo/UBERON_0002286,,955.5\n",
      "748,OHSU_0050142,https://surfer.nmr.mgh.harvard.edu/,non-WM-hypointensities Volume_mm3 (mm^3),,,0.0\n",
      "749,SBL_51556,https://surfer.nmr.mgh.harvard.edu/,non-WM-hypointensities Volume_mm3 (mm^3),,,0.0\n",
      "750,UCLA_0051210,https://surfer.nmr.mgh.harvard.edu/,non-WM-hypointensities Volume_mm3 (mm^3),,,0.0\n",
      "751,SDSU_0050185,https://surfer.nmr.mgh.harvard.edu/,non-WM-hypointensities Volume_mm3 (mm^3),,,0.0\n",
      "752,Yale_0050559,https://surfer.nmr.mgh.harvard.edu/,non-WM-hypointensities Volume_mm3 (mm^3),,,0.0\n",
      "753,MaxMun_51348,https://surfer.nmr.mgh.harvard.edu/,non-WM-hypointensities Volume_mm3 (mm^3),,,0.0\n",
      "754,Olin_0050107,https://surfer.nmr.mgh.harvard.edu/,non-WM-hypointensities Volume_mm3 (mm^3),,,0.0\n",
      "755,UM_0050404,https://surfer.nmr.mgh.harvard.edu/,non-WM-hypointensities Volume_mm3 (mm^3),,,0.0\n",
      "756,Pitt_50014,https://surfer.nmr.mgh.harvard.edu/,non-WM-hypointensities Volume_mm3 (mm^3),,,0.0\n",
      "757,Stanford_0051168,https://surfer.nmr.mgh.harvard.edu/,non-WM-hypointensities Volume_mm3 (mm^3),,,0.0\n",
      "758,USM_50470,https://surfer.nmr.mgh.harvard.edu/,non-WM-hypointensities Volume_mm3 (mm^3),,,0.0\n",
      "759,Caltech_51478,https://surfer.nmr.mgh.harvard.edu/,non-WM-hypointensities Volume_mm3 (mm^3),,,0.0\n",
      "760,NYU_0050965,https://surfer.nmr.mgh.harvard.edu/,non-WM-hypointensities Volume_mm3 (mm^3),,,0.0\n",
      "761,Trinity_0050240,https://surfer.nmr.mgh.harvard.edu/,non-WM-hypointensities Volume_mm3 (mm^3),,,0.0\n",
      "762,CMU_0050646,https://surfer.nmr.mgh.harvard.edu/,non-WM-hypointensities Volume_mm3 (mm^3),,,0.0\n",
      "763,KKI_0050778,https://surfer.nmr.mgh.harvard.edu/,non-WM-hypointensities Volume_mm3 (mm^3),,,0.0\n",
      "764,Leuven_0050691,https://surfer.nmr.mgh.harvard.edu/,non-WM-hypointensities Volume_mm3 (mm^3),,,0.0\n",
      "765,OHSU_0050142,https://surfer.nmr.mgh.harvard.edu/,Volume of ventricles and choroid plexus (mm^3),,,15711.0\n",
      "766,SBL_51556,https://surfer.nmr.mgh.harvard.edu/,Volume of ventricles and choroid plexus (mm^3),,,6285.0\n",
      "767,UCLA_0051210,https://surfer.nmr.mgh.harvard.edu/,Volume of ventricles and choroid plexus (mm^3),,,9775.0\n",
      "768,SDSU_0050185,https://surfer.nmr.mgh.harvard.edu/,Volume of ventricles and choroid plexus (mm^3),,,9927.0\n",
      "769,Yale_0050559,https://surfer.nmr.mgh.harvard.edu/,Volume of ventricles and choroid plexus (mm^3),,,7555.0\n",
      "770,MaxMun_51348,https://surfer.nmr.mgh.harvard.edu/,Volume of ventricles and choroid plexus (mm^3),,,22650.0\n",
      "771,Olin_0050107,https://surfer.nmr.mgh.harvard.edu/,Volume of ventricles and choroid plexus (mm^3),,,16029.0\n",
      "772,UM_0050404,https://surfer.nmr.mgh.harvard.edu/,Volume of ventricles and choroid plexus (mm^3),,,10236.0\n",
      "773,Pitt_50014,https://surfer.nmr.mgh.harvard.edu/,Volume of ventricles and choroid plexus (mm^3),,,22820.0\n",
      "774,Stanford_0051168,https://surfer.nmr.mgh.harvard.edu/,Volume of ventricles and choroid plexus (mm^3),,,7435.0\n",
      "775,USM_50470,https://surfer.nmr.mgh.harvard.edu/,Volume of ventricles and choroid plexus (mm^3),,,9290.0\n",
      "776,Caltech_51478,https://surfer.nmr.mgh.harvard.edu/,Volume of ventricles and choroid plexus (mm^3),,,12155.0\n",
      "777,NYU_0050965,https://surfer.nmr.mgh.harvard.edu/,Volume of ventricles and choroid plexus (mm^3),,,11052.0\n",
      "778,Trinity_0050240,https://surfer.nmr.mgh.harvard.edu/,Volume of ventricles and choroid plexus (mm^3),,,7909.0\n",
      "779,CMU_0050646,https://surfer.nmr.mgh.harvard.edu/,Volume of ventricles and choroid plexus (mm^3),,,9555.0\n",
      "780,KKI_0050778,https://surfer.nmr.mgh.harvard.edu/,Volume of ventricles and choroid plexus (mm^3),,,10214.0\n",
      "781,Leuven_0050691,https://surfer.nmr.mgh.harvard.edu/,Volume of ventricles and choroid plexus (mm^3),,,15653.0\n",
      "782,OHSU_0050142,https://surfer.nmr.mgh.harvard.edu/,Right hemisphere cortical gray matter volume (mm^3),http://purl.obolibrary.org/obo/UBERON_0000956,Right,312728.721017\n",
      "783,SBL_51556,https://surfer.nmr.mgh.harvard.edu/,Right hemisphere cortical gray matter volume (mm^3),http://purl.obolibrary.org/obo/UBERON_0000956,Right,288333.574131\n",
      "784,UCLA_0051210,https://surfer.nmr.mgh.harvard.edu/,Right hemisphere cortical gray matter volume (mm^3),http://purl.obolibrary.org/obo/UBERON_0000956,Right,278348.051221\n",
      "785,SDSU_0050185,https://surfer.nmr.mgh.harvard.edu/,Right hemisphere cortical gray matter volume (mm^3),http://purl.obolibrary.org/obo/UBERON_0000956,Right,212171.303954\n",
      "786,Yale_0050559,https://surfer.nmr.mgh.harvard.edu/,Right hemisphere cortical gray matter volume (mm^3),http://purl.obolibrary.org/obo/UBERON_0000956,Right,281167.557428\n",
      "787,MaxMun_51348,https://surfer.nmr.mgh.harvard.edu/,Right hemisphere cortical gray matter volume (mm^3),http://purl.obolibrary.org/obo/UBERON_0000956,Right,289186.48356\n",
      "788,Olin_0050107,https://surfer.nmr.mgh.harvard.edu/,Right hemisphere cortical gray matter volume (mm^3),http://purl.obolibrary.org/obo/UBERON_0000956,Right,303427.432471\n"
     ]
    },
    {
     "name": "stdout",
     "output_type": "stream",
     "text": [
      "789,UM_0050404,https://surfer.nmr.mgh.harvard.edu/,Right hemisphere cortical gray matter volume (mm^3),http://purl.obolibrary.org/obo/UBERON_0000956,Right,196074.531158\n",
      "790,Pitt_50014,https://surfer.nmr.mgh.harvard.edu/,Right hemisphere cortical gray matter volume (mm^3),http://purl.obolibrary.org/obo/UBERON_0000956,Right,276443.984571\n",
      "791,Stanford_0051168,https://surfer.nmr.mgh.harvard.edu/,Right hemisphere cortical gray matter volume (mm^3),http://purl.obolibrary.org/obo/UBERON_0000956,Right,280182.613751\n",
      "792,USM_50470,https://surfer.nmr.mgh.harvard.edu/,Right hemisphere cortical gray matter volume (mm^3),http://purl.obolibrary.org/obo/UBERON_0000956,Right,318299.364227\n",
      "793,Caltech_51478,https://surfer.nmr.mgh.harvard.edu/,Right hemisphere cortical gray matter volume (mm^3),http://purl.obolibrary.org/obo/UBERON_0000956,Right,299545.164641\n",
      "794,NYU_0050965,https://surfer.nmr.mgh.harvard.edu/,Right hemisphere cortical gray matter volume (mm^3),http://purl.obolibrary.org/obo/UBERON_0000956,Right,314469.889143\n",
      "795,Trinity_0050240,https://surfer.nmr.mgh.harvard.edu/,Right hemisphere cortical gray matter volume (mm^3),http://purl.obolibrary.org/obo/UBERON_0000956,Right,287234.927415\n",
      "796,CMU_0050646,https://surfer.nmr.mgh.harvard.edu/,Right hemisphere cortical gray matter volume (mm^3),http://purl.obolibrary.org/obo/UBERON_0000956,Right,292112.860343\n",
      "797,KKI_0050778,https://surfer.nmr.mgh.harvard.edu/,Right hemisphere cortical gray matter volume (mm^3),http://purl.obolibrary.org/obo/UBERON_0000956,Right,286698.877677\n",
      "798,Leuven_0050691,https://surfer.nmr.mgh.harvard.edu/,Right hemisphere cortical gray matter volume (mm^3),http://purl.obolibrary.org/obo/UBERON_0000956,Right,295027.208038\n",
      "799,OHSU_0050142,https://surfer.nmr.mgh.harvard.edu/,Right-Pallidum Volume_mm3 (mm^3),http://purl.obolibrary.org/obo/UBERON_0006514,Right,1827.0\n",
      "800,SBL_51556,https://surfer.nmr.mgh.harvard.edu/,Right-Pallidum Volume_mm3 (mm^3),http://purl.obolibrary.org/obo/UBERON_0006514,Right,2887.1\n",
      "801,UCLA_0051210,https://surfer.nmr.mgh.harvard.edu/,Right-Pallidum Volume_mm3 (mm^3),http://purl.obolibrary.org/obo/UBERON_0006514,Right,1569.1\n",
      "802,SDSU_0050185,https://surfer.nmr.mgh.harvard.edu/,Right-Pallidum Volume_mm3 (mm^3),http://purl.obolibrary.org/obo/UBERON_0006514,Right,1930.1\n",
      "803,Yale_0050559,https://surfer.nmr.mgh.harvard.edu/,Right-Pallidum Volume_mm3 (mm^3),http://purl.obolibrary.org/obo/UBERON_0006514,Right,2037.7\n",
      "804,MaxMun_51348,https://surfer.nmr.mgh.harvard.edu/,Right-Pallidum Volume_mm3 (mm^3),http://purl.obolibrary.org/obo/UBERON_0006514,Right,1927.6\n",
      "805,Olin_0050107,https://surfer.nmr.mgh.harvard.edu/,Right-Pallidum Volume_mm3 (mm^3),http://purl.obolibrary.org/obo/UBERON_0006514,Right,2147.5\n",
      "806,UM_0050404,https://surfer.nmr.mgh.harvard.edu/,Right-Pallidum Volume_mm3 (mm^3),http://purl.obolibrary.org/obo/UBERON_0006514,Right,1064.0\n",
      "807,Pitt_50014,https://surfer.nmr.mgh.harvard.edu/,Right-Pallidum Volume_mm3 (mm^3),http://purl.obolibrary.org/obo/UBERON_0006514,Right,1937.3\n",
      "808,Stanford_0051168,https://surfer.nmr.mgh.harvard.edu/,Right-Pallidum Volume_mm3 (mm^3),http://purl.obolibrary.org/obo/UBERON_0006514,Right,1939.9\n",
      "809,USM_50470,https://surfer.nmr.mgh.harvard.edu/,Right-Pallidum Volume_mm3 (mm^3),http://purl.obolibrary.org/obo/UBERON_0006514,Right,1807.6\n",
      "810,Caltech_51478,https://surfer.nmr.mgh.harvard.edu/,Right-Pallidum Volume_mm3 (mm^3),http://purl.obolibrary.org/obo/UBERON_0006514,Right,2153.7\n",
      "811,NYU_0050965,https://surfer.nmr.mgh.harvard.edu/,Right-Pallidum Volume_mm3 (mm^3),http://purl.obolibrary.org/obo/UBERON_0006514,Right,1765.4\n",
      "812,Trinity_0050240,https://surfer.nmr.mgh.harvard.edu/,Right-Pallidum Volume_mm3 (mm^3),http://purl.obolibrary.org/obo/UBERON_0006514,Right,1911.1\n",
      "813,CMU_0050646,https://surfer.nmr.mgh.harvard.edu/,Right-Pallidum Volume_mm3 (mm^3),http://purl.obolibrary.org/obo/UBERON_0006514,Right,1945.4\n",
      "814,KKI_0050778,https://surfer.nmr.mgh.harvard.edu/,Right-Pallidum Volume_mm3 (mm^3),http://purl.obolibrary.org/obo/UBERON_0006514,Right,1422.6\n",
      "815,Leuven_0050691,https://surfer.nmr.mgh.harvard.edu/,Right-Pallidum Volume_mm3 (mm^3),http://purl.obolibrary.org/obo/UBERON_0006514,Right,1773.6\n",
      "816,OHSU_0050142,https://surfer.nmr.mgh.harvard.edu/,CC_Central Volume_mm3 (mm^3),http://purl.obolibrary.org/obo/UBERON_0002336,,615.7\n",
      "817,SBL_51556,https://surfer.nmr.mgh.harvard.edu/,CC_Central Volume_mm3 (mm^3),http://purl.obolibrary.org/obo/UBERON_0002336,,686.5\n",
      "818,UCLA_0051210,https://surfer.nmr.mgh.harvard.edu/,CC_Central Volume_mm3 (mm^3),http://purl.obolibrary.org/obo/UBERON_0002336,,826.5\n",
      "819,SDSU_0050185,https://surfer.nmr.mgh.harvard.edu/,CC_Central Volume_mm3 (mm^3),http://purl.obolibrary.org/obo/UBERON_0002336,,807.2\n",
      "820,Yale_0050559,https://surfer.nmr.mgh.harvard.edu/,CC_Central Volume_mm3 (mm^3),http://purl.obolibrary.org/obo/UBERON_0002336,,632.2\n",
      "821,MaxMun_51348,https://surfer.nmr.mgh.harvard.edu/,CC_Central Volume_mm3 (mm^3),http://purl.obolibrary.org/obo/UBERON_0002336,,605.2\n",
      "822,Olin_0050107,https://surfer.nmr.mgh.harvard.edu/,CC_Central Volume_mm3 (mm^3),http://purl.obolibrary.org/obo/UBERON_0002336,,942.4\n",
      "823,UM_0050404,https://surfer.nmr.mgh.harvard.edu/,CC_Central Volume_mm3 (mm^3),http://purl.obolibrary.org/obo/UBERON_0002336,,416.0\n",
      "824,Pitt_50014,https://surfer.nmr.mgh.harvard.edu/,CC_Central Volume_mm3 (mm^3),http://purl.obolibrary.org/obo/UBERON_0002336,,550.1\n",
      "825,Stanford_0051168,https://surfer.nmr.mgh.harvard.edu/,CC_Central Volume_mm3 (mm^3),http://purl.obolibrary.org/obo/UBERON_0002336,,859.6\n",
      "826,USM_50470,https://surfer.nmr.mgh.harvard.edu/,CC_Central Volume_mm3 (mm^3),http://purl.obolibrary.org/obo/UBERON_0002336,,506.3\n",
      "827,Caltech_51478,https://surfer.nmr.mgh.harvard.edu/,CC_Central Volume_mm3 (mm^3),http://purl.obolibrary.org/obo/UBERON_0002336,,825.3\n",
      "828,NYU_0050965,https://surfer.nmr.mgh.harvard.edu/,CC_Central Volume_mm3 (mm^3),http://purl.obolibrary.org/obo/UBERON_0002336,,628.6\n",
      "829,Trinity_0050240,https://surfer.nmr.mgh.harvard.edu/,CC_Central Volume_mm3 (mm^3),http://purl.obolibrary.org/obo/UBERON_0002336,,947.3\n",
      "830,CMU_0050646,https://surfer.nmr.mgh.harvard.edu/,CC_Central Volume_mm3 (mm^3),http://purl.obolibrary.org/obo/UBERON_0002336,,745.6\n",
      "831,KKI_0050778,https://surfer.nmr.mgh.harvard.edu/,CC_Central Volume_mm3 (mm^3),http://purl.obolibrary.org/obo/UBERON_0002336,,551.5\n",
      "832,Leuven_0050691,https://surfer.nmr.mgh.harvard.edu/,CC_Central Volume_mm3 (mm^3),http://purl.obolibrary.org/obo/UBERON_0002336,,471.1\n",
      "833,OHSU_0050142,https://surfer.nmr.mgh.harvard.edu/,Right-Cerebellum-Cortex Volume_mm3 (mm^3),http://purl.obolibrary.org/obo/UBERON_0002129,Right,60118.0\n",
      "834,SBL_51556,https://surfer.nmr.mgh.harvard.edu/,Right-Cerebellum-Cortex Volume_mm3 (mm^3),http://purl.obolibrary.org/obo/UBERON_0002129,Right,54859.7\n",
      "835,UCLA_0051210,https://surfer.nmr.mgh.harvard.edu/,Right-Cerebellum-Cortex Volume_mm3 (mm^3),http://purl.obolibrary.org/obo/UBERON_0002129,Right,52025.7\n",
      "836,SDSU_0050185,https://surfer.nmr.mgh.harvard.edu/,Right-Cerebellum-Cortex Volume_mm3 (mm^3),http://purl.obolibrary.org/obo/UBERON_0002129,Right,63403.7\n",
      "837,Yale_0050559,https://surfer.nmr.mgh.harvard.edu/,Right-Cerebellum-Cortex Volume_mm3 (mm^3),http://purl.obolibrary.org/obo/UBERON_0002129,Right,62565.4\n",
      "838,MaxMun_51348,https://surfer.nmr.mgh.harvard.edu/,Right-Cerebellum-Cortex Volume_mm3 (mm^3),http://purl.obolibrary.org/obo/UBERON_0002129,Right,70418.9\n",
      "839,Olin_0050107,https://surfer.nmr.mgh.harvard.edu/,Right-Cerebellum-Cortex Volume_mm3 (mm^3),http://purl.obolibrary.org/obo/UBERON_0002129,Right,68967.0\n",
      "840,UM_0050404,https://surfer.nmr.mgh.harvard.edu/,Right-Cerebellum-Cortex Volume_mm3 (mm^3),http://purl.obolibrary.org/obo/UBERON_0002129,Right,39863.9\n",
      "841,Pitt_50014,https://surfer.nmr.mgh.harvard.edu/,Right-Cerebellum-Cortex Volume_mm3 (mm^3),http://purl.obolibrary.org/obo/UBERON_0002129,Right,68627.1\n",
      "842,Stanford_0051168,https://surfer.nmr.mgh.harvard.edu/,Right-Cerebellum-Cortex Volume_mm3 (mm^3),http://purl.obolibrary.org/obo/UBERON_0002129,Right,54986.1\n",
      "843,USM_50470,https://surfer.nmr.mgh.harvard.edu/,Right-Cerebellum-Cortex Volume_mm3 (mm^3),http://purl.obolibrary.org/obo/UBERON_0002129,Right,56674.8\n",
      "844,Caltech_51478,https://surfer.nmr.mgh.harvard.edu/,Right-Cerebellum-Cortex Volume_mm3 (mm^3),http://purl.obolibrary.org/obo/UBERON_0002129,Right,70446.8\n"
     ]
    },
    {
     "name": "stdout",
     "output_type": "stream",
     "text": [
      "845,NYU_0050965,https://surfer.nmr.mgh.harvard.edu/,Right-Cerebellum-Cortex Volume_mm3 (mm^3),http://purl.obolibrary.org/obo/UBERON_0002129,Right,61998.6\n",
      "846,Trinity_0050240,https://surfer.nmr.mgh.harvard.edu/,Right-Cerebellum-Cortex Volume_mm3 (mm^3),http://purl.obolibrary.org/obo/UBERON_0002129,Right,58697.1\n",
      "847,CMU_0050646,https://surfer.nmr.mgh.harvard.edu/,Right-Cerebellum-Cortex Volume_mm3 (mm^3),http://purl.obolibrary.org/obo/UBERON_0002129,Right,75891.9\n",
      "848,KKI_0050778,https://surfer.nmr.mgh.harvard.edu/,Right-Cerebellum-Cortex Volume_mm3 (mm^3),http://purl.obolibrary.org/obo/UBERON_0002129,Right,56634.9\n",
      "849,Leuven_0050691,https://surfer.nmr.mgh.harvard.edu/,Right-Cerebellum-Cortex Volume_mm3 (mm^3),http://purl.obolibrary.org/obo/UBERON_0002129,Right,56050.4\n",
      "850,OHSU_0050142,https://surfer.nmr.mgh.harvard.edu/,Right-Cerebellum-White-Matter Volume_mm3 (mm^3),http://purl.obolibrary.org/obo/UBERON_0002317,Right,13024.2\n",
      "851,SBL_51556,https://surfer.nmr.mgh.harvard.edu/,Right-Cerebellum-White-Matter Volume_mm3 (mm^3),http://purl.obolibrary.org/obo/UBERON_0002317,Right,13456.9\n",
      "852,UCLA_0051210,https://surfer.nmr.mgh.harvard.edu/,Right-Cerebellum-White-Matter Volume_mm3 (mm^3),http://purl.obolibrary.org/obo/UBERON_0002317,Right,12719.0\n",
      "853,SDSU_0050185,https://surfer.nmr.mgh.harvard.edu/,Right-Cerebellum-White-Matter Volume_mm3 (mm^3),http://purl.obolibrary.org/obo/UBERON_0002317,Right,16351.7\n",
      "854,Yale_0050559,https://surfer.nmr.mgh.harvard.edu/,Right-Cerebellum-White-Matter Volume_mm3 (mm^3),http://purl.obolibrary.org/obo/UBERON_0002317,Right,14159.3\n",
      "855,MaxMun_51348,https://surfer.nmr.mgh.harvard.edu/,Right-Cerebellum-White-Matter Volume_mm3 (mm^3),http://purl.obolibrary.org/obo/UBERON_0002317,Right,13832.6\n",
      "856,Olin_0050107,https://surfer.nmr.mgh.harvard.edu/,Right-Cerebellum-White-Matter Volume_mm3 (mm^3),http://purl.obolibrary.org/obo/UBERON_0002317,Right,21164.5\n",
      "857,UM_0050404,https://surfer.nmr.mgh.harvard.edu/,Right-Cerebellum-White-Matter Volume_mm3 (mm^3),http://purl.obolibrary.org/obo/UBERON_0002317,Right,6767.4\n",
      "858,Pitt_50014,https://surfer.nmr.mgh.harvard.edu/,Right-Cerebellum-White-Matter Volume_mm3 (mm^3),http://purl.obolibrary.org/obo/UBERON_0002317,Right,13956.6\n",
      "859,Stanford_0051168,https://surfer.nmr.mgh.harvard.edu/,Right-Cerebellum-White-Matter Volume_mm3 (mm^3),http://purl.obolibrary.org/obo/UBERON_0002317,Right,13657.5\n",
      "860,USM_50470,https://surfer.nmr.mgh.harvard.edu/,Right-Cerebellum-White-Matter Volume_mm3 (mm^3),http://purl.obolibrary.org/obo/UBERON_0002317,Right,13622.5\n",
      "861,Caltech_51478,https://surfer.nmr.mgh.harvard.edu/,Right-Cerebellum-White-Matter Volume_mm3 (mm^3),http://purl.obolibrary.org/obo/UBERON_0002317,Right,18148.9\n",
      "862,NYU_0050965,https://surfer.nmr.mgh.harvard.edu/,Right-Cerebellum-White-Matter Volume_mm3 (mm^3),http://purl.obolibrary.org/obo/UBERON_0002317,Right,11608.5\n",
      "863,Trinity_0050240,https://surfer.nmr.mgh.harvard.edu/,Right-Cerebellum-White-Matter Volume_mm3 (mm^3),http://purl.obolibrary.org/obo/UBERON_0002317,Right,12651.3\n",
      "864,CMU_0050646,https://surfer.nmr.mgh.harvard.edu/,Right-Cerebellum-White-Matter Volume_mm3 (mm^3),http://purl.obolibrary.org/obo/UBERON_0002317,Right,17608.8\n",
      "865,KKI_0050778,https://surfer.nmr.mgh.harvard.edu/,Right-Cerebellum-White-Matter Volume_mm3 (mm^3),http://purl.obolibrary.org/obo/UBERON_0002317,Right,13752.1\n",
      "866,Leuven_0050691,https://surfer.nmr.mgh.harvard.edu/,Right-Cerebellum-White-Matter Volume_mm3 (mm^3),http://purl.obolibrary.org/obo/UBERON_0002317,Right,16292.5\n",
      "867,OHSU_0050142,https://surfer.nmr.mgh.harvard.edu/,Left-non-WM-hypointensities Volume_mm3 (mm^3),,Left,0.0\n",
      "868,SBL_51556,https://surfer.nmr.mgh.harvard.edu/,Left-non-WM-hypointensities Volume_mm3 (mm^3),,Left,0.0\n",
      "869,UCLA_0051210,https://surfer.nmr.mgh.harvard.edu/,Left-non-WM-hypointensities Volume_mm3 (mm^3),,Left,0.0\n",
      "870,SDSU_0050185,https://surfer.nmr.mgh.harvard.edu/,Left-non-WM-hypointensities Volume_mm3 (mm^3),,Left,0.0\n",
      "871,Yale_0050559,https://surfer.nmr.mgh.harvard.edu/,Left-non-WM-hypointensities Volume_mm3 (mm^3),,Left,0.0\n",
      "872,MaxMun_51348,https://surfer.nmr.mgh.harvard.edu/,Left-non-WM-hypointensities Volume_mm3 (mm^3),,Left,0.0\n",
      "873,Olin_0050107,https://surfer.nmr.mgh.harvard.edu/,Left-non-WM-hypointensities Volume_mm3 (mm^3),,Left,0.0\n",
      "874,UM_0050404,https://surfer.nmr.mgh.harvard.edu/,Left-non-WM-hypointensities Volume_mm3 (mm^3),,Left,0.0\n",
      "875,Pitt_50014,https://surfer.nmr.mgh.harvard.edu/,Left-non-WM-hypointensities Volume_mm3 (mm^3),,Left,0.0\n",
      "876,Stanford_0051168,https://surfer.nmr.mgh.harvard.edu/,Left-non-WM-hypointensities Volume_mm3 (mm^3),,Left,0.0\n",
      "877,USM_50470,https://surfer.nmr.mgh.harvard.edu/,Left-non-WM-hypointensities Volume_mm3 (mm^3),,Left,0.0\n",
      "878,Caltech_51478,https://surfer.nmr.mgh.harvard.edu/,Left-non-WM-hypointensities Volume_mm3 (mm^3),,Left,0.0\n",
      "879,NYU_0050965,https://surfer.nmr.mgh.harvard.edu/,Left-non-WM-hypointensities Volume_mm3 (mm^3),,Left,0.0\n",
      "880,Trinity_0050240,https://surfer.nmr.mgh.harvard.edu/,Left-non-WM-hypointensities Volume_mm3 (mm^3),,Left,0.0\n",
      "881,CMU_0050646,https://surfer.nmr.mgh.harvard.edu/,Left-non-WM-hypointensities Volume_mm3 (mm^3),,Left,0.0\n",
      "882,KKI_0050778,https://surfer.nmr.mgh.harvard.edu/,Left-non-WM-hypointensities Volume_mm3 (mm^3),,Left,0.0\n",
      "883,Leuven_0050691,https://surfer.nmr.mgh.harvard.edu/,Left-non-WM-hypointensities Volume_mm3 (mm^3),,Left,0.0\n",
      "884,OHSU_0050142,https://surfer.nmr.mgh.harvard.edu/,Brain Segmentation Volume Without Ventricles from Surf (mm^3),http://purl.obolibrary.org/obo/UBERON_0000955,,1323230.682649\n",
      "885,SBL_51556,https://surfer.nmr.mgh.harvard.edu/,Brain Segmentation Volume Without Ventricles from Surf (mm^3),http://purl.obolibrary.org/obo/UBERON_0000955,,1314174.814466\n",
      "886,UCLA_0051210,https://surfer.nmr.mgh.harvard.edu/,Brain Segmentation Volume Without Ventricles from Surf (mm^3),http://purl.obolibrary.org/obo/UBERON_0000955,,1210029.218648\n",
      "887,SDSU_0050185,https://surfer.nmr.mgh.harvard.edu/,Brain Segmentation Volume Without Ventricles from Surf (mm^3),http://purl.obolibrary.org/obo/UBERON_0000955,,910155.828541\n",
      "888,Yale_0050559,https://surfer.nmr.mgh.harvard.edu/,Brain Segmentation Volume Without Ventricles from Surf (mm^3),http://purl.obolibrary.org/obo/UBERON_0000955,,1225053.362\n",
      "889,MaxMun_51348,https://surfer.nmr.mgh.harvard.edu/,Brain Segmentation Volume Without Ventricles from Surf (mm^3),http://purl.obolibrary.org/obo/UBERON_0000955,,1197916.559707\n",
      "890,Olin_0050107,https://surfer.nmr.mgh.harvard.edu/,Brain Segmentation Volume Without Ventricles from Surf (mm^3),http://purl.obolibrary.org/obo/UBERON_0000955,,1426397.533251\n",
      "891,UM_0050404,https://surfer.nmr.mgh.harvard.edu/,Brain Segmentation Volume Without Ventricles from Surf (mm^3),http://purl.obolibrary.org/obo/UBERON_0000955,,773923.973303\n",
      "892,Pitt_50014,https://surfer.nmr.mgh.harvard.edu/,Brain Segmentation Volume Without Ventricles from Surf (mm^3),http://purl.obolibrary.org/obo/UBERON_0000955,,1197036.093907\n",
      "893,Stanford_0051168,https://surfer.nmr.mgh.harvard.edu/,Brain Segmentation Volume Without Ventricles from Surf (mm^3),http://purl.obolibrary.org/obo/UBERON_0000955,,1276245.402709\n",
      "894,USM_50470,https://surfer.nmr.mgh.harvard.edu/,Brain Segmentation Volume Without Ventricles from Surf (mm^3),http://purl.obolibrary.org/obo/UBERON_0000955,,1316575.697525\n",
      "895,Caltech_51478,https://surfer.nmr.mgh.harvard.edu/,Brain Segmentation Volume Without Ventricles from Surf (mm^3),http://purl.obolibrary.org/obo/UBERON_0000955,,1319207.558294\n",
      "896,NYU_0050965,https://surfer.nmr.mgh.harvard.edu/,Brain Segmentation Volume Without Ventricles from Surf (mm^3),http://purl.obolibrary.org/obo/UBERON_0000955,,1297633.51177\n",
      "897,Trinity_0050240,https://surfer.nmr.mgh.harvard.edu/,Brain Segmentation Volume Without Ventricles from Surf (mm^3),http://purl.obolibrary.org/obo/UBERON_0000955,,1233256.126593\n",
      "898,CMU_0050646,https://surfer.nmr.mgh.harvard.edu/,Brain Segmentation Volume Without Ventricles from Surf (mm^3),http://purl.obolibrary.org/obo/UBERON_0000955,,1367441.735821\n",
      "899,KKI_0050778,https://surfer.nmr.mgh.harvard.edu/,Brain Segmentation Volume Without Ventricles from Surf (mm^3),http://purl.obolibrary.org/obo/UBERON_0000955,,1123511.158294\n",
      "900,Leuven_0050691,https://surfer.nmr.mgh.harvard.edu/,Brain Segmentation Volume Without Ventricles from Surf (mm^3),http://purl.obolibrary.org/obo/UBERON_0000955,,1322124.021799\n"
     ]
    },
    {
     "name": "stdout",
     "output_type": "stream",
     "text": [
      "901,OHSU_0050142,https://surfer.nmr.mgh.harvard.edu/,Right-Putamen Volume_mm3 (mm^3),http://purl.obolibrary.org/obo/UBERON_0001874,Right,5621.6\n",
      "902,SBL_51556,https://surfer.nmr.mgh.harvard.edu/,Right-Putamen Volume_mm3 (mm^3),http://purl.obolibrary.org/obo/UBERON_0001874,Right,5275.4\n",
      "903,UCLA_0051210,https://surfer.nmr.mgh.harvard.edu/,Right-Putamen Volume_mm3 (mm^3),http://purl.obolibrary.org/obo/UBERON_0001874,Right,4856.9\n",
      "904,SDSU_0050185,https://surfer.nmr.mgh.harvard.edu/,Right-Putamen Volume_mm3 (mm^3),http://purl.obolibrary.org/obo/UBERON_0001874,Right,5323.2\n",
      "905,Yale_0050559,https://surfer.nmr.mgh.harvard.edu/,Right-Putamen Volume_mm3 (mm^3),http://purl.obolibrary.org/obo/UBERON_0001874,Right,6307.3\n",
      "906,MaxMun_51348,https://surfer.nmr.mgh.harvard.edu/,Right-Putamen Volume_mm3 (mm^3),http://purl.obolibrary.org/obo/UBERON_0001874,Right,5623.1\n",
      "907,Olin_0050107,https://surfer.nmr.mgh.harvard.edu/,Right-Putamen Volume_mm3 (mm^3),http://purl.obolibrary.org/obo/UBERON_0001874,Right,6741.5\n",
      "908,UM_0050404,https://surfer.nmr.mgh.harvard.edu/,Right-Putamen Volume_mm3 (mm^3),http://purl.obolibrary.org/obo/UBERON_0001874,Right,3479.7\n",
      "909,Pitt_50014,https://surfer.nmr.mgh.harvard.edu/,Right-Putamen Volume_mm3 (mm^3),http://purl.obolibrary.org/obo/UBERON_0001874,Right,5355.1\n",
      "910,Stanford_0051168,https://surfer.nmr.mgh.harvard.edu/,Right-Putamen Volume_mm3 (mm^3),http://purl.obolibrary.org/obo/UBERON_0001874,Right,6072.0\n",
      "911,USM_50470,https://surfer.nmr.mgh.harvard.edu/,Right-Putamen Volume_mm3 (mm^3),http://purl.obolibrary.org/obo/UBERON_0001874,Right,5415.2\n",
      "912,Caltech_51478,https://surfer.nmr.mgh.harvard.edu/,Right-Putamen Volume_mm3 (mm^3),http://purl.obolibrary.org/obo/UBERON_0001874,Right,5853.1\n",
      "913,NYU_0050965,https://surfer.nmr.mgh.harvard.edu/,Right-Putamen Volume_mm3 (mm^3),http://purl.obolibrary.org/obo/UBERON_0001874,Right,5647.3\n",
      "914,Trinity_0050240,https://surfer.nmr.mgh.harvard.edu/,Right-Putamen Volume_mm3 (mm^3),http://purl.obolibrary.org/obo/UBERON_0001874,Right,6139.4\n",
      "915,CMU_0050646,https://surfer.nmr.mgh.harvard.edu/,Right-Putamen Volume_mm3 (mm^3),http://purl.obolibrary.org/obo/UBERON_0001874,Right,5323.2\n",
      "916,KKI_0050778,https://surfer.nmr.mgh.harvard.edu/,Right-Putamen Volume_mm3 (mm^3),http://purl.obolibrary.org/obo/UBERON_0001874,Right,4992.7\n",
      "917,Leuven_0050691,https://surfer.nmr.mgh.harvard.edu/,Right-Putamen Volume_mm3 (mm^3),http://purl.obolibrary.org/obo/UBERON_0001874,Right,5500.6\n",
      "918,OHSU_0050142,https://surfer.nmr.mgh.harvard.edu/,CC_Posterior Volume_mm3 (mm^3),http://purl.obolibrary.org/obo/UBERON_0015708,,1125.8\n",
      "919,SBL_51556,https://surfer.nmr.mgh.harvard.edu/,CC_Posterior Volume_mm3 (mm^3),http://purl.obolibrary.org/obo/UBERON_0015708,,791.4\n",
      "920,UCLA_0051210,https://surfer.nmr.mgh.harvard.edu/,CC_Posterior Volume_mm3 (mm^3),http://purl.obolibrary.org/obo/UBERON_0015708,,1199.9\n",
      "921,SDSU_0050185,https://surfer.nmr.mgh.harvard.edu/,CC_Posterior Volume_mm3 (mm^3),http://purl.obolibrary.org/obo/UBERON_0015708,,887.5\n",
      "922,Yale_0050559,https://surfer.nmr.mgh.harvard.edu/,CC_Posterior Volume_mm3 (mm^3),http://purl.obolibrary.org/obo/UBERON_0015708,,859.8\n",
      "923,MaxMun_51348,https://surfer.nmr.mgh.harvard.edu/,CC_Posterior Volume_mm3 (mm^3),http://purl.obolibrary.org/obo/UBERON_0015708,,1153.6\n",
      "924,Olin_0050107,https://surfer.nmr.mgh.harvard.edu/,CC_Posterior Volume_mm3 (mm^3),http://purl.obolibrary.org/obo/UBERON_0015708,,1252.0\n",
      "925,UM_0050404,https://surfer.nmr.mgh.harvard.edu/,CC_Posterior Volume_mm3 (mm^3),http://purl.obolibrary.org/obo/UBERON_0015708,,495.1\n",
      "926,Pitt_50014,https://surfer.nmr.mgh.harvard.edu/,CC_Posterior Volume_mm3 (mm^3),http://purl.obolibrary.org/obo/UBERON_0015708,,1024.7\n",
      "927,Stanford_0051168,https://surfer.nmr.mgh.harvard.edu/,CC_Posterior Volume_mm3 (mm^3),http://purl.obolibrary.org/obo/UBERON_0015708,,914.8\n",
      "928,USM_50470,https://surfer.nmr.mgh.harvard.edu/,CC_Posterior Volume_mm3 (mm^3),http://purl.obolibrary.org/obo/UBERON_0015708,,947.5\n",
      "929,Caltech_51478,https://surfer.nmr.mgh.harvard.edu/,CC_Posterior Volume_mm3 (mm^3),http://purl.obolibrary.org/obo/UBERON_0015708,,739.3\n",
      "930,NYU_0050965,https://surfer.nmr.mgh.harvard.edu/,CC_Posterior Volume_mm3 (mm^3),http://purl.obolibrary.org/obo/UBERON_0015708,,987.0\n",
      "931,Trinity_0050240,https://surfer.nmr.mgh.harvard.edu/,CC_Posterior Volume_mm3 (mm^3),http://purl.obolibrary.org/obo/UBERON_0015708,,1081.4\n",
      "932,CMU_0050646,https://surfer.nmr.mgh.harvard.edu/,CC_Posterior Volume_mm3 (mm^3),http://purl.obolibrary.org/obo/UBERON_0015708,,913.5\n",
      "933,KKI_0050778,https://surfer.nmr.mgh.harvard.edu/,CC_Posterior Volume_mm3 (mm^3),http://purl.obolibrary.org/obo/UBERON_0015708,,597.2\n",
      "934,Leuven_0050691,https://surfer.nmr.mgh.harvard.edu/,CC_Posterior Volume_mm3 (mm^3),http://purl.obolibrary.org/obo/UBERON_0015708,,823.5\n",
      "935,OHSU_0050142,https://surfer.nmr.mgh.harvard.edu/,Total gray matter volume (mm^3),http://purl.obolibrary.org/obo/UBERON_0005401,,806412.524475\n",
      "936,SBL_51556,https://surfer.nmr.mgh.harvard.edu/,Total gray matter volume (mm^3),http://purl.obolibrary.org/obo/UBERON_0005401,,748110.59493\n",
      "937,UCLA_0051210,https://surfer.nmr.mgh.harvard.edu/,Total gray matter volume (mm^3),http://purl.obolibrary.org/obo/UBERON_0005401,,719412.639564\n",
      "938,SDSU_0050185,https://surfer.nmr.mgh.harvard.edu/,Total gray matter volume (mm^3),http://purl.obolibrary.org/obo/UBERON_0005401,,586490.906833\n",
      "939,Yale_0050559,https://surfer.nmr.mgh.harvard.edu/,Total gray matter volume (mm^3),http://purl.obolibrary.org/obo/UBERON_0005401,,739884.379607\n",
      "940,MaxMun_51348,https://surfer.nmr.mgh.harvard.edu/,Total gray matter volume (mm^3),http://purl.obolibrary.org/obo/UBERON_0005401,,785569.403639\n",
      "941,Olin_0050107,https://surfer.nmr.mgh.harvard.edu/,Total gray matter volume (mm^3),http://purl.obolibrary.org/obo/UBERON_0005401,,807912.916816\n",
      "942,UM_0050404,https://surfer.nmr.mgh.harvard.edu/,Total gray matter volume (mm^3),http://purl.obolibrary.org/obo/UBERON_0005401,,500366.458696\n",
      "943,Pitt_50014,https://surfer.nmr.mgh.harvard.edu/,Total gray matter volume (mm^3),http://purl.obolibrary.org/obo/UBERON_0005401,,751215.582278\n",
      "944,Stanford_0051168,https://surfer.nmr.mgh.harvard.edu/,Total gray matter volume (mm^3),http://purl.obolibrary.org/obo/UBERON_0005401,,741732.747026\n",
      "945,USM_50470,https://surfer.nmr.mgh.harvard.edu/,Total gray matter volume (mm^3),http://purl.obolibrary.org/obo/UBERON_0005401,,812287.933744\n",
      "946,Caltech_51478,https://surfer.nmr.mgh.harvard.edu/,Total gray matter volume (mm^3),http://purl.obolibrary.org/obo/UBERON_0005401,,795591.830948\n",
      "947,NYU_0050965,https://surfer.nmr.mgh.harvard.edu/,Total gray matter volume (mm^3),http://purl.obolibrary.org/obo/UBERON_0005401,,817318.176076\n",
      "948,Trinity_0050240,https://surfer.nmr.mgh.harvard.edu/,Total gray matter volume (mm^3),http://purl.obolibrary.org/obo/UBERON_0005401,,755358.121109\n",
      "949,CMU_0050646,https://surfer.nmr.mgh.harvard.edu/,Total gray matter volume (mm^3),http://purl.obolibrary.org/obo/UBERON_0005401,,796717.112196\n",
      "950,KKI_0050778,https://surfer.nmr.mgh.harvard.edu/,Total gray matter volume (mm^3),http://purl.obolibrary.org/obo/UBERON_0005401,,732393.07313\n",
      "951,Leuven_0050691,https://surfer.nmr.mgh.harvard.edu/,Total gray matter volume (mm^3),http://purl.obolibrary.org/obo/UBERON_0005401,,761186.808643\n",
      "952,OHSU_0050142,https://surfer.nmr.mgh.harvard.edu/,Left-Inf-Lat-Vent Volume_mm3 (mm^3),http://purl.obolibrary.org/obo/UBERON_0006091,Left,141.9\n",
      "953,SBL_51556,https://surfer.nmr.mgh.harvard.edu/,Left-Inf-Lat-Vent Volume_mm3 (mm^3),http://purl.obolibrary.org/obo/UBERON_0006091,Left,246.2\n",
      "954,UCLA_0051210,https://surfer.nmr.mgh.harvard.edu/,Left-Inf-Lat-Vent Volume_mm3 (mm^3),http://purl.obolibrary.org/obo/UBERON_0006091,Left,214.7\n",
      "955,SDSU_0050185,https://surfer.nmr.mgh.harvard.edu/,Left-Inf-Lat-Vent Volume_mm3 (mm^3),http://purl.obolibrary.org/obo/UBERON_0006091,Left,431.1\n",
      "956,Yale_0050559,https://surfer.nmr.mgh.harvard.edu/,Left-Inf-Lat-Vent Volume_mm3 (mm^3),http://purl.obolibrary.org/obo/UBERON_0006091,Left,345.4\n",
      "957,MaxMun_51348,https://surfer.nmr.mgh.harvard.edu/,Left-Inf-Lat-Vent Volume_mm3 (mm^3),http://purl.obolibrary.org/obo/UBERON_0006091,Left,235.0\n",
      "958,Olin_0050107,https://surfer.nmr.mgh.harvard.edu/,Left-Inf-Lat-Vent Volume_mm3 (mm^3),http://purl.obolibrary.org/obo/UBERON_0006091,Left,354.4\n"
     ]
    },
    {
     "name": "stdout",
     "output_type": "stream",
     "text": [
      "959,UM_0050404,https://surfer.nmr.mgh.harvard.edu/,Left-Inf-Lat-Vent Volume_mm3 (mm^3),http://purl.obolibrary.org/obo/UBERON_0006091,Left,68.3\n",
      "960,Pitt_50014,https://surfer.nmr.mgh.harvard.edu/,Left-Inf-Lat-Vent Volume_mm3 (mm^3),http://purl.obolibrary.org/obo/UBERON_0006091,Left,503.3\n",
      "961,Stanford_0051168,https://surfer.nmr.mgh.harvard.edu/,Left-Inf-Lat-Vent Volume_mm3 (mm^3),http://purl.obolibrary.org/obo/UBERON_0006091,Left,209.4\n",
      "962,USM_50470,https://surfer.nmr.mgh.harvard.edu/,Left-Inf-Lat-Vent Volume_mm3 (mm^3),http://purl.obolibrary.org/obo/UBERON_0006091,Left,197.0\n",
      "963,Caltech_51478,https://surfer.nmr.mgh.harvard.edu/,Left-Inf-Lat-Vent Volume_mm3 (mm^3),http://purl.obolibrary.org/obo/UBERON_0006091,Left,345.6\n",
      "964,NYU_0050965,https://surfer.nmr.mgh.harvard.edu/,Left-Inf-Lat-Vent Volume_mm3 (mm^3),http://purl.obolibrary.org/obo/UBERON_0006091,Left,221.3\n",
      "965,Trinity_0050240,https://surfer.nmr.mgh.harvard.edu/,Left-Inf-Lat-Vent Volume_mm3 (mm^3),http://purl.obolibrary.org/obo/UBERON_0006091,Left,303.9\n",
      "966,CMU_0050646,https://surfer.nmr.mgh.harvard.edu/,Left-Inf-Lat-Vent Volume_mm3 (mm^3),http://purl.obolibrary.org/obo/UBERON_0006091,Left,374.7\n",
      "967,KKI_0050778,https://surfer.nmr.mgh.harvard.edu/,Left-Inf-Lat-Vent Volume_mm3 (mm^3),http://purl.obolibrary.org/obo/UBERON_0006091,Left,305.1\n",
      "968,Leuven_0050691,https://surfer.nmr.mgh.harvard.edu/,Left-Inf-Lat-Vent Volume_mm3 (mm^3),http://purl.obolibrary.org/obo/UBERON_0006091,Left,486.5\n",
      "969,OHSU_0050142,https://surfer.nmr.mgh.harvard.edu/,Left-Putamen Volume_mm3 (mm^3),http://purl.obolibrary.org/obo/UBERON_0001874,Left,5580.2\n",
      "970,SBL_51556,https://surfer.nmr.mgh.harvard.edu/,Left-Putamen Volume_mm3 (mm^3),http://purl.obolibrary.org/obo/UBERON_0001874,Left,5128.2\n",
      "971,UCLA_0051210,https://surfer.nmr.mgh.harvard.edu/,Left-Putamen Volume_mm3 (mm^3),http://purl.obolibrary.org/obo/UBERON_0001874,Left,4907.7\n",
      "972,SDSU_0050185,https://surfer.nmr.mgh.harvard.edu/,Left-Putamen Volume_mm3 (mm^3),http://purl.obolibrary.org/obo/UBERON_0001874,Left,5141.9\n",
      "973,Yale_0050559,https://surfer.nmr.mgh.harvard.edu/,Left-Putamen Volume_mm3 (mm^3),http://purl.obolibrary.org/obo/UBERON_0001874,Left,6479.7\n",
      "974,MaxMun_51348,https://surfer.nmr.mgh.harvard.edu/,Left-Putamen Volume_mm3 (mm^3),http://purl.obolibrary.org/obo/UBERON_0001874,Left,5458.6\n",
      "975,Olin_0050107,https://surfer.nmr.mgh.harvard.edu/,Left-Putamen Volume_mm3 (mm^3),http://purl.obolibrary.org/obo/UBERON_0001874,Left,6727.1\n",
      "976,UM_0050404,https://surfer.nmr.mgh.harvard.edu/,Left-Putamen Volume_mm3 (mm^3),http://purl.obolibrary.org/obo/UBERON_0001874,Left,3552.8\n",
      "977,Pitt_50014,https://surfer.nmr.mgh.harvard.edu/,Left-Putamen Volume_mm3 (mm^3),http://purl.obolibrary.org/obo/UBERON_0001874,Left,5283.7\n",
      "978,Stanford_0051168,https://surfer.nmr.mgh.harvard.edu/,Left-Putamen Volume_mm3 (mm^3),http://purl.obolibrary.org/obo/UBERON_0001874,Left,6077.4\n",
      "979,USM_50470,https://surfer.nmr.mgh.harvard.edu/,Left-Putamen Volume_mm3 (mm^3),http://purl.obolibrary.org/obo/UBERON_0001874,Left,5349.3\n",
      "980,Caltech_51478,https://surfer.nmr.mgh.harvard.edu/,Left-Putamen Volume_mm3 (mm^3),http://purl.obolibrary.org/obo/UBERON_0001874,Left,5685.9\n",
      "981,NYU_0050965,https://surfer.nmr.mgh.harvard.edu/,Left-Putamen Volume_mm3 (mm^3),http://purl.obolibrary.org/obo/UBERON_0001874,Left,5207.4\n",
      "982,Trinity_0050240,https://surfer.nmr.mgh.harvard.edu/,Left-Putamen Volume_mm3 (mm^3),http://purl.obolibrary.org/obo/UBERON_0001874,Left,6349.9\n",
      "983,CMU_0050646,https://surfer.nmr.mgh.harvard.edu/,Left-Putamen Volume_mm3 (mm^3),http://purl.obolibrary.org/obo/UBERON_0001874,Left,5266.8\n",
      "984,KKI_0050778,https://surfer.nmr.mgh.harvard.edu/,Left-Putamen Volume_mm3 (mm^3),http://purl.obolibrary.org/obo/UBERON_0001874,Left,5122.7\n",
      "985,Leuven_0050691,https://surfer.nmr.mgh.harvard.edu/,Left-Putamen Volume_mm3 (mm^3),http://purl.obolibrary.org/obo/UBERON_0001874,Left,5351.8\n",
      "986,OHSU_0050142,https://surfer.nmr.mgh.harvard.edu/,CSF Volume_mm3 (mm^3),http://purl.obolibrary.org/obo/UBERON_0001359,,1206.0\n",
      "987,SBL_51556,https://surfer.nmr.mgh.harvard.edu/,CSF Volume_mm3 (mm^3),http://purl.obolibrary.org/obo/UBERON_0001359,,750.2\n",
      "988,UCLA_0051210,https://surfer.nmr.mgh.harvard.edu/,CSF Volume_mm3 (mm^3),http://purl.obolibrary.org/obo/UBERON_0001359,,1068.3\n",
      "989,SDSU_0050185,https://surfer.nmr.mgh.harvard.edu/,CSF Volume_mm3 (mm^3),http://purl.obolibrary.org/obo/UBERON_0001359,,1035.7\n",
      "990,Yale_0050559,https://surfer.nmr.mgh.harvard.edu/,CSF Volume_mm3 (mm^3),http://purl.obolibrary.org/obo/UBERON_0001359,,795.0\n",
      "991,MaxMun_51348,https://surfer.nmr.mgh.harvard.edu/,CSF Volume_mm3 (mm^3),http://purl.obolibrary.org/obo/UBERON_0001359,,1317.8\n",
      "992,Olin_0050107,https://surfer.nmr.mgh.harvard.edu/,CSF Volume_mm3 (mm^3),http://purl.obolibrary.org/obo/UBERON_0001359,,1069.5\n",
      "993,UM_0050404,https://surfer.nmr.mgh.harvard.edu/,CSF Volume_mm3 (mm^3),http://purl.obolibrary.org/obo/UBERON_0001359,,771.6\n",
      "994,Pitt_50014,https://surfer.nmr.mgh.harvard.edu/,CSF Volume_mm3 (mm^3),http://purl.obolibrary.org/obo/UBERON_0001359,,1178.4\n",
      "995,Stanford_0051168,https://surfer.nmr.mgh.harvard.edu/,CSF Volume_mm3 (mm^3),http://purl.obolibrary.org/obo/UBERON_0001359,,720.4\n",
      "996,USM_50470,https://surfer.nmr.mgh.harvard.edu/,CSF Volume_mm3 (mm^3),http://purl.obolibrary.org/obo/UBERON_0001359,,892.8\n",
      "997,Caltech_51478,https://surfer.nmr.mgh.harvard.edu/,CSF Volume_mm3 (mm^3),http://purl.obolibrary.org/obo/UBERON_0001359,,1033.6\n",
      "998,NYU_0050965,https://surfer.nmr.mgh.harvard.edu/,CSF Volume_mm3 (mm^3),http://purl.obolibrary.org/obo/UBERON_0001359,,784.1\n",
      "999,Trinity_0050240,https://surfer.nmr.mgh.harvard.edu/,CSF Volume_mm3 (mm^3),http://purl.obolibrary.org/obo/UBERON_0001359,,643.9\n",
      "1000,CMU_0050646,https://surfer.nmr.mgh.harvard.edu/,CSF Volume_mm3 (mm^3),http://purl.obolibrary.org/obo/UBERON_0001359,,1157.0\n",
      "1001,KKI_0050778,https://surfer.nmr.mgh.harvard.edu/,CSF Volume_mm3 (mm^3),http://purl.obolibrary.org/obo/UBERON_0001359,,507.4\n",
      "1002,Leuven_0050691,https://surfer.nmr.mgh.harvard.edu/,CSF Volume_mm3 (mm^3),http://purl.obolibrary.org/obo/UBERON_0001359,,894.2\n",
      "1003,OHSU_0050142,https://surfer.nmr.mgh.harvard.edu/,Total cortical gray matter volume (mm^3),http://purl.obolibrary.org/obo/UBERON_0000956,,622631.524475\n",
      "1004,SBL_51556,https://surfer.nmr.mgh.harvard.edu/,Total cortical gray matter volume (mm^3),http://purl.obolibrary.org/obo/UBERON_0000956,,572212.59493\n",
      "1005,UCLA_0051210,https://surfer.nmr.mgh.harvard.edu/,Total cortical gray matter volume (mm^3),http://purl.obolibrary.org/obo/UBERON_0000956,,560583.639564\n",
      "1006,SDSU_0050185,https://surfer.nmr.mgh.harvard.edu/,Total cortical gray matter volume (mm^3),http://purl.obolibrary.org/obo/UBERON_0000956,,393026.906833\n",
      "1007,Yale_0050559,https://surfer.nmr.mgh.harvard.edu/,Total cortical gray matter volume (mm^3),http://purl.obolibrary.org/obo/UBERON_0000956,,550300.379607\n",
      "1008,MaxMun_51348,https://surfer.nmr.mgh.harvard.edu/,Total cortical gray matter volume (mm^3),http://purl.obolibrary.org/obo/UBERON_0000956,,582039.403639\n",
      "1009,Olin_0050107,https://surfer.nmr.mgh.harvard.edu/,Total cortical gray matter volume (mm^3),http://purl.obolibrary.org/obo/UBERON_0000956,,601190.916816\n",
      "1010,UM_0050404,https://surfer.nmr.mgh.harvard.edu/,Total cortical gray matter volume (mm^3),http://purl.obolibrary.org/obo/UBERON_0000956,,379593.458696\n",
      "1011,Pitt_50014,https://surfer.nmr.mgh.harvard.edu/,Total cortical gray matter volume (mm^3),http://purl.obolibrary.org/obo/UBERON_0000956,,550417.582278\n",
      "1012,Stanford_0051168,https://surfer.nmr.mgh.harvard.edu/,Total cortical gray matter volume (mm^3),http://purl.obolibrary.org/obo/UBERON_0000956,,565897.747026\n",
      "1013,USM_50470,https://surfer.nmr.mgh.harvard.edu/,Total cortical gray matter volume (mm^3),http://purl.obolibrary.org/obo/UBERON_0000956,,635223.933744\n",
      "1014,Caltech_51478,https://surfer.nmr.mgh.harvard.edu/,Total cortical gray matter volume (mm^3),http://purl.obolibrary.org/obo/UBERON_0000956,,589952.830948\n",
      "1015,NYU_0050965,https://surfer.nmr.mgh.harvard.edu/,Total cortical gray matter volume (mm^3),http://purl.obolibrary.org/obo/UBERON_0000956,,629850.176076\n",
      "1016,Trinity_0050240,https://surfer.nmr.mgh.harvard.edu/,Total cortical gray matter volume (mm^3),http://purl.obolibrary.org/obo/UBERON_0000956,,573141.121109\n"
     ]
    },
    {
     "name": "stdout",
     "output_type": "stream",
     "text": [
      "1017,CMU_0050646,https://surfer.nmr.mgh.harvard.edu/,Total cortical gray matter volume (mm^3),http://purl.obolibrary.org/obo/UBERON_0000956,,580465.112196\n",
      "1018,KKI_0050778,https://surfer.nmr.mgh.harvard.edu/,Total cortical gray matter volume (mm^3),http://purl.obolibrary.org/obo/UBERON_0000956,,563574.07313\n",
      "1019,Leuven_0050691,https://surfer.nmr.mgh.harvard.edu/,Total cortical gray matter volume (mm^3),http://purl.obolibrary.org/obo/UBERON_0000956,,582187.808643\n",
      "1020,OHSU_0050142,https://surfer.nmr.mgh.harvard.edu/,Total cerebral white matter volume (mm^3),http://purl.obolibrary.org/obo/UBERON_0002437,,491065.158174\n",
      "1021,SBL_51556,https://surfer.nmr.mgh.harvard.edu/,Total cerebral white matter volume (mm^3),http://purl.obolibrary.org/obo/UBERON_0002437,,540509.219536\n",
      "1022,UCLA_0051210,https://surfer.nmr.mgh.harvard.edu/,Total cerebral white matter volume (mm^3),http://purl.obolibrary.org/obo/UBERON_0002437,,465824.579084\n",
      "1023,SDSU_0050185,https://surfer.nmr.mgh.harvard.edu/,Total cerebral white matter volume (mm^3),http://purl.obolibrary.org/obo/UBERON_0002437,,291938.921709\n",
      "1024,Yale_0050559,https://surfer.nmr.mgh.harvard.edu/,Total cerebral white matter volume (mm^3),http://purl.obolibrary.org/obo/UBERON_0002437,,458641.982393\n",
      "1025,MaxMun_51348,https://surfer.nmr.mgh.harvard.edu/,Total cerebral white matter volume (mm^3),http://purl.obolibrary.org/obo/UBERON_0002437,,384906.156068\n",
      "1026,Olin_0050107,https://surfer.nmr.mgh.harvard.edu/,Total cerebral white matter volume (mm^3),http://purl.obolibrary.org/obo/UBERON_0002437,,575145.616435\n",
      "1027,UM_0050404,https://surfer.nmr.mgh.harvard.edu/,Total cerebral white matter volume (mm^3),http://purl.obolibrary.org/obo/UBERON_0002437,,258730.514607\n",
      "1028,Pitt_50014,https://surfer.nmr.mgh.harvard.edu/,Total cerebral white matter volume (mm^3),http://purl.obolibrary.org/obo/UBERON_0002437,,418486.511629\n",
      "1029,Stanford_0051168,https://surfer.nmr.mgh.harvard.edu/,Total cerebral white matter volume (mm^3),http://purl.obolibrary.org/obo/UBERON_0002437,,504686.655683\n",
      "1030,USM_50470,https://surfer.nmr.mgh.harvard.edu/,Total cerebral white matter volume (mm^3),http://purl.obolibrary.org/obo/UBERON_0002437,,476125.763781\n",
      "1031,Caltech_51478,https://surfer.nmr.mgh.harvard.edu/,Total cerebral white matter volume (mm^3),http://purl.obolibrary.org/obo/UBERON_0002437,,486928.727346\n",
      "1032,NYU_0050965,https://surfer.nmr.mgh.harvard.edu/,Total cerebral white matter volume (mm^3),http://purl.obolibrary.org/obo/UBERON_0002437,,457057.335693\n",
      "1033,Trinity_0050240,https://surfer.nmr.mgh.harvard.edu/,Total cerebral white matter volume (mm^3),http://purl.obolibrary.org/obo/UBERON_0002437,,453109.005484\n",
      "1034,CMU_0050646,https://surfer.nmr.mgh.harvard.edu/,Total cerebral white matter volume (mm^3),http://purl.obolibrary.org/obo/UBERON_0002437,,538202.623626\n",
      "1035,KKI_0050778,https://surfer.nmr.mgh.harvard.edu/,Total cerebral white matter volume (mm^3),http://purl.obolibrary.org/obo/UBERON_0002437,,363504.085163\n",
      "1036,Leuven_0050691,https://surfer.nmr.mgh.harvard.edu/,Total cerebral white matter volume (mm^3),http://purl.obolibrary.org/obo/UBERON_0002437,,528519.213155\n",
      "1037,OHSU_0050142,https://surfer.nmr.mgh.harvard.edu/,CC_Mid_Anterior Volume_mm3 (mm^3),,,676.7\n",
      "1038,SBL_51556,https://surfer.nmr.mgh.harvard.edu/,CC_Mid_Anterior Volume_mm3 (mm^3),,,724.9\n",
      "1039,UCLA_0051210,https://surfer.nmr.mgh.harvard.edu/,CC_Mid_Anterior Volume_mm3 (mm^3),,,775.4\n",
      "1040,SDSU_0050185,https://surfer.nmr.mgh.harvard.edu/,CC_Mid_Anterior Volume_mm3 (mm^3),,,629.8\n",
      "1041,Yale_0050559,https://surfer.nmr.mgh.harvard.edu/,CC_Mid_Anterior Volume_mm3 (mm^3),,,460.4\n",
      "1042,MaxMun_51348,https://surfer.nmr.mgh.harvard.edu/,CC_Mid_Anterior Volume_mm3 (mm^3),,,805.9\n",
      "1043,Olin_0050107,https://surfer.nmr.mgh.harvard.edu/,CC_Mid_Anterior Volume_mm3 (mm^3),,,687.5\n",
      "1044,UM_0050404,https://surfer.nmr.mgh.harvard.edu/,CC_Mid_Anterior Volume_mm3 (mm^3),,,269.6\n",
      "1045,Pitt_50014,https://surfer.nmr.mgh.harvard.edu/,CC_Mid_Anterior Volume_mm3 (mm^3),,,697.9\n",
      "1046,Stanford_0051168,https://surfer.nmr.mgh.harvard.edu/,CC_Mid_Anterior Volume_mm3 (mm^3),,,944.4\n",
      "1047,USM_50470,https://surfer.nmr.mgh.harvard.edu/,CC_Mid_Anterior Volume_mm3 (mm^3),,,491.1\n",
      "1048,Caltech_51478,https://surfer.nmr.mgh.harvard.edu/,CC_Mid_Anterior Volume_mm3 (mm^3),,,679.7\n",
      "1049,NYU_0050965,https://surfer.nmr.mgh.harvard.edu/,CC_Mid_Anterior Volume_mm3 (mm^3),,,777.2\n",
      "1050,Trinity_0050240,https://surfer.nmr.mgh.harvard.edu/,CC_Mid_Anterior Volume_mm3 (mm^3),,,997.6\n",
      "1051,CMU_0050646,https://surfer.nmr.mgh.harvard.edu/,CC_Mid_Anterior Volume_mm3 (mm^3),,,566.7\n",
      "1052,KKI_0050778,https://surfer.nmr.mgh.harvard.edu/,CC_Mid_Anterior Volume_mm3 (mm^3),,,359.7\n",
      "1053,Leuven_0050691,https://surfer.nmr.mgh.harvard.edu/,CC_Mid_Anterior Volume_mm3 (mm^3),,,471.4\n"
     ]
    }
   ],
   "source": [
    "cat all_query_results.txt"
   ]
  },
  {
   "cell_type": "code",
   "execution_count": 51,
   "metadata": {},
   "outputs": [
    {
     "name": "stdout",
     "output_type": "stream",
     "text": [
      "\n",
      "real\t0m8.018s\n",
      "user\t0m7.894s\n",
      "sys\t0m0.263s\n"
     ]
    }
   ],
   "source": [
    "pynidm query -nl all_subjects/all_aseg.ttl -q hippocampus_query.sparql -o all_hippocampus_results.txt"
   ]
  },
  {
   "cell_type": "code",
   "execution_count": 52,
   "metadata": {},
   "outputs": [
    {
     "name": "stdout",
     "output_type": "stream",
     "text": [
      ",ID,tool,softwareLabel,federatedLabel,laterality,volume\n",
      "0,OHSU_0050142,https://surfer.nmr.mgh.harvard.edu/,Left-Hippocampus Volume_mm3 (mm^3),http://purl.obolibrary.org/obo/UBERON_0001954,Left,4272.2\n",
      "1,SBL_51556,https://surfer.nmr.mgh.harvard.edu/,Left-Hippocampus Volume_mm3 (mm^3),http://purl.obolibrary.org/obo/UBERON_0001954,Left,4050.6\n",
      "2,UCLA_0051210,https://surfer.nmr.mgh.harvard.edu/,Left-Hippocampus Volume_mm3 (mm^3),http://purl.obolibrary.org/obo/UBERON_0001954,Left,3781.3\n",
      "3,SDSU_0050185,https://surfer.nmr.mgh.harvard.edu/,Left-Hippocampus Volume_mm3 (mm^3),http://purl.obolibrary.org/obo/UBERON_0001954,Left,5014.5\n",
      "4,Yale_0050559,https://surfer.nmr.mgh.harvard.edu/,Left-Hippocampus Volume_mm3 (mm^3),http://purl.obolibrary.org/obo/UBERON_0001954,Left,4145.3\n",
      "5,MaxMun_51348,https://surfer.nmr.mgh.harvard.edu/,Left-Hippocampus Volume_mm3 (mm^3),http://purl.obolibrary.org/obo/UBERON_0001954,Left,4089.1\n",
      "6,Olin_0050107,https://surfer.nmr.mgh.harvard.edu/,Left-Hippocampus Volume_mm3 (mm^3),http://purl.obolibrary.org/obo/UBERON_0001954,Left,4318.4\n",
      "7,UM_0050404,https://surfer.nmr.mgh.harvard.edu/,Left-Hippocampus Volume_mm3 (mm^3),http://purl.obolibrary.org/obo/UBERON_0001954,Left,2769.4\n",
      "8,Pitt_50014,https://surfer.nmr.mgh.harvard.edu/,Left-Hippocampus Volume_mm3 (mm^3),http://purl.obolibrary.org/obo/UBERON_0001954,Left,4722.7\n",
      "9,Stanford_0051168,https://surfer.nmr.mgh.harvard.edu/,Left-Hippocampus Volume_mm3 (mm^3),http://purl.obolibrary.org/obo/UBERON_0001954,Left,4616.9\n",
      "10,USM_50470,https://surfer.nmr.mgh.harvard.edu/,Left-Hippocampus Volume_mm3 (mm^3),http://purl.obolibrary.org/obo/UBERON_0001954,Left,3838.9\n",
      "11,Caltech_51478,https://surfer.nmr.mgh.harvard.edu/,Left-Hippocampus Volume_mm3 (mm^3),http://purl.obolibrary.org/obo/UBERON_0001954,Left,4787.0\n",
      "12,NYU_0050965,https://surfer.nmr.mgh.harvard.edu/,Left-Hippocampus Volume_mm3 (mm^3),http://purl.obolibrary.org/obo/UBERON_0001954,Left,3970.7\n",
      "13,Trinity_0050240,https://surfer.nmr.mgh.harvard.edu/,Left-Hippocampus Volume_mm3 (mm^3),http://purl.obolibrary.org/obo/UBERON_0001954,Left,4282.0\n",
      "14,CMU_0050646,https://surfer.nmr.mgh.harvard.edu/,Left-Hippocampus Volume_mm3 (mm^3),http://purl.obolibrary.org/obo/UBERON_0001954,Left,5061.6\n",
      "15,KKI_0050778,https://surfer.nmr.mgh.harvard.edu/,Left-Hippocampus Volume_mm3 (mm^3),http://purl.obolibrary.org/obo/UBERON_0001954,Left,3767.3\n",
      "16,Leuven_0050691,https://surfer.nmr.mgh.harvard.edu/,Left-Hippocampus Volume_mm3 (mm^3),http://purl.obolibrary.org/obo/UBERON_0001954,Left,4297.1\n",
      "17,OHSU_0050142,https://surfer.nmr.mgh.harvard.edu/,Right-Hippocampus Volume_mm3 (mm^3),http://purl.obolibrary.org/obo/UBERON_0001954,Right,4116.4\n",
      "18,SBL_51556,https://surfer.nmr.mgh.harvard.edu/,Right-Hippocampus Volume_mm3 (mm^3),http://purl.obolibrary.org/obo/UBERON_0001954,Right,4015.9\n",
      "19,UCLA_0051210,https://surfer.nmr.mgh.harvard.edu/,Right-Hippocampus Volume_mm3 (mm^3),http://purl.obolibrary.org/obo/UBERON_0001954,Right,3682.1\n",
      "20,SDSU_0050185,https://surfer.nmr.mgh.harvard.edu/,Right-Hippocampus Volume_mm3 (mm^3),http://purl.obolibrary.org/obo/UBERON_0001954,Right,4423.0\n",
      "21,Yale_0050559,https://surfer.nmr.mgh.harvard.edu/,Right-Hippocampus Volume_mm3 (mm^3),http://purl.obolibrary.org/obo/UBERON_0001954,Right,4229.6\n",
      "22,MaxMun_51348,https://surfer.nmr.mgh.harvard.edu/,Right-Hippocampus Volume_mm3 (mm^3),http://purl.obolibrary.org/obo/UBERON_0001954,Right,4057.8\n",
      "23,Olin_0050107,https://surfer.nmr.mgh.harvard.edu/,Right-Hippocampus Volume_mm3 (mm^3),http://purl.obolibrary.org/obo/UBERON_0001954,Right,4539.9\n",
      "24,UM_0050404,https://surfer.nmr.mgh.harvard.edu/,Right-Hippocampus Volume_mm3 (mm^3),http://purl.obolibrary.org/obo/UBERON_0001954,Right,2828.4\n",
      "25,Pitt_50014,https://surfer.nmr.mgh.harvard.edu/,Right-Hippocampus Volume_mm3 (mm^3),http://purl.obolibrary.org/obo/UBERON_0001954,Right,5084.7\n",
      "26,Stanford_0051168,https://surfer.nmr.mgh.harvard.edu/,Right-Hippocampus Volume_mm3 (mm^3),http://purl.obolibrary.org/obo/UBERON_0001954,Right,4658.0\n",
      "27,USM_50470,https://surfer.nmr.mgh.harvard.edu/,Right-Hippocampus Volume_mm3 (mm^3),http://purl.obolibrary.org/obo/UBERON_0001954,Right,3751.8\n",
      "28,Caltech_51478,https://surfer.nmr.mgh.harvard.edu/,Right-Hippocampus Volume_mm3 (mm^3),http://purl.obolibrary.org/obo/UBERON_0001954,Right,4833.7\n",
      "29,NYU_0050965,https://surfer.nmr.mgh.harvard.edu/,Right-Hippocampus Volume_mm3 (mm^3),http://purl.obolibrary.org/obo/UBERON_0001954,Right,3912.0\n",
      "30,Trinity_0050240,https://surfer.nmr.mgh.harvard.edu/,Right-Hippocampus Volume_mm3 (mm^3),http://purl.obolibrary.org/obo/UBERON_0001954,Right,4568.3\n",
      "31,CMU_0050646,https://surfer.nmr.mgh.harvard.edu/,Right-Hippocampus Volume_mm3 (mm^3),http://purl.obolibrary.org/obo/UBERON_0001954,Right,5124.9\n",
      "32,KKI_0050778,https://surfer.nmr.mgh.harvard.edu/,Right-Hippocampus Volume_mm3 (mm^3),http://purl.obolibrary.org/obo/UBERON_0001954,Right,3797.7\n",
      "33,Leuven_0050691,https://surfer.nmr.mgh.harvard.edu/,Right-Hippocampus Volume_mm3 (mm^3),http://purl.obolibrary.org/obo/UBERON_0001954,Right,4452.1\n"
     ]
    }
   ],
   "source": [
    "cat all_hippocampus_results.txt"
   ]
  },
  {
   "cell_type": "markdown",
   "metadata": {},
   "source": [
    "`csv2nidm -csv demographics.csv -out demographics.ttl` run earlier; also need INTERLEX_API_KEY"
   ]
  },
  {
   "cell_type": "code",
   "execution_count": 53,
   "metadata": {},
   "outputs": [
    {
     "name": "stdout",
     "output_type": "stream",
     "text": [
      "\n",
      "real\t0m14.595s\n",
      "user\t0m14.349s\n",
      "sys\t0m0.328s\n"
     ]
    }
   ],
   "source": [
    "pynidm merge -nl demographics.ttl,all_subjects/all_aseg.ttl -s -o demog_aseg.ttl"
   ]
  },
  {
   "cell_type": "code",
   "execution_count": 54,
   "metadata": {},
   "outputs": [
    {
     "name": "stdout",
     "output_type": "stream",
     "text": [
      "UUID\n",
      "------------------------------------\n",
      "a3814f98-8993-11ea-9534-f01898563600\n",
      "\n",
      "real\t0m5.554s\n",
      "user\t0m5.464s\n",
      "sys\t0m0.267s\n"
     ]
    }
   ],
   "source": [
    "pynidm query -nl demog_aseg.ttl -u /projects"
   ]
  },
  {
   "cell_type": "code",
   "execution_count": 55,
   "metadata": {},
   "outputs": [
    {
     "name": "stdout",
     "output_type": "stream",
     "text": [
      "fs_003342           Left-Hippocampus NVoxels\n",
      "fs_003343           Left-Hippocampus Volume_mm3 (mm^3)\n",
      "fs_003347           Left-Hippocampus normMax (MR)\n",
      "fs_003344           Left-Hippocampus normMean (MR)\n",
      "fs_003346           Left-Hippocampus normMin (MR)\n",
      "fs_003348           Left-Hippocampus normRange (MR)\n",
      "fs_003345           Left-Hippocampus normStdDev (MR)\n",
      "fs_003447           Right-Hippocampus NVoxels\n",
      "fs_003448           Right-Hippocampus Volume_mm3 (mm^3)\n",
      "fs_003452           Right-Hippocampus normMax (MR)\n",
      "fs_003449           Right-Hippocampus normMean (MR)\n",
      "fs_003451           Right-Hippocampus normMin (MR)\n",
      "fs_003453           Right-Hippocampus normRange (MR)\n",
      "fs_003450           Right-Hippocampus normStdDev (MR)\n",
      "\n",
      "real\t0m2.523s\n",
      "user\t0m2.474s\n",
      "sys\t0m0.243s\n"
     ]
    }
   ],
   "source": [
    "pynidm query -nl demog_aseg.ttl -u /projects/a3814f98-8993-11ea-9534-f01898563600 | grep Hippo"
   ]
  },
  {
   "cell_type": "code",
   "execution_count": 56,
   "metadata": {},
   "outputs": [
    {
     "name": "stdout",
     "output_type": "stream",
     "text": [
      "ImageContrastType                                []\n",
      "ImageUsageType                                   []\n",
      "age_2q73ou5         age\n",
      "\n",
      "real\t0m2.475s\n",
      "user\t0m2.431s\n",
      "sys\t0m0.246s\n"
     ]
    }
   ],
   "source": [
    "pynidm query -nl demog_aseg.ttl -u /projects/a3814f98-8993-11ea-9534-f01898563600 | grep age"
   ]
  },
  {
   "cell_type": "code",
   "execution_count": 57,
   "metadata": {},
   "outputs": [
    {
     "name": "stdout",
     "output_type": "stream",
     "text": [
      "\n",
      "real\t0m5.617s\n",
      "user\t0m5.511s\n",
      "sys\t0m0.281s\n"
     ]
    }
   ],
   "source": [
    "pynidm query -nl demog_aseg.ttl -u /projects/a3814f98-8993-11ea-9534-f01898563600?fields=age,fs_003343 -o age_hippo_raw.csv"
   ]
  },
  {
   "cell_type": "code",
   "execution_count": 58,
   "metadata": {},
   "outputs": [
    {
     "name": "stdout",
     "output_type": "stream",
     "text": [
      ",subject,field,datumType,label,value,units\n",
      "0,c395b12c-8993-11ea-9534-f01898563600,fs_003343,ilx_0738276,Left-Hippocampus Volume_mm3 (mm^3),4722.7,mm^3\n",
      "1,c395b12c-8993-11ea-9534-f01898563600,age,,,14,\n",
      "2,c3a285dc-8993-11ea-9534-f01898563600,fs_003343,ilx_0738276,Left-Hippocampus Volume_mm3 (mm^3),3838.9,mm^3\n",
      "3,c3a285dc-8993-11ea-9534-f01898563600,age,,,9,\n",
      "4,a39786be-8993-11ea-9534-f01898563600,fs_003343,ilx_0738276,Left-Hippocampus Volume_mm3 (mm^3),4050.6,mm^3\n",
      "5,a39786be-8993-11ea-9534-f01898563600,age,,,20,\n",
      "6,a3994fc6-8993-11ea-9534-f01898563600,fs_003343,ilx_0738276,Left-Hippocampus Volume_mm3 (mm^3),5014.5,mm^3\n",
      "7,a3994fc6-8993-11ea-9534-f01898563600,age,,,12,\n",
      "8,a39eaf16-8993-11ea-9534-f01898563600,fs_003343,ilx_0738276,Left-Hippocampus Volume_mm3 (mm^3),3781.3,mm^3\n",
      "9,a39eaf16-8993-11ea-9534-f01898563600,age,,,16,\n",
      "10,d3a46f96-8993-11ea-9534-f01898563600,fs_003343,ilx_0738276,Left-Hippocampus Volume_mm3 (mm^3),4145.3,mm^3\n",
      "11,d3a46f96-8993-11ea-9534-f01898563600,age,,,12,\n",
      "12,a393ad32-8993-11ea-9534-f01898563600,fs_003343,ilx_0738276,Left-Hippocampus Volume_mm3 (mm^3),4318.4,mm^3\n",
      "13,a393ad32-8993-11ea-9534-f01898563600,age,,,21,\n",
      "14,c38a805e-8993-11ea-9534-f01898563600,fs_003343,ilx_0738276,Left-Hippocampus Volume_mm3 (mm^3),4297.1,mm^3\n",
      "15,c38a805e-8993-11ea-9534-f01898563600,age,,,9,\n",
      "16,c39b1de2-8993-11ea-9534-f01898563600,fs_003343,ilx_0738276,Left-Hippocampus Volume_mm3 (mm^3),4616.9,mm^3\n",
      "17,c39b1de2-8993-11ea-9534-f01898563600,age,,,11,\n",
      "18,d38fed82-8993-11ea-9534-f01898563600,fs_003343,ilx_0738276,Left-Hippocampus Volume_mm3 (mm^3),3970.7,mm^3\n",
      "19,d38fed82-8993-11ea-9534-f01898563600,age,,,9,\n",
      "20,d391b5ea-8993-11ea-9534-f01898563600,fs_003343,ilx_0738276,Left-Hippocampus Volume_mm3 (mm^3),4272.2,mm^3\n",
      "21,d391b5ea-8993-11ea-9534-f01898563600,age,,,13,\n",
      "22,d39ce5f0-8993-11ea-9534-f01898563600,fs_003343,ilx_0738276,Left-Hippocampus Volume_mm3 (mm^3),4282.0,mm^3\n",
      "23,d39ce5f0-8993-11ea-9534-f01898563600,age,,,15,\n",
      "24,c38c4ad8-8993-11ea-9534-f01898563600,fs_003343,ilx_0738276,Left-Hippocampus Volume_mm3 (mm^3),3767.3,mm^3\n",
      "25,c38c4ad8-8993-11ea-9534-f01898563600,age,,,22,\n",
      "26,a3889c58-8993-11ea-9534-f01898563600,fs_003343,ilx_0738276,Left-Hippocampus Volume_mm3 (mm^3),4787.0,mm^3\n",
      "27,a3889c58-8993-11ea-9534-f01898563600,age,,,19,\n",
      "28,c38e263c-8993-11ea-9534-f01898563600,fs_003343,ilx_0738276,Left-Hippocampus Volume_mm3 (mm^3),4089.1,mm^3\n",
      "29,c38e263c-8993-11ea-9534-f01898563600,age,,,8,\n",
      "30,a386962e-8993-11ea-9534-f01898563600,fs_003343,ilx_0738276,Left-Hippocampus Volume_mm3 (mm^3),5061.6,mm^3\n",
      "31,a386962e-8993-11ea-9534-f01898563600,age,,,21,\n",
      "32,d3a08462-8993-11ea-9534-f01898563600,fs_003343,ilx_0738276,Left-Hippocampus Volume_mm3 (mm^3),2769.4,mm^3\n",
      "33,d3a08462-8993-11ea-9534-f01898563600,age,,,15,\n"
     ]
    }
   ],
   "source": [
    "cat age_hippo_raw.csv"
   ]
  },
  {
   "cell_type": "code",
   "execution_count": 59,
   "metadata": {},
   "outputs": [],
   "source": [
    "tail -n +2 age_hippo_raw.csv  | paste -d , - - > age_hippo.csv"
   ]
  },
  {
   "cell_type": "code",
   "execution_count": 60,
   "metadata": {
    "scrolled": true
   },
   "outputs": [
    {
     "name": "stdout",
     "output_type": "stream",
     "text": [
      "0,c395b12c-8993-11ea-9534-f01898563600,fs_003343,ilx_0738276,Left-Hippocampus Volume_mm3 (mm^3),4722.7,mm^3,1,c395b12c-8993-11ea-9534-f01898563600,age,,,14,\n",
      "2,c3a285dc-8993-11ea-9534-f01898563600,fs_003343,ilx_0738276,Left-Hippocampus Volume_mm3 (mm^3),3838.9,mm^3,3,c3a285dc-8993-11ea-9534-f01898563600,age,,,9,\n",
      "4,a39786be-8993-11ea-9534-f01898563600,fs_003343,ilx_0738276,Left-Hippocampus Volume_mm3 (mm^3),4050.6,mm^3,5,a39786be-8993-11ea-9534-f01898563600,age,,,20,\n",
      "6,a3994fc6-8993-11ea-9534-f01898563600,fs_003343,ilx_0738276,Left-Hippocampus Volume_mm3 (mm^3),5014.5,mm^3,7,a3994fc6-8993-11ea-9534-f01898563600,age,,,12,\n",
      "8,a39eaf16-8993-11ea-9534-f01898563600,fs_003343,ilx_0738276,Left-Hippocampus Volume_mm3 (mm^3),3781.3,mm^3,9,a39eaf16-8993-11ea-9534-f01898563600,age,,,16,\n",
      "10,d3a46f96-8993-11ea-9534-f01898563600,fs_003343,ilx_0738276,Left-Hippocampus Volume_mm3 (mm^3),4145.3,mm^3,11,d3a46f96-8993-11ea-9534-f01898563600,age,,,12,\n",
      "12,a393ad32-8993-11ea-9534-f01898563600,fs_003343,ilx_0738276,Left-Hippocampus Volume_mm3 (mm^3),4318.4,mm^3,13,a393ad32-8993-11ea-9534-f01898563600,age,,,21,\n",
      "14,c38a805e-8993-11ea-9534-f01898563600,fs_003343,ilx_0738276,Left-Hippocampus Volume_mm3 (mm^3),4297.1,mm^3,15,c38a805e-8993-11ea-9534-f01898563600,age,,,9,\n",
      "16,c39b1de2-8993-11ea-9534-f01898563600,fs_003343,ilx_0738276,Left-Hippocampus Volume_mm3 (mm^3),4616.9,mm^3,17,c39b1de2-8993-11ea-9534-f01898563600,age,,,11,\n",
      "18,d38fed82-8993-11ea-9534-f01898563600,fs_003343,ilx_0738276,Left-Hippocampus Volume_mm3 (mm^3),3970.7,mm^3,19,d38fed82-8993-11ea-9534-f01898563600,age,,,9,\n",
      "20,d391b5ea-8993-11ea-9534-f01898563600,fs_003343,ilx_0738276,Left-Hippocampus Volume_mm3 (mm^3),4272.2,mm^3,21,d391b5ea-8993-11ea-9534-f01898563600,age,,,13,\n",
      "22,d39ce5f0-8993-11ea-9534-f01898563600,fs_003343,ilx_0738276,Left-Hippocampus Volume_mm3 (mm^3),4282.0,mm^3,23,d39ce5f0-8993-11ea-9534-f01898563600,age,,,15,\n",
      "24,c38c4ad8-8993-11ea-9534-f01898563600,fs_003343,ilx_0738276,Left-Hippocampus Volume_mm3 (mm^3),3767.3,mm^3,25,c38c4ad8-8993-11ea-9534-f01898563600,age,,,22,\n",
      "26,a3889c58-8993-11ea-9534-f01898563600,fs_003343,ilx_0738276,Left-Hippocampus Volume_mm3 (mm^3),4787.0,mm^3,27,a3889c58-8993-11ea-9534-f01898563600,age,,,19,\n",
      "28,c38e263c-8993-11ea-9534-f01898563600,fs_003343,ilx_0738276,Left-Hippocampus Volume_mm3 (mm^3),4089.1,mm^3,29,c38e263c-8993-11ea-9534-f01898563600,age,,,8,\n",
      "30,a386962e-8993-11ea-9534-f01898563600,fs_003343,ilx_0738276,Left-Hippocampus Volume_mm3 (mm^3),5061.6,mm^3,31,a386962e-8993-11ea-9534-f01898563600,age,,,21,\n",
      "32,d3a08462-8993-11ea-9534-f01898563600,fs_003343,ilx_0738276,Left-Hippocampus Volume_mm3 (mm^3),2769.4,mm^3,33,d3a08462-8993-11ea-9534-f01898563600,age,,,15,\n"
     ]
    }
   ],
   "source": [
    "cat age_hippo.csv"
   ]
  },
  {
   "cell_type": "code",
   "execution_count": 61,
   "metadata": {},
   "outputs": [
    {
     "name": "stdout",
     "output_type": "stream",
     "text": [
      "#!/usr/bin/env python3\n",
      "\n",
      "import sys\n",
      "import matplotlib.pyplot as plt\n",
      "import pandas as pd\n",
      "\n",
      "if len(sys.argv) == 3:\n",
      "    local_file = sys.argv[1]\n",
      "    adhd200_file = None\n",
      "    out_file = sys.argv[2]\n",
      "else:\n",
      "    local_file = sys.argv[1]\n",
      "    adhd200_file = sys.argv[2]\n",
      "    out_file = sys.argv[3]\n",
      "\n",
      "if not adhd200_file:\n",
      "    data = pd.read_csv(local_file, header=None)\n",
      "    plt.plot(data[12], data[5], 'k.')\n",
      "else:\n",
      "    data1 = pd.read_csv(local_file, header=None)\n",
      "    plt.plot(data1[12], data1[5], 'b.', label='Local data')\n",
      "    data2 = pd.read_csv('adhd200_age_hippo.csv', header=None)\n",
      "    plt.plot(data2[12], data2[5], 'r.', label='ADHD-200 data')\n",
      "    plt.legend()\n",
      "\n",
      "plt.title('Hippocampus volume vs age')\n",
      "plt.xlabel('Age (years)')\n",
      "plt.ylabel('Volume (mm$^3$)')\n",
      "plt.savefig(out_file)\n",
      "\n",
      "sys.exit(0)\n",
      "\n",
      "# eof\n"
     ]
    }
   ],
   "source": [
    "cat plot"
   ]
  },
  {
   "cell_type": "code",
   "execution_count": 62,
   "metadata": {},
   "outputs": [],
   "source": [
    "./plot age_hippo.csv vol_vs_age.png"
   ]
  },
  {
   "cell_type": "code",
   "execution_count": 63,
   "metadata": {},
   "outputs": [
    {
     "name": "stdout",
     "output_type": "stream",
     "text": []
    },
    {
     "data": {
      "image/png": "[encoded data removed]"
     },
     "metadata": {},
     "output_type": "display_data"
    }
   ],
   "source": [
    "display < vol_vs_age.png"
   ]
  },
  {
   "cell_type": "code",
   "execution_count": 64,
   "metadata": {},
   "outputs": [
    {
     "name": "stdout",
     "output_type": "stream",
     "text": [
      "  % Total    % Received % Xferd  Average Speed   Time    Time     Time  Current\n",
      "                                 Dload  Upload   Total   Spent    Left  Speed\n",
      "100  760k  100  760k    0     0  1357k      0 --:--:-- --:--:-- --:--:-- 1355k\n"
     ]
    }
   ],
   "source": [
    "curl -o adhd200_brown.ttl https://raw.githubusercontent.com/dbkeator/simple2_NIDM_examples/master/datasets.datalad.org/adhd200/RawDataBIDS/Brown/nidm.ttl"
   ]
  },
  {
   "cell_type": "code",
   "execution_count": 66,
   "metadata": {},
   "outputs": [
    {
     "name": "stdout",
     "output_type": "stream",
     "text": [
      "UUID\n",
      "------------------------------------\n",
      "aedd7d40-6181-11ea-ab38-003ee1ce9545\n",
      "\n",
      "real\t0m2.562s\n",
      "user\t0m2.480s\n",
      "sys\t0m0.255s\n"
     ]
    }
   ],
   "source": [
    "pynidm query -nl adhd200_brown.ttl -u /projects"
   ]
  },
  {
   "cell_type": "code",
   "execution_count": 67,
   "metadata": {},
   "outputs": [
    {
     "name": "stdout",
     "output_type": "stream",
     "text": [
      "\n",
      "real\t0m55.749s\n",
      "user\t0m54.774s\n",
      "sys\t0m0.478s\n"
     ]
    }
   ],
   "source": [
    "pynidm query -nl adhd200_brown.ttl -u /projects/aedd7d40-6181-11ea-ab38-003ee1ce9545?fields=age,fs_003343 -o adhd200_age_hippo_raw.csv"
   ]
  },
  {
   "cell_type": "code",
   "execution_count": 68,
   "metadata": {},
   "outputs": [],
   "source": [
    "tail -n +2 adhd200_age_hippo_raw.csv  | paste -d , - - > adhd200_age_hippo.csv"
   ]
  },
  {
   "cell_type": "code",
   "execution_count": 69,
   "metadata": {},
   "outputs": [],
   "source": [
    "./plot age_hippo.csv adhd200_age_hippo.csv all_vol_vs_age.png"
   ]
  },
  {
   "cell_type": "code",
   "execution_count": 70,
   "metadata": {},
   "outputs": [
    {
     "name": "stdout",
     "output_type": "stream",
     "text": []
    },
    {
     "data": {
      "image/png": "[encoded data removed]"
     },
     "metadata": {},
     "output_type": "display_data"
    }
   ],
   "source": [
    "display < all_vol_vs_age.png"
   ]
  },
  {
   "cell_type": "code",
   "execution_count": null,
   "metadata": {},
   "outputs": [],
   "source": []
  }
 ],
 "metadata": {
  "kernelspec": {
   "display_name": "Bash",
   "language": "bash",
   "name": "bash"
  },
  "language_info": {
   "codemirror_mode": "shell",
   "file_extension": ".sh",
   "mimetype": "text/x-sh",
   "name": "bash"
  }
 },
 "nbformat": 4,
 "nbformat_minor": 4
}
